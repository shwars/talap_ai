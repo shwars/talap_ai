{
 "cells": [
  {
   "cell_type": "markdown",
   "metadata": {},
   "source": [
    "## Машинное обучение: регрессия\n",
    "\n",
    "Регрессия - это класс алгоритмов машинного обучения, в которых нам необходимо научиться предсказывать значение некоторой численной величины."
   ]
  },
  {
   "cell_type": "code",
   "execution_count": 2,
   "metadata": {},
   "outputs": [],
   "source": [
    "import numpy as np\n",
    "import pandas as pd\n",
    "import matplotlib.pyplot as plt\n",
    "import sklearn as sk\n",
    "import sklearn.model_selection\n",
    "import sklearn.preprocessing\n",
    "import sklearn.pipeline\n",
    "import sklearn.linear_model\n",
    "import sklearn.compose\n",
    "import sklearn.tree"
   ]
  },
  {
   "cell_type": "markdown",
   "metadata": {},
   "source": [
    "В качестве пример рассмотрим датасет стоимости железнодорожных билетов между некоторыми европейскими городами:"
   ]
  },
  {
   "cell_type": "code",
   "execution_count": 3,
   "metadata": {},
   "outputs": [
    {
     "data": {
      "text/html": [
       "<div>\n",
       "<style scoped>\n",
       "    .dataframe tbody tr th:only-of-type {\n",
       "        vertical-align: middle;\n",
       "    }\n",
       "\n",
       "    .dataframe tbody tr th {\n",
       "        vertical-align: top;\n",
       "    }\n",
       "\n",
       "    .dataframe thead th {\n",
       "        text-align: right;\n",
       "    }\n",
       "</style>\n",
       "<table border=\"1\" class=\"dataframe\">\n",
       "  <thead>\n",
       "    <tr style=\"text-align: right;\">\n",
       "      <th></th>\n",
       "      <th>Unnamed: 0</th>\n",
       "      <th>id</th>\n",
       "      <th>company</th>\n",
       "      <th>origin</th>\n",
       "      <th>destination</th>\n",
       "      <th>departure</th>\n",
       "      <th>arrival</th>\n",
       "      <th>duration</th>\n",
       "      <th>vehicle_type</th>\n",
       "      <th>vehicle_class</th>\n",
       "      <th>price</th>\n",
       "      <th>fare</th>\n",
       "      <th>seats</th>\n",
       "      <th>departure_hour</th>\n",
       "      <th>geodistance</th>\n",
       "    </tr>\n",
       "  </thead>\n",
       "  <tbody>\n",
       "    <tr>\n",
       "      <th>0</th>\n",
       "      <td>37402744</td>\n",
       "      <td>37402745</td>\n",
       "      <td>renfe</td>\n",
       "      <td>MADRID</td>\n",
       "      <td>BARCELONA</td>\n",
       "      <td>2020-09-28</td>\n",
       "      <td>2020-09-28</td>\n",
       "      <td>2.83</td>\n",
       "      <td>AVE</td>\n",
       "      <td>Turista</td>\n",
       "      <td>108.90</td>\n",
       "      <td>Flexible</td>\n",
       "      <td>232.0</td>\n",
       "      <td>18</td>\n",
       "      <td>506.741151</td>\n",
       "    </tr>\n",
       "    <tr>\n",
       "      <th>1</th>\n",
       "      <td>37402745</td>\n",
       "      <td>37402746</td>\n",
       "      <td>renfe</td>\n",
       "      <td>MADRID</td>\n",
       "      <td>BARCELONA</td>\n",
       "      <td>2020-09-28</td>\n",
       "      <td>2020-09-28</td>\n",
       "      <td>2.50</td>\n",
       "      <td>AVE</td>\n",
       "      <td>Turista Plus</td>\n",
       "      <td>115.65</td>\n",
       "      <td>Promo +</td>\n",
       "      <td>40.0</td>\n",
       "      <td>19</td>\n",
       "      <td>506.741151</td>\n",
       "    </tr>\n",
       "    <tr>\n",
       "      <th>2</th>\n",
       "      <td>37402746</td>\n",
       "      <td>37402747</td>\n",
       "      <td>renfe</td>\n",
       "      <td>MADRID</td>\n",
       "      <td>BARCELONA</td>\n",
       "      <td>2020-09-28</td>\n",
       "      <td>2020-09-28</td>\n",
       "      <td>3.17</td>\n",
       "      <td>AVE</td>\n",
       "      <td>Turista</td>\n",
       "      <td>108.90</td>\n",
       "      <td>Flexible</td>\n",
       "      <td>177.0</td>\n",
       "      <td>20</td>\n",
       "      <td>506.741151</td>\n",
       "    </tr>\n",
       "    <tr>\n",
       "      <th>3</th>\n",
       "      <td>37402747</td>\n",
       "      <td>37402748</td>\n",
       "      <td>renfe</td>\n",
       "      <td>MADRID</td>\n",
       "      <td>BARCELONA</td>\n",
       "      <td>2020-10-10</td>\n",
       "      <td>2020-10-10</td>\n",
       "      <td>3.17</td>\n",
       "      <td>AVE</td>\n",
       "      <td>Turista</td>\n",
       "      <td>108.90</td>\n",
       "      <td>Flexible</td>\n",
       "      <td>279.0</td>\n",
       "      <td>7</td>\n",
       "      <td>506.741151</td>\n",
       "    </tr>\n",
       "    <tr>\n",
       "      <th>4</th>\n",
       "      <td>37402748</td>\n",
       "      <td>37402749</td>\n",
       "      <td>renfe</td>\n",
       "      <td>MADRID</td>\n",
       "      <td>BARCELONA</td>\n",
       "      <td>2020-10-10</td>\n",
       "      <td>2020-10-10</td>\n",
       "      <td>3.07</td>\n",
       "      <td>AVE</td>\n",
       "      <td>Turista</td>\n",
       "      <td>108.90</td>\n",
       "      <td>Flexible</td>\n",
       "      <td>238.0</td>\n",
       "      <td>9</td>\n",
       "      <td>506.741151</td>\n",
       "    </tr>\n",
       "    <tr>\n",
       "      <th>...</th>\n",
       "      <td>...</td>\n",
       "      <td>...</td>\n",
       "      <td>...</td>\n",
       "      <td>...</td>\n",
       "      <td>...</td>\n",
       "      <td>...</td>\n",
       "      <td>...</td>\n",
       "      <td>...</td>\n",
       "      <td>...</td>\n",
       "      <td>...</td>\n",
       "      <td>...</td>\n",
       "      <td>...</td>\n",
       "      <td>...</td>\n",
       "      <td>...</td>\n",
       "      <td>...</td>\n",
       "    </tr>\n",
       "    <tr>\n",
       "      <th>1246671</th>\n",
       "      <td>38753055</td>\n",
       "      <td>38753056</td>\n",
       "      <td>renfe</td>\n",
       "      <td>ZARAGOZA</td>\n",
       "      <td>BARCELONA</td>\n",
       "      <td>2020-10-08</td>\n",
       "      <td>2020-10-08</td>\n",
       "      <td>1.85</td>\n",
       "      <td>AVE</td>\n",
       "      <td>Turista Plus</td>\n",
       "      <td>54.75</td>\n",
       "      <td>Promo +</td>\n",
       "      <td>15.0</td>\n",
       "      <td>18</td>\n",
       "      <td>256.506445</td>\n",
       "    </tr>\n",
       "    <tr>\n",
       "      <th>1246672</th>\n",
       "      <td>38753056</td>\n",
       "      <td>38753057</td>\n",
       "      <td>renfe</td>\n",
       "      <td>ZARAGOZA</td>\n",
       "      <td>BARCELONA</td>\n",
       "      <td>2020-10-08</td>\n",
       "      <td>2020-10-08</td>\n",
       "      <td>1.80</td>\n",
       "      <td>AVE</td>\n",
       "      <td>Turista</td>\n",
       "      <td>60.90</td>\n",
       "      <td>Flexible</td>\n",
       "      <td>215.0</td>\n",
       "      <td>18</td>\n",
       "      <td>256.506445</td>\n",
       "    </tr>\n",
       "    <tr>\n",
       "      <th>1246673</th>\n",
       "      <td>38753057</td>\n",
       "      <td>38753058</td>\n",
       "      <td>renfe</td>\n",
       "      <td>ZARAGOZA</td>\n",
       "      <td>BARCELONA</td>\n",
       "      <td>2020-10-08</td>\n",
       "      <td>2020-10-08</td>\n",
       "      <td>2.12</td>\n",
       "      <td>ALVIA</td>\n",
       "      <td>Turista</td>\n",
       "      <td>53.60</td>\n",
       "      <td>Flexible</td>\n",
       "      <td>20.0</td>\n",
       "      <td>19</td>\n",
       "      <td>256.506445</td>\n",
       "    </tr>\n",
       "    <tr>\n",
       "      <th>1246674</th>\n",
       "      <td>38753058</td>\n",
       "      <td>38753059</td>\n",
       "      <td>renfe</td>\n",
       "      <td>ZARAGOZA</td>\n",
       "      <td>BARCELONA</td>\n",
       "      <td>2020-10-08</td>\n",
       "      <td>2020-10-08</td>\n",
       "      <td>1.57</td>\n",
       "      <td>AVE</td>\n",
       "      <td>Turista</td>\n",
       "      <td>60.90</td>\n",
       "      <td>Flexible</td>\n",
       "      <td>29.0</td>\n",
       "      <td>19</td>\n",
       "      <td>256.506445</td>\n",
       "    </tr>\n",
       "    <tr>\n",
       "      <th>1246675</th>\n",
       "      <td>38753059</td>\n",
       "      <td>38753060</td>\n",
       "      <td>renfe</td>\n",
       "      <td>ZARAGOZA</td>\n",
       "      <td>BARCELONA</td>\n",
       "      <td>2020-10-08</td>\n",
       "      <td>2020-10-08</td>\n",
       "      <td>1.75</td>\n",
       "      <td>AVE</td>\n",
       "      <td>Turista</td>\n",
       "      <td>51.15</td>\n",
       "      <td>Promo +</td>\n",
       "      <td>228.0</td>\n",
       "      <td>21</td>\n",
       "      <td>256.506445</td>\n",
       "    </tr>\n",
       "  </tbody>\n",
       "</table>\n",
       "<p>1246676 rows × 15 columns</p>\n",
       "</div>"
      ],
      "text/plain": [
       "         Unnamed: 0        id company    origin destination   departure  \\\n",
       "0          37402744  37402745   renfe    MADRID   BARCELONA  2020-09-28   \n",
       "1          37402745  37402746   renfe    MADRID   BARCELONA  2020-09-28   \n",
       "2          37402746  37402747   renfe    MADRID   BARCELONA  2020-09-28   \n",
       "3          37402747  37402748   renfe    MADRID   BARCELONA  2020-10-10   \n",
       "4          37402748  37402749   renfe    MADRID   BARCELONA  2020-10-10   \n",
       "...             ...       ...     ...       ...         ...         ...   \n",
       "1246671    38753055  38753056   renfe  ZARAGOZA   BARCELONA  2020-10-08   \n",
       "1246672    38753056  38753057   renfe  ZARAGOZA   BARCELONA  2020-10-08   \n",
       "1246673    38753057  38753058   renfe  ZARAGOZA   BARCELONA  2020-10-08   \n",
       "1246674    38753058  38753059   renfe  ZARAGOZA   BARCELONA  2020-10-08   \n",
       "1246675    38753059  38753060   renfe  ZARAGOZA   BARCELONA  2020-10-08   \n",
       "\n",
       "            arrival  duration vehicle_type vehicle_class   price      fare  \\\n",
       "0        2020-09-28      2.83          AVE       Turista  108.90  Flexible   \n",
       "1        2020-09-28      2.50          AVE  Turista Plus  115.65   Promo +   \n",
       "2        2020-09-28      3.17          AVE       Turista  108.90  Flexible   \n",
       "3        2020-10-10      3.17          AVE       Turista  108.90  Flexible   \n",
       "4        2020-10-10      3.07          AVE       Turista  108.90  Flexible   \n",
       "...             ...       ...          ...           ...     ...       ...   \n",
       "1246671  2020-10-08      1.85          AVE  Turista Plus   54.75   Promo +   \n",
       "1246672  2020-10-08      1.80          AVE       Turista   60.90  Flexible   \n",
       "1246673  2020-10-08      2.12        ALVIA       Turista   53.60  Flexible   \n",
       "1246674  2020-10-08      1.57          AVE       Turista   60.90  Flexible   \n",
       "1246675  2020-10-08      1.75          AVE       Turista   51.15   Promo +   \n",
       "\n",
       "         seats  departure_hour  geodistance  \n",
       "0        232.0              18   506.741151  \n",
       "1         40.0              19   506.741151  \n",
       "2        177.0              20   506.741151  \n",
       "3        279.0               7   506.741151  \n",
       "4        238.0               9   506.741151  \n",
       "...        ...             ...          ...  \n",
       "1246671   15.0              18   256.506445  \n",
       "1246672  215.0              18   256.506445  \n",
       "1246673   20.0              19   256.506445  \n",
       "1246674   29.0              19   256.506445  \n",
       "1246675  228.0              21   256.506445  \n",
       "\n",
       "[1246676 rows x 15 columns]"
      ]
     },
     "execution_count": 3,
     "metadata": {},
     "output_type": "execute_result"
    }
   ],
   "source": [
    "df = pd.read_csv(\"renfe-rail-sample.zip\",compression='zip')\n",
    "df"
   ]
  },
  {
   "cell_type": "markdown",
   "metadata": {},
   "source": [
    "Разобьем весь датасет на обучающую и тестовую выборку:"
   ]
  },
  {
   "cell_type": "code",
   "execution_count": 4,
   "metadata": {},
   "outputs": [],
   "source": [
    "df_train, df_test = sk.model_selection.train_test_split(df,train_size=0.8)"
   ]
  },
  {
   "cell_type": "markdown",
   "metadata": {},
   "source": [
    "Попробуем использовать один параметр для прогнозирования - расстояние между городами. Для начала, изобразим это на графике:"
   ]
  },
  {
   "cell_type": "code",
   "execution_count": 9,
   "metadata": {},
   "outputs": [
    {
     "data": {
      "image/png": "[encoded data removed]",
      "text/plain": [
       "<Figure size 432x288 with 1 Axes>"
      ]
     },
     "metadata": {
      "needs_background": "light"
     },
     "output_type": "display_data"
    }
   ],
   "source": [
    "X = df_train[[\"geodistance\"]]\n",
    "Y = df_train[\"price\"]\n",
    "plt.scatter(X,Y)\n",
    "plt.show()"
   ]
  },
  {
   "attachments": {},
   "cell_type": "markdown",
   "metadata": {},
   "source": [
    "### Линейная регрессия \n",
    "\n",
    "Линейная регрессия - простейшая модель, в которой функция предсказания цены будет линейной: $f_{a,b}(x) = ax+b$. Здесь $a$ и $b$ - параметры модели, которые необходимо подобрать.\n",
    "\n",
    "В качестве функции ошибки возьмём среднеквадратичное отклонение, тогда ошибка\n",
    "\n",
    "$$\n",
    "L(a,b) = \\sum_i (f_{a,b}(x_i)-y_i)^2 = \\sum_i (ax_i+b-y_i)^2\n",
    "$$\n",
    "\n",
    "Для нахождения минимума ошибки можно использовать несколько методов:\n",
    "\n",
    "* Метод наименьших квадратов (точное решение, хорошо для небольшой размерности)\n",
    "* Метод градиентного спуска (для оптимизации многомерных задач)\n",
    "* Другие численные методы оптимизации\n",
    "\n",
    "Мы будем использовать библиотеку Scikit Learn для решения задачи регрессии:"
   ]
  },
  {
   "cell_type": "code",
   "execution_count": 12,
   "metadata": {},
   "outputs": [
    {
     "data": {
      "text/plain": [
       "(array([0.15102869]), 2.150784071365237)"
      ]
     },
     "execution_count": 12,
     "metadata": {},
     "output_type": "execute_result"
    }
   ],
   "source": [
    "model = sk.linear_model.LinearRegression()\n",
    "model.fit(X,Y)\n",
    "\n",
    "model.coef_, model.intercept_"
   ]
  },
  {
   "cell_type": "code",
   "execution_count": 14,
   "metadata": {},
   "outputs": [
    {
     "data": {
      "image/png": "[encoded data removed]",
      "text/plain": [
       "<Figure size 432x288 with 1 Axes>"
      ]
     },
     "metadata": {
      "needs_background": "light"
     },
     "output_type": "display_data"
    }
   ],
   "source": [
    "plt.scatter(X,Y)\n",
    "plt.plot(X,X*model.coef_[0]+model.intercept_, color='r')\n",
    "plt.show()"
   ]
  },
  {
   "cell_type": "markdown",
   "metadata": {},
   "source": [
    "Посчитаем ошибку на тестовой выборке. Типовые ошибки для регрессии (здесь за $y$ обозначено целевое значение, $\\hat y$ - предсказанное значение):\n",
    "\n",
    "* Среднеквадратичное отклонение (MSE, Mean Squared Error):\n",
    "\n",
    "$$\n",
    "{\\mathrm MSE}(y,\\hat y) = {1\\over n}\\sum_{i=1}^N (y_i-\\hat y_i)^2\n",
    "$$\n",
    "\n",
    "* Средняя ошибка (MAE, Mean Absolute Error):\n",
    "\n",
    "$$\n",
    "{\\mathrm MAE}(y,\\hat y) = {1\\over n}\\sum_{i=1}^N |y_i-\\hat y_i|\n",
    "$$\n",
    "\n",
    "* Относительная средняя ошибка (RMAE, Relative Mean Absolute Error) - показывает, в процентах, на сколько мы ошибаемся относительно среднего значения целевой величины $y$:\n",
    "\n",
    "$$\n",
    "{\\mathrm RMAE}(y,\\hat y) = {\\sum_{i=1}^N |y_i-\\hat y_i| \\over \\sum_{i=1}^N y_i}\n",
    "$$"
   ]
  },
  {
   "cell_type": "code",
   "execution_count": 17,
   "metadata": {},
   "outputs": [
    {
     "name": "stdout",
     "output_type": "stream",
     "text": [
      "MSE=16.211410019493478, MAE=13.522816511278055, MAE(%)=0.2825811346789957\n"
     ]
    }
   ],
   "source": [
    "X_t, Y_t = df_test[[\"geodistance\"]], df_test[\"price\"]\n",
    "Y_p = model.predict(X_t)\n",
    "\n",
    "def MSE(x,y):\n",
    "    return np.mean(np.square(x-y)) \n",
    "\n",
    "def MAE(x,y):\n",
    "    return np.mean(np.abs(x-y))\n",
    "\n",
    "print(f\"MSE={np.sqrt(MSE(Y_p,Y_t))}, MAE={MAE(Y_p,Y_t)}, MAE(%)={MAE(Y_p,Y_t)/Y_t.mean()}\")"
   ]
  },
  {
   "attachments": {},
   "cell_type": "markdown",
   "metadata": {},
   "source": [
    "Итак, мы научились предсказывать стоимость билета с ошибкой в 28%.\n",
    "\n",
    "Попробуем добавить параметров:"
   ]
  },
  {
   "cell_type": "code",
   "execution_count": 19,
   "metadata": {},
   "outputs": [
    {
     "data": {
      "text/plain": [
       "(array([ 0.17523898, -3.95884765,  0.20209374]), 2.085258631436929)"
      ]
     },
     "execution_count": 19,
     "metadata": {},
     "output_type": "execute_result"
    }
   ],
   "source": [
    "features = [\"geodistance\",\"duration\",\"departure_hour\"]\n",
    "X = df_train[features]\n",
    "X_t = df_test[features]\n",
    "\n",
    "model = sk.linear_model.LinearRegression()\n",
    "model.fit(X,Y)\n",
    "\n",
    "model.coef_, model.intercept_"
   ]
  },
  {
   "cell_type": "code",
   "execution_count": 20,
   "metadata": {},
   "outputs": [
    {
     "name": "stdout",
     "output_type": "stream",
     "text": [
      "MSE=224.2424391822809, MAE=11.956628081584757, MAE(%)=0.2499405471339483\n"
     ]
    }
   ],
   "source": [
    "Y_p = model.predict(X_t)\n",
    "\n",
    "print(f\"MSE={sk.metrics.mean_squared_error(Y_p,Y_t)}, MAE={sk.metrics.mean_absolute_error(Y_p,Y_t)}, MAE(%)={sk.metrics.mean_absolute_percentage_error(Y_p,Y_t)}\")"
   ]
  },
  {
   "cell_type": "markdown",
   "metadata": {},
   "source": [
    "### Категориальные признаки\n",
    "\n",
    "Наверное, основной вклад в предсказание цены вносят такие параметры, как класс или используемый тариф:"
   ]
  },
  {
   "cell_type": "code",
   "execution_count": 16,
   "metadata": {},
   "outputs": [
    {
     "data": {
      "text/plain": [
       "Promo +       566980\n",
       "Flexible      422474\n",
       "Adulto ida    257222\n",
       "Name: fare, dtype: int64"
      ]
     },
     "execution_count": 16,
     "metadata": {},
     "output_type": "execute_result"
    }
   ],
   "source": [
    "df[\"fare\"].value_counts()"
   ]
  },
  {
   "cell_type": "markdown",
   "metadata": {},
   "source": [
    "Построим среднее значение цены в зависимости от тарифа:"
   ]
  },
  {
   "cell_type": "code",
   "execution_count": 17,
   "metadata": {},
   "outputs": [
    {
     "data": {
      "text/plain": [
       "<AxesSubplot:xlabel='fare'>"
      ]
     },
     "execution_count": 17,
     "metadata": {},
     "output_type": "execute_result"
    },
    {
     "data": {
      "image/png": "[encoded data removed]",
      "text/plain": [
       "<Figure size 432x288 with 1 Axes>"
      ]
     },
     "metadata": {
      "needs_background": "light"
     },
     "output_type": "display_data"
    }
   ],
   "source": [
    "df.groupby('fare').mean()['price'].plot(kind='bar')"
   ]
  },
  {
   "cell_type": "markdown",
   "metadata": {},
   "source": [
    "Для представления категориальных признаков, можно использовать различные подходы:\n",
    "* Простой **Label Encoding**, когда каждое уникальное значение заменяется соответствующим численным значением. Этот способ хорошо использовать тогда, когда категориальные значения некоторым образом логически упорядочены, например оценки **удовлетворительно**, **хорошо** и **отлично** можно заменять цифрами 1, 2 и 3 соответственно - это отражает логическую зависимость в данных. Такой подход нельзя применять для неупорядоченных значений, например, цветов - в этом случае мы вносим дополнительные зависимости в данные, которых там не было.\n",
    "* **One-Hot Encoding**, в котором для каждого значения заводится отдельный столбец из нулей или единиц. Например, для цветов, красный может представляться вектором (1,0,0,0,0,0,0), а зелёный: (0,0,0,1,0,0,0).\n",
    "* Есть и другие способы кодирования, описанные [в этой заметке](https://habr.com/ru/post/666234/)\n",
    "\n",
    "В нашем случае, мы можем использовать оба подхода. С учётом построенного выше графика, тарифы можно расположить в порядке возрастания цены: Adulto, Promo+, Flexible - и закодировать соответственно цифрами 0, 1 и 2. Либо использовать one-hot encoding. \n",
    "\n",
    "Попробуем использовать one-hot encoding. В `pandas` можно использовать фукнцию `get_dummies`:"
   ]
  },
  {
   "cell_type": "code",
   "execution_count": null,
   "metadata": {},
   "outputs": [],
   "source": [
    "pd.get_dummies(df[\"fare\"])"
   ]
  },
  {
   "cell_type": "code",
   "execution_count": 31,
   "metadata": {},
   "outputs": [
    {
     "data": {
      "text/html": [
       "<div>\n",
       "<style scoped>\n",
       "    .dataframe tbody tr th:only-of-type {\n",
       "        vertical-align: middle;\n",
       "    }\n",
       "\n",
       "    .dataframe tbody tr th {\n",
       "        vertical-align: top;\n",
       "    }\n",
       "\n",
       "    .dataframe thead th {\n",
       "        text-align: right;\n",
       "    }\n",
       "</style>\n",
       "<table border=\"1\" class=\"dataframe\">\n",
       "  <thead>\n",
       "    <tr style=\"text-align: right;\">\n",
       "      <th></th>\n",
       "      <th>geodistance</th>\n",
       "      <th>fare_Adulto ida</th>\n",
       "      <th>fare_Promo +</th>\n",
       "      <th>fare_Flexible</th>\n",
       "    </tr>\n",
       "  </thead>\n",
       "  <tbody>\n",
       "    <tr>\n",
       "      <th>760332</th>\n",
       "      <td>288.173699</td>\n",
       "      <td>0</td>\n",
       "      <td>1</td>\n",
       "      <td>0</td>\n",
       "    </tr>\n",
       "    <tr>\n",
       "      <th>304148</th>\n",
       "      <td>303.180694</td>\n",
       "      <td>0</td>\n",
       "      <td>1</td>\n",
       "      <td>0</td>\n",
       "    </tr>\n",
       "    <tr>\n",
       "      <th>989303</th>\n",
       "      <td>161.318295</td>\n",
       "      <td>1</td>\n",
       "      <td>0</td>\n",
       "      <td>0</td>\n",
       "    </tr>\n",
       "    <tr>\n",
       "      <th>213138</th>\n",
       "      <td>506.741151</td>\n",
       "      <td>0</td>\n",
       "      <td>1</td>\n",
       "      <td>0</td>\n",
       "    </tr>\n",
       "    <tr>\n",
       "      <th>808565</th>\n",
       "      <td>303.573264</td>\n",
       "      <td>0</td>\n",
       "      <td>1</td>\n",
       "      <td>0</td>\n",
       "    </tr>\n",
       "    <tr>\n",
       "      <th>...</th>\n",
       "      <td>...</td>\n",
       "      <td>...</td>\n",
       "      <td>...</td>\n",
       "      <td>...</td>\n",
       "    </tr>\n",
       "    <tr>\n",
       "      <th>98533</th>\n",
       "      <td>303.573264</td>\n",
       "      <td>1</td>\n",
       "      <td>0</td>\n",
       "      <td>0</td>\n",
       "    </tr>\n",
       "    <tr>\n",
       "      <th>568223</th>\n",
       "      <td>161.318295</td>\n",
       "      <td>1</td>\n",
       "      <td>0</td>\n",
       "      <td>0</td>\n",
       "    </tr>\n",
       "    <tr>\n",
       "      <th>1192106</th>\n",
       "      <td>296.103026</td>\n",
       "      <td>0</td>\n",
       "      <td>1</td>\n",
       "      <td>0</td>\n",
       "    </tr>\n",
       "    <tr>\n",
       "      <th>847909</th>\n",
       "      <td>296.103026</td>\n",
       "      <td>0</td>\n",
       "      <td>1</td>\n",
       "      <td>0</td>\n",
       "    </tr>\n",
       "    <tr>\n",
       "      <th>116817</th>\n",
       "      <td>256.506445</td>\n",
       "      <td>0</td>\n",
       "      <td>0</td>\n",
       "      <td>1</td>\n",
       "    </tr>\n",
       "  </tbody>\n",
       "</table>\n",
       "<p>997340 rows × 4 columns</p>\n",
       "</div>"
      ],
      "text/plain": [
       "         geodistance  fare_Adulto ida  fare_Promo +  fare_Flexible\n",
       "760332    288.173699                0             1              0\n",
       "304148    303.180694                0             1              0\n",
       "989303    161.318295                1             0              0\n",
       "213138    506.741151                0             1              0\n",
       "808565    303.573264                0             1              0\n",
       "...              ...              ...           ...            ...\n",
       "98533     303.573264                1             0              0\n",
       "568223    161.318295                1             0              0\n",
       "1192106   296.103026                0             1              0\n",
       "847909    296.103026                0             1              0\n",
       "116817    256.506445                0             0              1\n",
       "\n",
       "[997340 rows x 4 columns]"
      ]
     },
     "execution_count": 31,
     "metadata": {},
     "output_type": "execute_result"
    }
   ],
   "source": [
    "X = pd.get_dummies(df_train,columns=[\"fare\"])[['geodistance','fare_Adulto ida','fare_Promo +','fare_Flexible']]\n",
    "X"
   ]
  },
  {
   "cell_type": "code",
   "execution_count": 38,
   "metadata": {},
   "outputs": [
    {
     "name": "stdout",
     "output_type": "stream",
     "text": [
      "Epoch 0: MSE=21202.153278460846\n",
      "Epoch 1: MSE=5383.890981590381\n",
      "Epoch 2: MSE=1506.719181624137\n",
      "Epoch 3: MSE=556.3957703278301\n",
      "Epoch 4: MSE=323.464249880926\n",
      "Epoch 5: MSE=266.3707151103097\n",
      "Epoch 6: MSE=252.37635333322135\n",
      "Epoch 7: MSE=248.94591326134503\n",
      "Epoch 8: MSE=248.10476745680597\n",
      "Epoch 9: MSE=247.89827657058675\n",
      "Epoch 10: MSE=247.84734423381272\n",
      "Epoch 11: MSE=247.83454043624639\n",
      "Epoch 12: MSE=247.83108221982295\n",
      "Epoch 13: MSE=247.82991467617538\n",
      "Epoch 14: MSE=247.82930859360152\n",
      "Epoch 15: MSE=247.82884013187245\n",
      "Epoch 16: MSE=247.82840540142058\n",
      "Epoch 17: MSE=247.82797894038916\n",
      "Epoch 18: MSE=247.82755450891958\n",
      "Epoch 19: MSE=247.82713057416248\n"
     ]
    }
   ],
   "source": [
    "*a, b = np.random.normal(size=5)\n",
    "a = np.array(a)\n",
    "eta = 0.000005\n",
    "for i in range(20):\n",
    "    print(f\"Epoch {i}: MSE={MSE(X@a+b,Y)}\")\n",
    "    # print(f\"a={a},b={b}\")\n",
    "    a,b = a-eta*((X@a+b-Y)*X.T).mean(axis=1), b-eta*(X@a+b-Y).mean()"
   ]
  },
  {
   "cell_type": "markdown",
   "metadata": {},
   "source": [
    "Видим, что точность при использовании дополнительных данных несколько повышается! Это связано с тем, что мы добавляем дополнительную информацию, которая является важной при определении цены билета.\n",
    "\n",
    "Мы можем посмотреть на коэффициенты при различных тарифах, чтобы сделать выводы о том, как они влияют на цену билета. В этом смысле модель является **интерпретируемой**:"
   ]
  },
  {
   "cell_type": "code",
   "execution_count": null,
   "metadata": {},
   "outputs": [],
   "source": [
    "a"
   ]
  },
  {
   "cell_type": "markdown",
   "metadata": {},
   "source": [
    "## Scikit Learn\n",
    "\n",
    "Стандартом де факто для классического машинного обучения является библиотека [Scikit Learn](https://scikit-learn.org/stable/index.html). Реализуем линейную регрессию с помощью этой библиотеки. Для начала, выделим значимые численные и категориальные признаки:"
   ]
  },
  {
   "cell_type": "code",
   "execution_count": 40,
   "metadata": {},
   "outputs": [],
   "source": [
    "numeric = ['geodistance','duration','departure_hour']\n",
    "categorical = ['vehicle_type','vehicle_class','fare']"
   ]
  },
  {
   "cell_type": "markdown",
   "metadata": {},
   "source": [
    "Для обучения линейной регрессии на числовых признаках, используем следующий код:"
   ]
  },
  {
   "cell_type": "code",
   "execution_count": 41,
   "metadata": {},
   "outputs": [],
   "source": [
    "X = df_train[numeric]\n",
    "model = sk.linear_model.LinearRegression()\n",
    "model = model.fit(X,Y)"
   ]
  },
  {
   "cell_type": "markdown",
   "metadata": {},
   "source": [
    "Основной метод для обучения модели - `fit`. По-английски подбор параметров модели называется *fitting the model*, поскольку мы подбираем такие значения параметров, которые минимизируют ошибку.\n",
    "\n",
    "Вычислим точность на тестовой выборке:"
   ]
  },
  {
   "cell_type": "code",
   "execution_count": 42,
   "metadata": {},
   "outputs": [
    {
     "name": "stdout",
     "output_type": "stream",
     "text": [
      "MSE=224.06147183738943, MAE=11.955942874423892, MAE(%)=0.28813535668551027\n"
     ]
    }
   ],
   "source": [
    "X_t = df_test[numeric]\n",
    "Y_t_pred = model.predict(X_t)\n",
    "print(f\"MSE={sk.metrics.mean_squared_error(Y_t,Y_t_pred)}, \\\n",
    "MAE={sk.metrics.mean_absolute_error(Y_t,Y_t_pred)}, \\\n",
    "MAE(%)={sk.metrics.mean_absolute_percentage_error(Y_t,Y_t_pred)}\")"
   ]
  },
  {
   "cell_type": "markdown",
   "metadata": {},
   "source": [
    "Можем посмотреть коэффициенты модели:"
   ]
  },
  {
   "cell_type": "code",
   "execution_count": 43,
   "metadata": {},
   "outputs": [
    {
     "name": "stdout",
     "output_type": "stream",
     "text": [
      "Coefficients=[ 0.17559789 -3.96937366  0.2006598 ], bias=2.0331908705938346\n"
     ]
    }
   ],
   "source": [
    "print(f\"Coefficients={model.coef_}, bias={model.intercept_}\")"
   ]
  },
  {
   "cell_type": "markdown",
   "metadata": {},
   "source": [
    "Для кодирования признаков, также можно использовать механизм Scikit Learn. Соответствующие объекты называюется **Encoder**. Вот как мы можем использовать энкодеры:"
   ]
  },
  {
   "cell_type": "code",
   "execution_count": 44,
   "metadata": {},
   "outputs": [
    {
     "name": "stdout",
     "output_type": "stream",
     "text": [
      "[array(['Adulto ida', 'Flexible', 'Promo +'], dtype=object), array(['Turista', 'Turista Plus', 'Turista con enlace'], dtype=object)]\n"
     ]
    },
    {
     "data": {
      "text/plain": [
       "array([[0., 1., 0., 1., 0., 0.],\n",
       "       [0., 0., 1., 0., 1., 0.],\n",
       "       [0., 1., 0., 1., 0., 0.],\n",
       "       [0., 1., 0., 1., 0., 0.],\n",
       "       [0., 1., 0., 1., 0., 0.],\n",
       "       [0., 0., 1., 1., 0., 0.],\n",
       "       [0., 1., 0., 1., 0., 0.],\n",
       "       [0., 1., 0., 1., 0., 0.],\n",
       "       [0., 0., 1., 1., 0., 0.],\n",
       "       [0., 0., 1., 1., 0., 0.]])"
      ]
     },
     "execution_count": 44,
     "metadata": {},
     "output_type": "execute_result"
    }
   ],
   "source": [
    "ohe = sk.preprocessing.OneHotEncoder()\n",
    "ohe.fit(df[[\"fare\",\"vehicle_class\"]])\n",
    "print(ohe.categories_)\n",
    "ohe.transform(df[[\"fare\",\"vehicle_class\"]]).toarray()[:10]"
   ]
  },
  {
   "cell_type": "markdown",
   "metadata": {},
   "source": [
    "Для того, чтобы применить различные энкодеры к различным полям, существует удобный механизм трансформеров. Например, получим таблицу с нужными нам полями, описав преобразователи для всех категориальных полей:"
   ]
  },
  {
   "cell_type": "code",
   "execution_count": 45,
   "metadata": {},
   "outputs": [
    {
     "data": {
      "text/plain": [
       "array([[  0.        ,   0.        ,   1.        ,   0.        ,\n",
       "          0.        ,   1.        ,   0.        ,   0.        ,\n",
       "          0.        ,   0.        ,   0.        ,   0.        ,\n",
       "          0.        ,   0.        ,   0.        ,   0.        ,\n",
       "          0.        ,   0.        ,   1.        ,   0.        ,\n",
       "          0.        , 288.17369877,   1.95      ,   8.        ],\n",
       "       [  0.        ,   0.        ,   1.        ,   0.        ,\n",
       "          0.        ,   0.        ,   0.        ,   0.        ,\n",
       "          1.        ,   0.        ,   0.        ,   0.        ,\n",
       "          0.        ,   0.        ,   0.        ,   0.        ,\n",
       "          0.        ,   0.        ,   1.        ,   0.        ,\n",
       "          0.        , 303.1806944 ,   2.67      ,  16.        ]])"
      ]
     },
     "execution_count": 45,
     "metadata": {},
     "output_type": "execute_result"
    }
   ],
   "source": [
    "transformer = sk.compose.make_column_transformer(\n",
    "    (sk.preprocessing.OneHotEncoder(),['fare']),\n",
    "    (sk.preprocessing.OneHotEncoder(),['vehicle_type']),\n",
    "    (sk.preprocessing.OneHotEncoder(),['vehicle_class']),\n",
    "    remainder='passthrough'\n",
    ")\n",
    "X = transformer.fit_transform(df_train[numeric+categorical])\n",
    "X.toarray()[:2]"
   ]
  },
  {
   "cell_type": "markdown",
   "metadata": {},
   "source": [
    "Полученные значения можно использовать для обучения модели:"
   ]
  },
  {
   "cell_type": "code",
   "execution_count": 46,
   "metadata": {},
   "outputs": [
    {
     "name": "stdout",
     "output_type": "stream",
     "text": [
      "MSE=74.93589624336764, MAE=6.0301749486387735, MAE(%)=0.13978526634654137\n"
     ]
    }
   ],
   "source": [
    "model = sk.linear_model.LinearRegression()\n",
    "model = model.fit(X,Y)\n",
    "X_t = transformer.transform(df_test[numeric+categorical])\n",
    "Y_t_pred = model.predict(X_t)\n",
    "print(f\"MSE={sk.metrics.mean_squared_error(Y_t,Y_t_pred)}, \\\n",
    "MAE={sk.metrics.mean_absolute_error(Y_t,Y_t_pred)}, \\\n",
    "MAE(%)={sk.metrics.mean_absolute_percentage_error(Y_t,Y_t_pred)}\")"
   ]
  },
  {
   "cell_type": "markdown",
   "metadata": {},
   "source": [
    "### Нормализация значений\n",
    "\n",
    "Для того, чтобы модель не отдавала предпочтение некоторым из признаков, обычно прибегают к масштабированию признаков. Поскольку one-hot encoding даёт нам признаки, находящиеся в диапазоне от 0 до 1, то и остальные признаки имеет смысл приводить к примерно такому же диапазону.\n",
    "\n",
    "В SkLearn удобно использовать два вида нормализации:\n",
    "* `MinMaxScaler` - преобразует значения строго к диапазону 0-1, вычитая минимальное значение, и деля на интервал между максимальным и минимальным.\n",
    "* `StandardScaler` - вычитает из значений среднее и делит на дисперсию\n",
    "\n",
    "Мы можем встроить нормализацию в наш конвейер предобработки:\n"
   ]
  },
  {
   "cell_type": "code",
   "execution_count": 47,
   "metadata": {},
   "outputs": [
    {
     "data": {
      "text/plain": [
       "array([[-0.13767595, -0.34967819, -1.18776956,  0.        ,  0.        ,\n",
       "         1.        ,  0.        ,  0.        ,  1.        ,  0.        ,\n",
       "         0.        ,  0.        ,  0.        ,  0.        ,  0.        ,\n",
       "         0.        ,  0.        ,  0.        ,  0.        ,  0.        ,\n",
       "         0.        ,  1.        ,  0.        ,  0.        ],\n",
       "       [ 0.01339103,  0.09923626,  0.58425159,  0.        ,  0.        ,\n",
       "         1.        ,  0.        ,  0.        ,  0.        ,  0.        ,\n",
       "         0.        ,  1.        ,  0.        ,  0.        ,  0.        ,\n",
       "         0.        ,  0.        ,  0.        ,  0.        ,  0.        ,\n",
       "         0.        ,  1.        ,  0.        ,  0.        ]])"
      ]
     },
     "execution_count": 47,
     "metadata": {},
     "output_type": "execute_result"
    }
   ],
   "source": [
    "transformer = sk.compose.make_column_transformer(\n",
    "    (sk.preprocessing.StandardScaler(),['geodistance']),\n",
    "    (sk.preprocessing.StandardScaler(),['duration']),\n",
    "    (sk.preprocessing.StandardScaler(),['departure_hour']),\n",
    "    (sk.preprocessing.OneHotEncoder(),['fare']),\n",
    "    (sk.preprocessing.OneHotEncoder(),['vehicle_type']),\n",
    "    (sk.preprocessing.OneHotEncoder(),['vehicle_class']),\n",
    ")\n",
    "X = transformer.fit_transform(df_train[numeric+categorical])\n",
    "X.toarray()[:2]"
   ]
  },
  {
   "cell_type": "code",
   "execution_count": 48,
   "metadata": {},
   "outputs": [
    {
     "name": "stdout",
     "output_type": "stream",
     "text": [
      "MSE=74.93589624331987, MAE=6.030174948569133, MAE(%)=0.13978526634157806\n"
     ]
    }
   ],
   "source": [
    "model = sk.linear_model.LinearRegression()\n",
    "model = model.fit(X,Y)\n",
    "X_t = transformer.transform(df_test[numeric+categorical])\n",
    "Y_t_pred = model.predict(X_t)\n",
    "print(f\"MSE={sk.metrics.mean_squared_error(Y_t,Y_t_pred)}, \\\n",
    "MAE={sk.metrics.mean_absolute_error(Y_t,Y_t_pred)}, \\\n",
    "MAE(%)={sk.metrics.mean_absolute_percentage_error(Y_t,Y_t_pred)}\")"
   ]
  },
  {
   "cell_type": "markdown",
   "metadata": {},
   "source": [
    "### Добавление атрибутов\n",
    "\n",
    "Иногда, результат может зависеть от входных признаков нелинейно. Например, количество оставшихся денег на счете в случае со сложными процентами скорее всего будет зависеть от времени экспоненциально. В этом случае мы можем улучшить точность можели, заменив входное значение его логарифмом.\n",
    "\n",
    "Аналогичным образом можно пытаться добавлять в исходный датасет различные функции от входных переменных или их комбинаций, которые становятся новыми признаками в линейной модели. Один из подходов, который позволяет отслеживать зависимость результата от комбинаций признаков, является добавление полиномиальных признаков. Например, если исходный датасет включает в себя признаки $x_1, x_2, x_3$, то добавляя все полиномиальные признаки степени 2, получим $x_1^2, x_2^2, x_3^2, x_1x_2, x_1x_3, x_2x_3$, вдобавок к исходным признакам.\n",
    "\n",
    "Добавление полиномиальных комбинаций признаков можно сделать с помощью трансформера:"
   ]
  },
  {
   "cell_type": "code",
   "execution_count": 50,
   "metadata": {},
   "outputs": [
    {
     "data": {
      "text/plain": [
       "((997340, 24), (997340, 325))"
      ]
     },
     "execution_count": 50,
     "metadata": {},
     "output_type": "execute_result"
    }
   ],
   "source": [
    "poly = sk.preprocessing.PolynomialFeatures()\n",
    "Xp = poly.fit_transform(X)\n",
    "X.shape,Xp.shape"
   ]
  },
  {
   "cell_type": "markdown",
   "metadata": {},
   "source": [
    "Видим, что из 24 признаков мы получили 325!\n",
    "\n",
    "Обучаем модель на расширенном наборе признаков:"
   ]
  },
  {
   "cell_type": "code",
   "execution_count": 51,
   "metadata": {},
   "outputs": [
    {
     "name": "stdout",
     "output_type": "stream",
     "text": [
      "MSE=50.248483365381006, MAE=4.620799269688753, MAE(%)=0.10934997634932649\n"
     ]
    }
   ],
   "source": [
    "model.fit(Xp,Y)\n",
    "\n",
    "Xp_t = poly.transform(X_t)\n",
    "Yp_t_pred = model.predict(Xp_t)\n",
    "print(f\"MSE={sk.metrics.mean_squared_error(Y_t,Yp_t_pred)}, \\\n",
    "MAE={sk.metrics.mean_absolute_error(Y_t,Yp_t_pred)}, \\\n",
    "MAE(%)={sk.metrics.mean_absolute_percentage_error(Y_t,Yp_t_pred)}\")"
   ]
  },
  {
   "cell_type": "markdown",
   "metadata": {},
   "source": [
    "### Используем пайплайны\n",
    "\n",
    "В нашем последнем примере мы сначала использовали `ColumnTransformer` чтобы закодировать нечисловые значения, а затем `PolynomialFeatures` для добавления полиномиальных признаков, после чего подавали полученные данные на вход модели `LinearRegression` для обучения.\n",
    "\n",
    "Мы можем объединить эти шаги в единый **конвейер** (или **пайплайн**), поскольку все элементы этого конвейера имеют единый интерфейс в виде методов `fit` и `fit_transform`:"
   ]
  },
  {
   "cell_type": "code",
   "execution_count": null,
   "metadata": {},
   "outputs": [],
   "source": [
    "pipe = sk.pipeline.Pipeline([\n",
    "    ('ColumnTransform',transformer),\n",
    "    ('PolyFeatures',poly),\n",
    "    ('LinearModel',model)\n",
    "])\n",
    "pipe.fit(df_train[numeric+categorical],Y)\n",
    "pipe.score(df_test[numeric+categorical],Y_t)"
   ]
  },
  {
   "cell_type": "markdown",
   "metadata": {},
   "source": [
    "Таким образом, с помощью нескольких строчек кода мы построили конвейер предобработки данных, обучили модель, и проверили её метрику качества (accuracy). "
   ]
  },
  {
   "cell_type": "markdown",
   "metadata": {},
   "source": [
    "### Деревья решений\n",
    "\n",
    "В нашем случае понятно, что цены на билеты в зависимости от тарифа могут меняться скачкообразно, т.е. для каждого тарифа могут применяться свои правила ценообразования. Для таких случаев можно использовать другой алгоритм машинного обучения - **деревья решений**. Дерево решений смотрит на некоторый признак, и в зависимости от его значения рассматривает два и более вариантов решений. В каждом из вариантов выбирается другой признак, и так далее.\n",
    "\n",
    "Попробуем обучить алгоритм дерева решений на наших данных:"
   ]
  },
  {
   "cell_type": "code",
   "execution_count": 52,
   "metadata": {},
   "outputs": [
    {
     "name": "stdout",
     "output_type": "stream",
     "text": [
      "MSE=33.43300455891495, MAE=2.8376141309899467, MAE(%)=0.07070084272619383\n"
     ]
    }
   ],
   "source": [
    "model = sk.tree.DecisionTreeRegressor()\n",
    "model = model.fit(X,Y)\n",
    "\n",
    "Y_t_pred = model.predict(X_t)\n",
    "print(f\"MSE={sk.metrics.mean_squared_error(Y_t,Y_t_pred)}, \\\n",
    "MAE={sk.metrics.mean_absolute_error(Y_t,Y_t_pred)}, \\\n",
    "MAE(%)={sk.metrics.mean_absolute_percentage_error(Y_t,Y_t_pred)}\")"
   ]
  },
  {
   "cell_type": "markdown",
   "metadata": {},
   "source": [
    "Как видим, использование деревьев дает нам весьма высокую точность!\n",
    "\n",
    "Деревья также являются интерпретируемой моделью, однако визуализация большого дерева не слишком наглядна. Для наглядности, ограничим глубину обучаемого дерева - это снизит точность, но позволит нам визуализировать дерево более наглядно: "
   ]
  },
  {
   "cell_type": "code",
   "execution_count": 32,
   "metadata": {},
   "outputs": [
    {
     "data": {
      "image/png": "[encoded data removed]",
      "text/plain": [
       "<Figure size 432x288 with 1 Axes>"
      ]
     },
     "metadata": {
      "needs_background": "light"
     },
     "output_type": "display_data"
    }
   ],
   "source": [
    "model = sk.tree.DecisionTreeRegressor(max_depth=4)\n",
    "model = model.fit(X,Y)\n",
    "\n",
    "z = sk.tree.plot_tree(model,feature_names=transformer.get_feature_names_out())"
   ]
  },
  {
   "cell_type": "markdown",
   "metadata": {},
   "source": [
    "Для более качественного отображения имеет смысл использовать библиотеку **GraphViz**. Её необходимо установить с помощью `conda install python-graphviz` в ваше окружение."
   ]
  },
  {
   "cell_type": "code",
   "execution_count": 33,
   "metadata": {},
   "outputs": [
    {
     "data": {
      "image/svg+xml": "<?xml version=\"1.0\" encoding=\"UTF-8\" standalone=\"no\"?>\n<!DOCTYPE svg PUBLIC \"-//W3C//DTD SVG 1.1//EN\"\n \"http://www.w3.org/Graphics/SVG/1.1/DTD/svg11.dtd\">\n<!-- Generated by graphviz version 2.38.0 (20140413.2041)\n -->\n<!-- Title: Tree Pages: 1 -->\n<svg width=\"2509pt\" height=\"477pt\"\n viewBox=\"0.00 0.00 2509.00 477.00\" xmlns=\"http://www.w3.org/2000/svg\" xmlns:xlink=\"http://www.w3.org/1999/xlink\">\n<g id=\"graph0\" class=\"graph\" transform=\"scale(1 1) rotate(0) translate(4 473)\">\n<title>Tree</title>\n<polygon fill=\"white\" stroke=\"none\" points=\"-4,4 -4,-473 2505,-473 2505,4 -4,4\"/>\n<!-- 0 -->\n<g id=\"node1\" class=\"node\"><title>0</title>\n<path fill=\"#fae9dc\" stroke=\"black\" d=\"M1486.5,-469C1486.5,-469 1334.5,-469 1334.5,-469 1328.5,-469 1322.5,-463 1322.5,-457 1322.5,-457 1322.5,-413 1322.5,-413 1322.5,-407 1328.5,-401 1334.5,-401 1334.5,-401 1486.5,-401 1486.5,-401 1492.5,-401 1498.5,-407 1498.5,-413 1498.5,-413 1498.5,-457 1498.5,-457 1498.5,-463 1492.5,-469 1486.5,-469\"/>\n<text text-anchor=\"start\" x=\"1341\" y=\"-453.8\" font-family=\"Helvetica,sans-Serif\" font-size=\"14.00\">geodistance ≤ 461.19</text>\n<text text-anchor=\"start\" x=\"1330.5\" y=\"-438.8\" font-family=\"Helvetica,sans-Serif\" font-size=\"14.00\">squared_error = 485.304</text>\n<text text-anchor=\"start\" x=\"1350.5\" y=\"-423.8\" font-family=\"Helvetica,sans-Serif\" font-size=\"14.00\">samples = 249335</text>\n<text text-anchor=\"start\" x=\"1363.5\" y=\"-408.8\" font-family=\"Helvetica,sans-Serif\" font-size=\"14.00\">value = 47.728</text>\n</g>\n<!-- 1 -->\n<g id=\"node2\" class=\"node\"><title>1</title>\n<path fill=\"#fcf0e7\" stroke=\"black\" d=\"M1148.5,-365C1148.5,-365 996.5,-365 996.5,-365 990.5,-365 984.5,-359 984.5,-353 984.5,-353 984.5,-309 984.5,-309 984.5,-303 990.5,-297 996.5,-297 996.5,-297 1148.5,-297 1148.5,-297 1154.5,-297 1160.5,-303 1160.5,-309 1160.5,-309 1160.5,-353 1160.5,-353 1160.5,-359 1154.5,-365 1148.5,-365\"/>\n<text text-anchor=\"start\" x=\"1013.5\" y=\"-349.8\" font-family=\"Helvetica,sans-Serif\" font-size=\"14.00\">fare_Flexible ≤ 0.5</text>\n<text text-anchor=\"start\" x=\"992.5\" y=\"-334.8\" font-family=\"Helvetica,sans-Serif\" font-size=\"14.00\">squared_error = 219.385</text>\n<text text-anchor=\"start\" x=\"1012.5\" y=\"-319.8\" font-family=\"Helvetica,sans-Serif\" font-size=\"14.00\">samples = 219329</text>\n<text text-anchor=\"start\" x=\"1025.5\" y=\"-304.8\" font-family=\"Helvetica,sans-Serif\" font-size=\"14.00\">value = 42.221</text>\n</g>\n<!-- 0&#45;&gt;1 -->\n<g id=\"edge1\" class=\"edge\"><title>0&#45;&gt;1</title>\n<path fill=\"none\" stroke=\"black\" d=\"M1322.14,-407.334C1275.56,-393.28 1218.32,-376.006 1170.41,-361.545\"/>\n<polygon fill=\"black\" stroke=\"black\" points=\"1171.23,-358.137 1160.64,-358.599 1169.2,-364.839 1171.23,-358.137\"/>\n<text text-anchor=\"middle\" x=\"1172.46\" y=\"-376.93\" font-family=\"Helvetica,sans-Serif\" font-size=\"14.00\">True</text>\n</g>\n<!-- 16 -->\n<g id=\"node17\" class=\"node\"><title>16</title>\n<path fill=\"#f0b58b\" stroke=\"black\" d=\"M1844.5,-365C1844.5,-365 1692.5,-365 1692.5,-365 1686.5,-365 1680.5,-359 1680.5,-353 1680.5,-353 1680.5,-309 1680.5,-309 1680.5,-303 1686.5,-297 1692.5,-297 1692.5,-297 1844.5,-297 1844.5,-297 1850.5,-297 1856.5,-303 1856.5,-309 1856.5,-309 1856.5,-353 1856.5,-353 1856.5,-359 1850.5,-365 1844.5,-365\"/>\n<text text-anchor=\"start\" x=\"1709.5\" y=\"-349.8\" font-family=\"Helvetica,sans-Serif\" font-size=\"14.00\">fare_Flexible ≤ 0.5</text>\n<text text-anchor=\"start\" x=\"1688.5\" y=\"-334.8\" font-family=\"Helvetica,sans-Serif\" font-size=\"14.00\">squared_error = 586.547</text>\n<text text-anchor=\"start\" x=\"1712.5\" y=\"-319.8\" font-family=\"Helvetica,sans-Serif\" font-size=\"14.00\">samples = 30006</text>\n<text text-anchor=\"start\" x=\"1721.5\" y=\"-304.8\" font-family=\"Helvetica,sans-Serif\" font-size=\"14.00\">value = 87.987</text>\n</g>\n<!-- 0&#45;&gt;16 -->\n<g id=\"edge16\" class=\"edge\"><title>0&#45;&gt;16</title>\n<path fill=\"none\" stroke=\"black\" d=\"M1498.54,-408.917C1550.67,-394.063 1616.83,-375.213 1670.6,-359.892\"/>\n<polygon fill=\"black\" stroke=\"black\" points=\"1671.84,-363.18 1680.49,-357.074 1669.92,-356.448 1671.84,-363.18\"/>\n<text text-anchor=\"middle\" x=\"1668.34\" y=\"-375.219\" font-family=\"Helvetica,sans-Serif\" font-size=\"14.00\">False</text>\n</g>\n<!-- 2 -->\n<g id=\"node3\" class=\"node\"><title>2</title>\n<path fill=\"#fef9f5\" stroke=\"black\" d=\"M633.5,-261C633.5,-261 481.5,-261 481.5,-261 475.5,-261 469.5,-255 469.5,-249 469.5,-249 469.5,-205 469.5,-205 469.5,-199 475.5,-193 481.5,-193 481.5,-193 633.5,-193 633.5,-193 639.5,-193 645.5,-199 645.5,-205 645.5,-205 645.5,-249 645.5,-249 645.5,-255 639.5,-261 633.5,-261\"/>\n<text text-anchor=\"start\" x=\"481\" y=\"-245.8\" font-family=\"Helvetica,sans-Serif\" font-size=\"14.00\">vehicle_type_AVE ≤ 0.5</text>\n<text text-anchor=\"start\" x=\"477.5\" y=\"-230.8\" font-family=\"Helvetica,sans-Serif\" font-size=\"14.00\">squared_error = 103.914</text>\n<text text-anchor=\"start\" x=\"497.5\" y=\"-215.8\" font-family=\"Helvetica,sans-Serif\" font-size=\"14.00\">samples = 147276</text>\n<text text-anchor=\"start\" x=\"510.5\" y=\"-200.8\" font-family=\"Helvetica,sans-Serif\" font-size=\"14.00\">value = 35.446</text>\n</g>\n<!-- 1&#45;&gt;2 -->\n<g id=\"edge2\" class=\"edge\"><title>1&#45;&gt;2</title>\n<path fill=\"none\" stroke=\"black\" d=\"M984.261,-312.524C892.926,-294.434 750.586,-266.242 655.729,-247.455\"/>\n<polygon fill=\"black\" stroke=\"black\" points=\"656.331,-244.006 645.841,-245.497 654.971,-250.873 656.331,-244.006\"/>\n</g>\n<!-- 9 -->\n<g id=\"node10\" class=\"node\"><title>9</title>\n<path fill=\"#f8decb\" stroke=\"black\" d=\"M1148.5,-261C1148.5,-261 996.5,-261 996.5,-261 990.5,-261 984.5,-255 984.5,-249 984.5,-249 984.5,-205 984.5,-205 984.5,-199 990.5,-193 996.5,-193 996.5,-193 1148.5,-193 1148.5,-193 1154.5,-193 1160.5,-199 1160.5,-205 1160.5,-205 1160.5,-249 1160.5,-249 1160.5,-255 1154.5,-261 1148.5,-261\"/>\n<text text-anchor=\"start\" x=\"999\" y=\"-245.8\" font-family=\"Helvetica,sans-Serif\" font-size=\"14.00\">geodistance ≤ 208.912</text>\n<text text-anchor=\"start\" x=\"992.5\" y=\"-230.8\" font-family=\"Helvetica,sans-Serif\" font-size=\"14.00\">squared_error = 169.839</text>\n<text text-anchor=\"start\" x=\"1016.5\" y=\"-215.8\" font-family=\"Helvetica,sans-Serif\" font-size=\"14.00\">samples = 72053</text>\n<text text-anchor=\"start\" x=\"1025.5\" y=\"-200.8\" font-family=\"Helvetica,sans-Serif\" font-size=\"14.00\">value = 56.068</text>\n</g>\n<!-- 1&#45;&gt;9 -->\n<g id=\"edge9\" class=\"edge\"><title>1&#45;&gt;9</title>\n<path fill=\"none\" stroke=\"black\" d=\"M1072.5,-296.884C1072.5,-288.778 1072.5,-279.982 1072.5,-271.472\"/>\n<polygon fill=\"black\" stroke=\"black\" points=\"1076,-271.299 1072.5,-261.299 1069,-271.299 1076,-271.299\"/>\n</g>\n<!-- 3 -->\n<g id=\"node4\" class=\"node\"><title>3</title>\n<path fill=\"#fffefe\" stroke=\"black\" d=\"M352.5,-157C352.5,-157 184.5,-157 184.5,-157 178.5,-157 172.5,-151 172.5,-145 172.5,-145 172.5,-101 172.5,-101 172.5,-95 178.5,-89 184.5,-89 184.5,-89 352.5,-89 352.5,-89 358.5,-89 364.5,-95 364.5,-101 364.5,-101 364.5,-145 364.5,-145 364.5,-151 358.5,-157 352.5,-157\"/>\n<text text-anchor=\"start\" x=\"180.5\" y=\"-141.8\" font-family=\"Helvetica,sans-Serif\" font-size=\"14.00\">vehicle_type_LD&#45;AVE ≤ 0.5</text>\n<text text-anchor=\"start\" x=\"197\" y=\"-126.8\" font-family=\"Helvetica,sans-Serif\" font-size=\"14.00\">squared_error = 55.71</text>\n<text text-anchor=\"start\" x=\"212.5\" y=\"-111.8\" font-family=\"Helvetica,sans-Serif\" font-size=\"14.00\">samples = 73673</text>\n<text text-anchor=\"start\" x=\"221.5\" y=\"-96.8\" font-family=\"Helvetica,sans-Serif\" font-size=\"14.00\">value = 30.844</text>\n</g>\n<!-- 2&#45;&gt;3 -->\n<g id=\"edge3\" class=\"edge\"><title>2&#45;&gt;3</title>\n<path fill=\"none\" stroke=\"black\" d=\"M469.22,-194.842C438.457,-183.985 403.665,-171.705 371.793,-160.456\"/>\n<polygon fill=\"black\" stroke=\"black\" points=\"372.597,-157.029 362.003,-157.001 370.268,-163.63 372.597,-157.029\"/>\n</g>\n<!-- 6 -->\n<g id=\"node7\" class=\"node\"><title>6</title>\n<path fill=\"#fcf3ec\" stroke=\"black\" d=\"M633.5,-157C633.5,-157 481.5,-157 481.5,-157 475.5,-157 469.5,-151 469.5,-145 469.5,-145 469.5,-101 469.5,-101 469.5,-95 475.5,-89 481.5,-89 481.5,-89 633.5,-89 633.5,-89 639.5,-89 645.5,-95 645.5,-101 645.5,-101 645.5,-145 645.5,-145 645.5,-151 639.5,-157 633.5,-157\"/>\n<text text-anchor=\"start\" x=\"484\" y=\"-141.8\" font-family=\"Helvetica,sans-Serif\" font-size=\"14.00\">geodistance ≤ 346.682</text>\n<text text-anchor=\"start\" x=\"477.5\" y=\"-126.8\" font-family=\"Helvetica,sans-Serif\" font-size=\"14.00\">squared_error = 109.739</text>\n<text text-anchor=\"start\" x=\"501.5\" y=\"-111.8\" font-family=\"Helvetica,sans-Serif\" font-size=\"14.00\">samples = 73603</text>\n<text text-anchor=\"start\" x=\"510.5\" y=\"-96.8\" font-family=\"Helvetica,sans-Serif\" font-size=\"14.00\">value = 40.053</text>\n</g>\n<!-- 2&#45;&gt;6 -->\n<g id=\"edge6\" class=\"edge\"><title>2&#45;&gt;6</title>\n<path fill=\"none\" stroke=\"black\" d=\"M557.5,-192.884C557.5,-184.778 557.5,-175.982 557.5,-167.472\"/>\n<polygon fill=\"black\" stroke=\"black\" points=\"561,-167.299 557.5,-157.299 554,-167.299 561,-167.299\"/>\n</g>\n<!-- 4 -->\n<g id=\"node5\" class=\"node\"><title>4</title>\n<path fill=\"#ffffff\" stroke=\"black\" d=\"M155,-53C155,-53 12,-53 12,-53 6,-53 0,-47 0,-41 0,-41 0,-12 0,-12 0,-6 6,-0 12,-0 12,-0 155,-0 155,-0 161,-0 167,-6 167,-12 167,-12 167,-41 167,-41 167,-47 161,-53 155,-53\"/>\n<text text-anchor=\"start\" x=\"8\" y=\"-37.8\" font-family=\"Helvetica,sans-Serif\" font-size=\"14.00\">squared_error = 39.526</text>\n<text text-anchor=\"start\" x=\"27.5\" y=\"-22.8\" font-family=\"Helvetica,sans-Serif\" font-size=\"14.00\">samples = 72778</text>\n<text text-anchor=\"start\" x=\"36.5\" y=\"-7.8\" font-family=\"Helvetica,sans-Serif\" font-size=\"14.00\">value = 30.398</text>\n</g>\n<!-- 3&#45;&gt;4 -->\n<g id=\"edge4\" class=\"edge\"><title>3&#45;&gt;4</title>\n<path fill=\"none\" stroke=\"black\" d=\"M203.796,-88.9485C183.917,-78.794 162.149,-67.675 142.661,-57.7203\"/>\n<polygon fill=\"black\" stroke=\"black\" points=\"144.088,-54.5188 133.59,-53.0867 140.904,-60.7526 144.088,-54.5188\"/>\n</g>\n<!-- 5 -->\n<g id=\"node6\" class=\"node\"><title>5</title>\n<path fill=\"#f5d0b5\" stroke=\"black\" d=\"M340,-53C340,-53 197,-53 197,-53 191,-53 185,-47 185,-41 185,-41 185,-12 185,-12 185,-6 191,-0 197,-0 197,-0 340,-0 340,-0 346,-0 352,-6 352,-12 352,-12 352,-41 352,-41 352,-47 346,-53 340,-53\"/>\n<text text-anchor=\"start\" x=\"193\" y=\"-37.8\" font-family=\"Helvetica,sans-Serif\" font-size=\"14.00\">squared_error = 43.416</text>\n<text text-anchor=\"start\" x=\"221\" y=\"-22.8\" font-family=\"Helvetica,sans-Serif\" font-size=\"14.00\">samples = 895</text>\n<text text-anchor=\"start\" x=\"221.5\" y=\"-7.8\" font-family=\"Helvetica,sans-Serif\" font-size=\"14.00\">value = 67.068</text>\n</g>\n<!-- 3&#45;&gt;5 -->\n<g id=\"edge5\" class=\"edge\"><title>3&#45;&gt;5</title>\n<path fill=\"none\" stroke=\"black\" d=\"M268.5,-88.9485C268.5,-80.7153 268.5,-71.848 268.5,-63.4814\"/>\n<polygon fill=\"black\" stroke=\"black\" points=\"272,-63.2367 268.5,-53.2367 265,-63.2367 272,-63.2367\"/>\n</g>\n<!-- 7 -->\n<g id=\"node8\" class=\"node\"><title>7</title>\n<path fill=\"#fdf5ef\" stroke=\"black\" d=\"M525,-53C525,-53 382,-53 382,-53 376,-53 370,-47 370,-41 370,-41 370,-12 370,-12 370,-6 376,-0 382,-0 382,-0 525,-0 525,-0 531,-0 537,-6 537,-12 537,-12 537,-41 537,-41 537,-47 531,-53 525,-53\"/>\n<text text-anchor=\"start\" x=\"378\" y=\"-37.8\" font-family=\"Helvetica,sans-Serif\" font-size=\"14.00\">squared_error = 79.627</text>\n<text text-anchor=\"start\" x=\"397.5\" y=\"-22.8\" font-family=\"Helvetica,sans-Serif\" font-size=\"14.00\">samples = 58489</text>\n<text text-anchor=\"start\" x=\"406.5\" y=\"-7.8\" font-family=\"Helvetica,sans-Serif\" font-size=\"14.00\">value = 38.571</text>\n</g>\n<!-- 6&#45;&gt;7 -->\n<g id=\"edge7\" class=\"edge\"><title>6&#45;&gt;7</title>\n<path fill=\"none\" stroke=\"black\" d=\"M521.126,-88.9485C510.857,-79.6175 499.692,-69.4722 489.448,-60.1641\"/>\n<polygon fill=\"black\" stroke=\"black\" points=\"491.579,-57.3713 481.824,-53.2367 486.871,-62.5521 491.579,-57.3713\"/>\n</g>\n<!-- 8 -->\n<g id=\"node9\" class=\"node\"><title>8</title>\n<path fill=\"#fbebe0\" stroke=\"black\" d=\"M719.5,-53C719.5,-53 567.5,-53 567.5,-53 561.5,-53 555.5,-47 555.5,-41 555.5,-41 555.5,-12 555.5,-12 555.5,-6 561.5,-0 567.5,-0 567.5,-0 719.5,-0 719.5,-0 725.5,-0 731.5,-6 731.5,-12 731.5,-12 731.5,-41 731.5,-41 731.5,-47 725.5,-53 719.5,-53\"/>\n<text text-anchor=\"start\" x=\"563.5\" y=\"-37.8\" font-family=\"Helvetica,sans-Serif\" font-size=\"14.00\">squared_error = 184.878</text>\n<text text-anchor=\"start\" x=\"587.5\" y=\"-22.8\" font-family=\"Helvetica,sans-Serif\" font-size=\"14.00\">samples = 15114</text>\n<text text-anchor=\"start\" x=\"596.5\" y=\"-7.8\" font-family=\"Helvetica,sans-Serif\" font-size=\"14.00\">value = 45.788</text>\n</g>\n<!-- 6&#45;&gt;8 -->\n<g id=\"edge8\" class=\"edge\"><title>6&#45;&gt;8</title>\n<path fill=\"none\" stroke=\"black\" d=\"M587.579,-88.9485C595.904,-79.8005 604.941,-69.8697 613.275,-60.7126\"/>\n<polygon fill=\"black\" stroke=\"black\" points=\"615.936,-62.9883 620.078,-53.2367 610.759,-58.2769 615.936,-62.9883\"/>\n</g>\n<!-- 10 -->\n<g id=\"node11\" class=\"node\"><title>10</title>\n<path fill=\"#fdf6f1\" stroke=\"black\" d=\"M1054,-157C1054,-157 889,-157 889,-157 883,-157 877,-151 877,-145 877,-145 877,-101 877,-101 877,-95 883,-89 889,-89 889,-89 1054,-89 1054,-89 1060,-89 1066,-95 1066,-101 1066,-101 1066,-145 1066,-145 1066,-151 1060,-157 1054,-157\"/>\n<text text-anchor=\"start\" x=\"885\" y=\"-141.8\" font-family=\"Helvetica,sans-Serif\" font-size=\"14.00\">vehicle_type_Intercity ≤ 0.5</text>\n<text text-anchor=\"start\" x=\"900\" y=\"-126.8\" font-family=\"Helvetica,sans-Serif\" font-size=\"14.00\">squared_error = 3.772</text>\n<text text-anchor=\"start\" x=\"915.5\" y=\"-111.8\" font-family=\"Helvetica,sans-Serif\" font-size=\"14.00\">samples = 14280</text>\n<text text-anchor=\"start\" x=\"924.5\" y=\"-96.8\" font-family=\"Helvetica,sans-Serif\" font-size=\"14.00\">value = 37.201</text>\n</g>\n<!-- 9&#45;&gt;10 -->\n<g id=\"edge10\" class=\"edge\"><title>9&#45;&gt;10</title>\n<path fill=\"none\" stroke=\"black\" d=\"M1039.71,-192.884C1030.8,-183.887 1021.05,-174.041 1011.78,-164.678\"/>\n<polygon fill=\"black\" stroke=\"black\" points=\"1014,-161.943 1004.47,-157.299 1009.02,-166.868 1014,-161.943\"/>\n</g>\n<!-- 13 -->\n<g id=\"node14\" class=\"node\"><title>13</title>\n<path fill=\"#f7d8c2\" stroke=\"black\" d=\"M1248.5,-157C1248.5,-157 1096.5,-157 1096.5,-157 1090.5,-157 1084.5,-151 1084.5,-145 1084.5,-145 1084.5,-101 1084.5,-101 1084.5,-95 1090.5,-89 1096.5,-89 1096.5,-89 1248.5,-89 1248.5,-89 1254.5,-89 1260.5,-95 1260.5,-101 1260.5,-101 1260.5,-145 1260.5,-145 1260.5,-151 1254.5,-157 1248.5,-157\"/>\n<text text-anchor=\"start\" x=\"1099\" y=\"-141.8\" font-family=\"Helvetica,sans-Serif\" font-size=\"14.00\">geodistance ≤ 303.377</text>\n<text text-anchor=\"start\" x=\"1092.5\" y=\"-126.8\" font-family=\"Helvetica,sans-Serif\" font-size=\"14.00\">squared_error = 101.154</text>\n<text text-anchor=\"start\" x=\"1116.5\" y=\"-111.8\" font-family=\"Helvetica,sans-Serif\" font-size=\"14.00\">samples = 57773</text>\n<text text-anchor=\"start\" x=\"1125.5\" y=\"-96.8\" font-family=\"Helvetica,sans-Serif\" font-size=\"14.00\">value = 60.732</text>\n</g>\n<!-- 9&#45;&gt;13 -->\n<g id=\"edge13\" class=\"edge\"><title>9&#45;&gt;13</title>\n<path fill=\"none\" stroke=\"black\" d=\"M1104.97,-192.884C1113.79,-183.887 1123.44,-174.041 1132.62,-164.678\"/>\n<polygon fill=\"black\" stroke=\"black\" points=\"1135.35,-166.89 1139.85,-157.299 1130.35,-161.99 1135.35,-166.89\"/>\n</g>\n<!-- 11 -->\n<g id=\"node12\" class=\"node\"><title>11</title>\n<path fill=\"#fdf5f0\" stroke=\"black\" d=\"M881,-53C881,-53 762,-53 762,-53 756,-53 750,-47 750,-41 750,-41 750,-12 750,-12 750,-6 756,-0 762,-0 762,-0 881,-0 881,-0 887,-0 893,-6 893,-12 893,-12 893,-41 893,-41 893,-47 887,-53 881,-53\"/>\n<text text-anchor=\"start\" x=\"758\" y=\"-37.8\" font-family=\"Helvetica,sans-Serif\" font-size=\"14.00\">squared_error = 0.0</text>\n<text text-anchor=\"start\" x=\"765.5\" y=\"-22.8\" font-family=\"Helvetica,sans-Serif\" font-size=\"14.00\">samples = 13041</text>\n<text text-anchor=\"start\" x=\"782.5\" y=\"-7.8\" font-family=\"Helvetica,sans-Serif\" font-size=\"14.00\">value = 37.8</text>\n</g>\n<!-- 10&#45;&gt;11 -->\n<g id=\"edge11\" class=\"edge\"><title>10&#45;&gt;11</title>\n<path fill=\"none\" stroke=\"black\" d=\"M919.037,-88.9485C903.5,-79.1601 886.541,-68.4756 871.185,-58.8015\"/>\n<polygon fill=\"black\" stroke=\"black\" points=\"872.678,-55.6058 862.352,-53.2367 868.947,-61.5285 872.678,-55.6058\"/>\n</g>\n<!-- 12 -->\n<g id=\"node13\" class=\"node\"><title>12</title>\n<path fill=\"#fffefe\" stroke=\"black\" d=\"M1046,-53C1046,-53 923,-53 923,-53 917,-53 911,-47 911,-41 911,-41 911,-12 911,-12 911,-6 917,-0 923,-0 923,-0 1046,-0 1046,-0 1052,-0 1058,-6 1058,-12 1058,-12 1058,-41 1058,-41 1058,-47 1052,-53 1046,-53\"/>\n<text text-anchor=\"start\" x=\"919\" y=\"-37.8\" font-family=\"Helvetica,sans-Serif\" font-size=\"14.00\">squared_error = &#45;0.0</text>\n<text text-anchor=\"start\" x=\"933\" y=\"-22.8\" font-family=\"Helvetica,sans-Serif\" font-size=\"14.00\">samples = 1239</text>\n<text text-anchor=\"start\" x=\"945.5\" y=\"-7.8\" font-family=\"Helvetica,sans-Serif\" font-size=\"14.00\">value = 30.9</text>\n</g>\n<!-- 10&#45;&gt;12 -->\n<g id=\"edge12\" class=\"edge\"><title>10&#45;&gt;12</title>\n<path fill=\"none\" stroke=\"black\" d=\"M976.047,-88.9485C977.192,-80.6238 978.426,-71.6509 979.589,-63.2027\"/>\n<polygon fill=\"black\" stroke=\"black\" points=\"983.064,-63.6204 980.96,-53.2367 976.129,-62.6664 983.064,-63.6204\"/>\n</g>\n<!-- 14 -->\n<g id=\"node15\" class=\"node\"><title>14</title>\n<path fill=\"#f8ddc9\" stroke=\"black\" d=\"M1231,-53C1231,-53 1088,-53 1088,-53 1082,-53 1076,-47 1076,-41 1076,-41 1076,-12 1076,-12 1076,-6 1082,-0 1088,-0 1088,-0 1231,-0 1231,-0 1237,-0 1243,-6 1243,-12 1243,-12 1243,-41 1243,-41 1243,-47 1237,-53 1231,-53\"/>\n<text text-anchor=\"start\" x=\"1084\" y=\"-37.8\" font-family=\"Helvetica,sans-Serif\" font-size=\"14.00\">squared_error = 51.792</text>\n<text text-anchor=\"start\" x=\"1103.5\" y=\"-22.8\" font-family=\"Helvetica,sans-Serif\" font-size=\"14.00\">samples = 46822</text>\n<text text-anchor=\"start\" x=\"1112.5\" y=\"-7.8\" font-family=\"Helvetica,sans-Serif\" font-size=\"14.00\">value = 57.209</text>\n</g>\n<!-- 13&#45;&gt;14 -->\n<g id=\"edge14\" class=\"edge\"><title>13&#45;&gt;14</title>\n<path fill=\"none\" stroke=\"black\" d=\"M1167.95,-88.9485C1166.81,-80.6238 1165.57,-71.6509 1164.41,-63.2027\"/>\n<polygon fill=\"black\" stroke=\"black\" points=\"1167.87,-62.6664 1163.04,-53.2367 1160.94,-63.6204 1167.87,-62.6664\"/>\n</g>\n<!-- 15 -->\n<g id=\"node16\" class=\"node\"><title>15</title>\n<path fill=\"#f3c5a3\" stroke=\"black\" d=\"M1416,-53C1416,-53 1273,-53 1273,-53 1267,-53 1261,-47 1261,-41 1261,-41 1261,-12 1261,-12 1261,-6 1267,-0 1273,-0 1273,-0 1416,-0 1416,-0 1422,-0 1428,-6 1428,-12 1428,-12 1428,-41 1428,-41 1428,-47 1422,-53 1416,-53\"/>\n<text text-anchor=\"start\" x=\"1269\" y=\"-37.8\" font-family=\"Helvetica,sans-Serif\" font-size=\"14.00\">squared_error = 32.312</text>\n<text text-anchor=\"start\" x=\"1288.5\" y=\"-22.8\" font-family=\"Helvetica,sans-Serif\" font-size=\"14.00\">samples = 10951</text>\n<text text-anchor=\"start\" x=\"1297.5\" y=\"-7.8\" font-family=\"Helvetica,sans-Serif\" font-size=\"14.00\">value = 75.793</text>\n</g>\n<!-- 13&#45;&gt;15 -->\n<g id=\"edge15\" class=\"edge\"><title>13&#45;&gt;15</title>\n<path fill=\"none\" stroke=\"black\" d=\"M1232.66,-88.9485C1250.89,-78.9318 1270.83,-67.9767 1288.76,-58.1263\"/>\n<polygon fill=\"black\" stroke=\"black\" points=\"1290.85,-60.9695 1297.93,-53.0867 1287.48,-54.8345 1290.85,-60.9695\"/>\n</g>\n<!-- 17 -->\n<g id=\"node18\" class=\"node\"><title>17</title>\n<path fill=\"#f4c9ab\" stroke=\"black\" d=\"M1844.5,-261C1844.5,-261 1692.5,-261 1692.5,-261 1686.5,-261 1680.5,-255 1680.5,-249 1680.5,-249 1680.5,-205 1680.5,-205 1680.5,-199 1686.5,-193 1692.5,-193 1692.5,-193 1844.5,-193 1844.5,-193 1850.5,-193 1856.5,-199 1856.5,-205 1856.5,-205 1856.5,-249 1856.5,-249 1856.5,-255 1850.5,-261 1844.5,-261\"/>\n<text text-anchor=\"start\" x=\"1692\" y=\"-245.8\" font-family=\"Helvetica,sans-Serif\" font-size=\"14.00\">vehicle_type_AVE ≤ 0.5</text>\n<text text-anchor=\"start\" x=\"1688.5\" y=\"-230.8\" font-family=\"Helvetica,sans-Serif\" font-size=\"14.00\">squared_error = 381.695</text>\n<text text-anchor=\"start\" x=\"1712.5\" y=\"-215.8\" font-family=\"Helvetica,sans-Serif\" font-size=\"14.00\">samples = 17519</text>\n<text text-anchor=\"start\" x=\"1721.5\" y=\"-200.8\" font-family=\"Helvetica,sans-Serif\" font-size=\"14.00\">value = 72.257</text>\n</g>\n<!-- 16&#45;&gt;17 -->\n<g id=\"edge17\" class=\"edge\"><title>16&#45;&gt;17</title>\n<path fill=\"none\" stroke=\"black\" d=\"M1768.5,-296.884C1768.5,-288.778 1768.5,-279.982 1768.5,-271.472\"/>\n<polygon fill=\"black\" stroke=\"black\" points=\"1772,-271.299 1768.5,-261.299 1765,-271.299 1772,-271.299\"/>\n</g>\n<!-- 24 -->\n<g id=\"node25\" class=\"node\"><title>24</title>\n<path fill=\"#ea995e\" stroke=\"black\" d=\"M2151,-261C2151,-261 2008,-261 2008,-261 2002,-261 1996,-255 1996,-249 1996,-249 1996,-205 1996,-205 1996,-199 2002,-193 2008,-193 2008,-193 2151,-193 2151,-193 2157,-193 2163,-199 2163,-205 2163,-205 2163,-249 2163,-249 2163,-255 2157,-261 2151,-261\"/>\n<text text-anchor=\"start\" x=\"2028\" y=\"-245.8\" font-family=\"Helvetica,sans-Serif\" font-size=\"14.00\">duration ≤ 2.625</text>\n<text text-anchor=\"start\" x=\"2004\" y=\"-230.8\" font-family=\"Helvetica,sans-Serif\" font-size=\"14.00\">squared_error = 39.791</text>\n<text text-anchor=\"start\" x=\"2023.5\" y=\"-215.8\" font-family=\"Helvetica,sans-Serif\" font-size=\"14.00\">samples = 12487</text>\n<text text-anchor=\"start\" x=\"2028\" y=\"-200.8\" font-family=\"Helvetica,sans-Serif\" font-size=\"14.00\">value = 110.056</text>\n</g>\n<!-- 16&#45;&gt;24 -->\n<g id=\"edge24\" class=\"edge\"><title>16&#45;&gt;24</title>\n<path fill=\"none\" stroke=\"black\" d=\"M1856.79,-301.044C1897.19,-287.794 1945.08,-272.086 1986.08,-258.638\"/>\n<polygon fill=\"black\" stroke=\"black\" points=\"1987.39,-261.892 1995.81,-255.449 1985.21,-255.24 1987.39,-261.892\"/>\n</g>\n<!-- 18 -->\n<g id=\"node19\" class=\"node\"><title>18</title>\n<path fill=\"#fae7d9\" stroke=\"black\" d=\"M1769,-157C1769,-157 1532,-157 1532,-157 1526,-157 1520,-151 1520,-145 1520,-145 1520,-101 1520,-101 1520,-95 1526,-89 1532,-89 1532,-89 1769,-89 1769,-89 1775,-89 1781,-95 1781,-101 1781,-101 1781,-145 1781,-145 1781,-151 1775,-157 1769,-157\"/>\n<text text-anchor=\"start\" x=\"1528\" y=\"-141.8\" font-family=\"Helvetica,sans-Serif\" font-size=\"14.00\">vehicle_class_Turista con enlace ≤ 0.5</text>\n<text text-anchor=\"start\" x=\"1575\" y=\"-126.8\" font-family=\"Helvetica,sans-Serif\" font-size=\"14.00\">squared_error = 70.112</text>\n<text text-anchor=\"start\" x=\"1599\" y=\"-111.8\" font-family=\"Helvetica,sans-Serif\" font-size=\"14.00\">samples = 3483</text>\n<text text-anchor=\"start\" x=\"1603.5\" y=\"-96.8\" font-family=\"Helvetica,sans-Serif\" font-size=\"14.00\">value = 48.989</text>\n</g>\n<!-- 17&#45;&gt;18 -->\n<g id=\"edge18\" class=\"edge\"><title>17&#45;&gt;18</title>\n<path fill=\"none\" stroke=\"black\" d=\"M1730.19,-192.884C1719.47,-183.62 1707.71,-173.455 1696.6,-163.845\"/>\n<polygon fill=\"black\" stroke=\"black\" points=\"1698.88,-161.191 1689.02,-157.299 1694.3,-166.487 1698.88,-161.191\"/>\n</g>\n<!-- 21 -->\n<g id=\"node22\" class=\"node\"><title>21</title>\n<path fill=\"#f2c29f\" stroke=\"black\" d=\"M1963.5,-157C1963.5,-157 1811.5,-157 1811.5,-157 1805.5,-157 1799.5,-151 1799.5,-145 1799.5,-145 1799.5,-101 1799.5,-101 1799.5,-95 1805.5,-89 1811.5,-89 1811.5,-89 1963.5,-89 1963.5,-89 1969.5,-89 1975.5,-95 1975.5,-101 1975.5,-101 1975.5,-145 1975.5,-145 1975.5,-151 1969.5,-157 1963.5,-157\"/>\n<text text-anchor=\"start\" x=\"1836\" y=\"-141.8\" font-family=\"Helvetica,sans-Serif\" font-size=\"14.00\">duration ≤ 2.625</text>\n<text text-anchor=\"start\" x=\"1807.5\" y=\"-126.8\" font-family=\"Helvetica,sans-Serif\" font-size=\"14.00\">squared_error = 291.321</text>\n<text text-anchor=\"start\" x=\"1831.5\" y=\"-111.8\" font-family=\"Helvetica,sans-Serif\" font-size=\"14.00\">samples = 14036</text>\n<text text-anchor=\"start\" x=\"1840.5\" y=\"-96.8\" font-family=\"Helvetica,sans-Serif\" font-size=\"14.00\">value = 78.031</text>\n</g>\n<!-- 17&#45;&gt;21 -->\n<g id=\"edge21\" class=\"edge\"><title>17&#45;&gt;21</title>\n<path fill=\"none\" stroke=\"black\" d=\"M1807.14,-192.884C1817.94,-183.62 1829.8,-173.455 1841.01,-163.845\"/>\n<polygon fill=\"black\" stroke=\"black\" points=\"1843.34,-166.465 1848.65,-157.299 1838.78,-161.15 1843.34,-166.465\"/>\n</g>\n<!-- 19 -->\n<g id=\"node20\" class=\"node\"><title>19</title>\n<path fill=\"#fceee5\" stroke=\"black\" d=\"M1577,-53C1577,-53 1458,-53 1458,-53 1452,-53 1446,-47 1446,-41 1446,-41 1446,-12 1446,-12 1446,-6 1452,-0 1458,-0 1458,-0 1577,-0 1577,-0 1583,-0 1589,-6 1589,-12 1589,-12 1589,-41 1589,-41 1589,-47 1583,-53 1577,-53\"/>\n<text text-anchor=\"start\" x=\"1454\" y=\"-37.8\" font-family=\"Helvetica,sans-Serif\" font-size=\"14.00\">squared_error = 0.0</text>\n<text text-anchor=\"start\" x=\"1466\" y=\"-22.8\" font-family=\"Helvetica,sans-Serif\" font-size=\"14.00\">samples = 1970</text>\n<text text-anchor=\"start\" x=\"1474.5\" y=\"-7.8\" font-family=\"Helvetica,sans-Serif\" font-size=\"14.00\">value = 43.25</text>\n</g>\n<!-- 18&#45;&gt;19 -->\n<g id=\"edge19\" class=\"edge\"><title>18&#45;&gt;19</title>\n<path fill=\"none\" stroke=\"black\" d=\"M1603.98,-88.9485C1590.34,-79.2516 1575.45,-68.6752 1561.94,-59.073\"/>\n<polygon fill=\"black\" stroke=\"black\" points=\"1563.9,-56.1757 1553.72,-53.2367 1559.85,-61.882 1563.9,-56.1757\"/>\n</g>\n<!-- 20 -->\n<g id=\"node21\" class=\"node\"><title>20</title>\n<path fill=\"#f8deca\" stroke=\"black\" d=\"M1762,-53C1762,-53 1619,-53 1619,-53 1613,-53 1607,-47 1607,-41 1607,-41 1607,-12 1607,-12 1607,-6 1613,-0 1619,-0 1619,-0 1762,-0 1762,-0 1768,-0 1774,-6 1774,-12 1774,-12 1774,-41 1774,-41 1774,-47 1768,-53 1762,-53\"/>\n<text text-anchor=\"start\" x=\"1615\" y=\"-37.8\" font-family=\"Helvetica,sans-Serif\" font-size=\"14.00\">squared_error = 62.685</text>\n<text text-anchor=\"start\" x=\"1639\" y=\"-22.8\" font-family=\"Helvetica,sans-Serif\" font-size=\"14.00\">samples = 1513</text>\n<text text-anchor=\"start\" x=\"1643.5\" y=\"-7.8\" font-family=\"Helvetica,sans-Serif\" font-size=\"14.00\">value = 56.461</text>\n</g>\n<!-- 18&#45;&gt;20 -->\n<g id=\"edge20\" class=\"edge\"><title>18&#45;&gt;20</title>\n<path fill=\"none\" stroke=\"black\" d=\"M1664.49,-88.9485C1668.09,-80.4408 1671.98,-71.2562 1675.62,-62.6464\"/>\n<polygon fill=\"black\" stroke=\"black\" points=\"1678.93,-63.81 1679.61,-53.2367 1672.48,-61.0814 1678.93,-63.81\"/>\n</g>\n<!-- 22 -->\n<g id=\"node23\" class=\"node\"><title>22</title>\n<path fill=\"#f0b890\" stroke=\"black\" d=\"M1956.5,-53C1956.5,-53 1804.5,-53 1804.5,-53 1798.5,-53 1792.5,-47 1792.5,-41 1792.5,-41 1792.5,-12 1792.5,-12 1792.5,-6 1798.5,-0 1804.5,-0 1804.5,-0 1956.5,-0 1956.5,-0 1962.5,-0 1968.5,-6 1968.5,-12 1968.5,-12 1968.5,-41 1968.5,-41 1968.5,-47 1962.5,-53 1956.5,-53\"/>\n<text text-anchor=\"start\" x=\"1800.5\" y=\"-37.8\" font-family=\"Helvetica,sans-Serif\" font-size=\"14.00\">squared_error = 304.863</text>\n<text text-anchor=\"start\" x=\"1829\" y=\"-22.8\" font-family=\"Helvetica,sans-Serif\" font-size=\"14.00\">samples = 4868</text>\n<text text-anchor=\"start\" x=\"1833.5\" y=\"-7.8\" font-family=\"Helvetica,sans-Serif\" font-size=\"14.00\">value = 85.348</text>\n</g>\n<!-- 21&#45;&gt;22 -->\n<g id=\"edge22\" class=\"edge\"><title>21&#45;&gt;22</title>\n<path fill=\"none\" stroke=\"black\" d=\"M1885.05,-88.9485C1884.44,-80.7153 1883.79,-71.848 1883.17,-63.4814\"/>\n<polygon fill=\"black\" stroke=\"black\" points=\"1886.64,-62.9508 1882.41,-53.2367 1879.65,-63.468 1886.64,-62.9508\"/>\n</g>\n<!-- 23 -->\n<g id=\"node24\" class=\"node\"><title>23</title>\n<path fill=\"#f3c7a7\" stroke=\"black\" d=\"M2150.5,-53C2150.5,-53 1998.5,-53 1998.5,-53 1992.5,-53 1986.5,-47 1986.5,-41 1986.5,-41 1986.5,-12 1986.5,-12 1986.5,-6 1992.5,-0 1998.5,-0 1998.5,-0 2150.5,-0 2150.5,-0 2156.5,-0 2162.5,-6 2162.5,-12 2162.5,-12 2162.5,-41 2162.5,-41 2162.5,-47 2156.5,-53 2150.5,-53\"/>\n<text text-anchor=\"start\" x=\"1994.5\" y=\"-37.8\" font-family=\"Helvetica,sans-Serif\" font-size=\"14.00\">squared_error = 240.618</text>\n<text text-anchor=\"start\" x=\"2023\" y=\"-22.8\" font-family=\"Helvetica,sans-Serif\" font-size=\"14.00\">samples = 9168</text>\n<text text-anchor=\"start\" x=\"2027.5\" y=\"-7.8\" font-family=\"Helvetica,sans-Serif\" font-size=\"14.00\">value = 74.147</text>\n</g>\n<!-- 21&#45;&gt;23 -->\n<g id=\"edge23\" class=\"edge\"><title>21&#45;&gt;23</title>\n<path fill=\"none\" stroke=\"black\" d=\"M1952.9,-88.9485C1973,-78.794 1995,-67.675 2014.7,-57.7203\"/>\n<polygon fill=\"black\" stroke=\"black\" points=\"2016.52,-60.7208 2023.87,-53.0867 2013.36,-54.4732 2016.52,-60.7208\"/>\n</g>\n<!-- 25 -->\n<g id=\"node26\" class=\"node\"><title>25</title>\n<path fill=\"#e58139\" stroke=\"black\" d=\"M2139,-149.5C2139,-149.5 2020,-149.5 2020,-149.5 2014,-149.5 2008,-143.5 2008,-137.5 2008,-137.5 2008,-108.5 2008,-108.5 2008,-102.5 2014,-96.5 2020,-96.5 2020,-96.5 2139,-96.5 2139,-96.5 2145,-96.5 2151,-102.5 2151,-108.5 2151,-108.5 2151,-137.5 2151,-137.5 2151,-143.5 2145,-149.5 2139,-149.5\"/>\n<text text-anchor=\"start\" x=\"2016\" y=\"-134.3\" font-family=\"Helvetica,sans-Serif\" font-size=\"14.00\">squared_error = 0.0</text>\n<text text-anchor=\"start\" x=\"2032\" y=\"-119.3\" font-family=\"Helvetica,sans-Serif\" font-size=\"14.00\">samples = 932</text>\n<text text-anchor=\"start\" x=\"2036.5\" y=\"-104.3\" font-family=\"Helvetica,sans-Serif\" font-size=\"14.00\">value = 128.5</text>\n</g>\n<!-- 24&#45;&gt;25 -->\n<g id=\"edge25\" class=\"edge\"><title>24&#45;&gt;25</title>\n<path fill=\"none\" stroke=\"black\" d=\"M2079.5,-192.884C2079.5,-182.326 2079.5,-170.597 2079.5,-159.854\"/>\n<polygon fill=\"black\" stroke=\"black\" points=\"2083,-159.52 2079.5,-149.52 2076,-159.52 2083,-159.52\"/>\n</g>\n<!-- 26 -->\n<g id=\"node27\" class=\"node\"><title>26</title>\n<path fill=\"#ea9b61\" stroke=\"black\" d=\"M2332,-157C2332,-157 2189,-157 2189,-157 2183,-157 2177,-151 2177,-145 2177,-145 2177,-101 2177,-101 2177,-95 2183,-89 2189,-89 2189,-89 2332,-89 2332,-89 2338,-89 2344,-95 2344,-101 2344,-101 2344,-145 2344,-145 2344,-151 2338,-157 2332,-157\"/>\n<text text-anchor=\"start\" x=\"2209\" y=\"-141.8\" font-family=\"Helvetica,sans-Serif\" font-size=\"14.00\">duration ≤ 8.775</text>\n<text text-anchor=\"start\" x=\"2185\" y=\"-126.8\" font-family=\"Helvetica,sans-Serif\" font-size=\"14.00\">squared_error = 13.349</text>\n<text text-anchor=\"start\" x=\"2204.5\" y=\"-111.8\" font-family=\"Helvetica,sans-Serif\" font-size=\"14.00\">samples = 11555</text>\n<text text-anchor=\"start\" x=\"2209\" y=\"-96.8\" font-family=\"Helvetica,sans-Serif\" font-size=\"14.00\">value = 108.568</text>\n</g>\n<!-- 24&#45;&gt;26 -->\n<g id=\"edge26\" class=\"edge\"><title>24&#45;&gt;26</title>\n<path fill=\"none\" stroke=\"black\" d=\"M2138.27,-192.884C2155.58,-183.125 2174.67,-172.366 2192.52,-162.31\"/>\n<polygon fill=\"black\" stroke=\"black\" points=\"2194.73,-165.083 2201.72,-157.125 2191.29,-158.985 2194.73,-165.083\"/>\n</g>\n<!-- 27 -->\n<g id=\"node28\" class=\"node\"><title>27</title>\n<path fill=\"#ea9a61\" stroke=\"black\" d=\"M2328,-53C2328,-53 2193,-53 2193,-53 2187,-53 2181,-47 2181,-41 2181,-41 2181,-12 2181,-12 2181,-6 2187,-0 2193,-0 2193,-0 2328,-0 2328,-0 2334,-0 2340,-6 2340,-12 2340,-12 2340,-41 2340,-41 2340,-47 2334,-53 2328,-53\"/>\n<text text-anchor=\"start\" x=\"2189\" y=\"-37.8\" font-family=\"Helvetica,sans-Serif\" font-size=\"14.00\">squared_error = 1.121</text>\n<text text-anchor=\"start\" x=\"2204.5\" y=\"-22.8\" font-family=\"Helvetica,sans-Serif\" font-size=\"14.00\">samples = 11453</text>\n<text text-anchor=\"start\" x=\"2209\" y=\"-7.8\" font-family=\"Helvetica,sans-Serif\" font-size=\"14.00\">value = 108.898</text>\n</g>\n<!-- 26&#45;&gt;27 -->\n<g id=\"edge27\" class=\"edge\"><title>26&#45;&gt;27</title>\n<path fill=\"none\" stroke=\"black\" d=\"M2260.5,-88.9485C2260.5,-80.7153 2260.5,-71.848 2260.5,-63.4814\"/>\n<polygon fill=\"black\" stroke=\"black\" points=\"2264,-63.2367 2260.5,-53.2367 2257,-63.2367 2264,-63.2367\"/>\n</g>\n<!-- 28 -->\n<g id=\"node29\" class=\"node\"><title>28</title>\n<path fill=\"#f4caac\" stroke=\"black\" d=\"M2489,-53C2489,-53 2370,-53 2370,-53 2364,-53 2358,-47 2358,-41 2358,-41 2358,-12 2358,-12 2358,-6 2364,-0 2370,-0 2370,-0 2489,-0 2489,-0 2495,-0 2501,-6 2501,-12 2501,-12 2501,-41 2501,-41 2501,-47 2495,-53 2489,-53\"/>\n<text text-anchor=\"start\" x=\"2366\" y=\"-37.8\" font-family=\"Helvetica,sans-Serif\" font-size=\"14.00\">squared_error = 0.0</text>\n<text text-anchor=\"start\" x=\"2382\" y=\"-22.8\" font-family=\"Helvetica,sans-Serif\" font-size=\"14.00\">samples = 102</text>\n<text text-anchor=\"start\" x=\"2390.5\" y=\"-7.8\" font-family=\"Helvetica,sans-Serif\" font-size=\"14.00\">value = 71.5</text>\n</g>\n<!-- 26&#45;&gt;28 -->\n<g id=\"edge28\" class=\"edge\"><title>26&#45;&gt;28</title>\n<path fill=\"none\" stroke=\"black\" d=\"M2319.61,-88.9485C2337.52,-78.9318 2357.11,-67.9767 2374.73,-58.1263\"/>\n<polygon fill=\"black\" stroke=\"black\" points=\"2376.72,-61.0221 2383.74,-53.0867 2373.31,-54.9124 2376.72,-61.0221\"/>\n</g>\n</g>\n</svg>\n",
      "text/plain": [
       "<graphviz.sources.Source at 0x1fe87922970>"
      ]
     },
     "execution_count": 33,
     "metadata": {},
     "output_type": "execute_result"
    }
   ],
   "source": [
    "import graphviz\n",
    "graphviz.backend.dot_command.DOT_BINARY = 'c:/winapp/conda/Library/bin/graphviz/dot.exe'\n",
    "\n",
    "def proc_feature_name(x):\n",
    "    return x.replace('onehotencoder-1__','')\\\n",
    "        .replace('onehotencoder-2__','')\\\n",
    "        .replace('onehotencoder-3__','')\\\n",
    "        .replace('remainder__','')\n",
    "\n",
    "feature_names = [proc_feature_name(x) for x in transformer.get_feature_names_out()]\n",
    "\n",
    "graphviz.Source(\n",
    "    sk.tree.export_graphviz(model,feature_names=feature_names,\n",
    "    filled=True, rounded=True, special_characters=True)\n",
    ")"
   ]
  }
 ],
 "metadata": {
  "kernelspec": {
   "display_name": "Python 3 (ipykernel)",
   "language": "python",
   "name": "python3"
  },
  "language_info": {
   "codemirror_mode": {
    "name": "ipython",
    "version": 3
   },
   "file_extension": ".py",
   "mimetype": "text/x-python",
   "name": "python",
   "nbconvert_exporter": "python",
   "pygments_lexer": "ipython3",
   "version": "3.9.12"
  },
  "vscode": {
   "interpreter": {
    "hash": "d21c24a7952cc9fa93a33c3da71b373ffe761d6ab0c9cc9b2153e31da51ffb58"
   }
  }
 },
 "nbformat": 4,
 "nbformat_minor": 2
}

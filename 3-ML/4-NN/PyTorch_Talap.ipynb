{
  "nbformat": 4,
  "nbformat_minor": 0,
  "metadata": {
    "colab": {
      "provenance": []
    },
    "kernelspec": {
      "name": "python3",
      "display_name": "Python 3"
    },
    "language_info": {
      "name": "python"
    },
    "accelerator": "GPU",
    "gpuClass": "standard"
  },
  "cells": [
    {
      "cell_type": "markdown",
      "source": [
        "## PyTorch"
      ],
      "metadata": {
        "id": "N5tCdavZL_fd"
      }
    },
    {
      "cell_type": "code",
      "execution_count": 1,
      "metadata": {
        "colab": {
          "base_uri": "https://localhost:8080/",
          "height": 35
        },
        "id": "o5nq2DcKFK-e",
        "outputId": "d9239b13-f243-4e13-a1ae-2513bedbfc43"
      },
      "outputs": [
        {
          "output_type": "execute_result",
          "data": {
            "text/plain": [
              "'1.13.1+cu116'"
            ],
            "application/vnd.google.colaboratory.intrinsic+json": {
              "type": "string"
            }
          },
          "metadata": {},
          "execution_count": 1
        }
      ],
      "source": [
        "import torch\n",
        "import numpy as np\n",
        "import matplotlib.pyplot as plt\n",
        "torch.__version__"
      ]
    },
    {
      "cell_type": "code",
      "source": [
        "a = torch.tensor([[1,2],[3,4]])\n",
        "print(a)\n",
        "a = torch.randn(size=(10,3))\n",
        "print(a)"
      ],
      "metadata": {
        "colab": {
          "base_uri": "https://localhost:8080/"
        },
        "id": "MKTsW5MMMDdN",
        "outputId": "451b36ed-8356-4594-915e-0e753788eaa1"
      },
      "execution_count": 4,
      "outputs": [
        {
          "output_type": "stream",
          "name": "stdout",
          "text": [
            "tensor([[1, 2],\n",
            "        [3, 4]])\n",
            "tensor([[ 1.6143, -0.0666,  0.0228],\n",
            "        [ 1.4724,  0.1943, -0.7488],\n",
            "        [-0.8499, -0.1110,  0.4710],\n",
            "        [-1.1161, -0.2718,  1.0338],\n",
            "        [ 0.1497,  0.5888,  1.5490],\n",
            "        [-0.0630,  0.7988, -1.0361],\n",
            "        [ 0.6260,  1.8508,  1.6514],\n",
            "        [ 2.8101, -0.1983,  0.7017],\n",
            "        [ 0.7853,  0.1794, -0.9134],\n",
            "        [-0.3270, -1.5453,  1.6341]])\n"
          ]
        }
      ]
    },
    {
      "cell_type": "code",
      "source": [
        "b = torch.randn(size=(10,3))"
      ],
      "metadata": {
        "id": "CkZUzq0VMaHg"
      },
      "execution_count": 5,
      "outputs": []
    },
    {
      "cell_type": "code",
      "source": [
        "a.add(b) # returns new tensor\n",
        "a.add_(b) # in-place operation"
      ],
      "metadata": {
        "colab": {
          "base_uri": "https://localhost:8080/"
        },
        "id": "eYmxerj_MvNh",
        "outputId": "87e812ba-6d40-4b91-87a8-e56509555968"
      },
      "execution_count": 8,
      "outputs": [
        {
          "output_type": "execute_result",
          "data": {
            "text/plain": [
              "tensor([[ 2.1755,  0.4870, -0.6187],\n",
              "        [ 1.8115, -0.5577, -0.0977],\n",
              "        [ 0.7944, -0.8185,  0.2959],\n",
              "        [ 0.1744, -0.4341,  2.4470],\n",
              "        [ 0.0308,  1.2330,  1.5480],\n",
              "        [ 2.0303,  0.4851,  0.0089],\n",
              "        [ 1.6123,  0.7967,  2.6030],\n",
              "        [ 2.9476, -0.0433,  0.2286],\n",
              "        [ 0.1437, -1.1666, -2.3060],\n",
              "        [-0.3296, -1.3057,  0.8462]])"
            ]
          },
          "metadata": {},
          "execution_count": 8
        }
      ]
    },
    {
      "cell_type": "code",
      "source": [
        "s = torch.zeros_like(a[0])\n",
        "for l in a:\n",
        "  s.add_(l)\n",
        "\n",
        "s"
      ],
      "metadata": {
        "colab": {
          "base_uri": "https://localhost:8080/"
        },
        "id": "G5DuRJTxMwpk",
        "outputId": "c4c89925-1dd9-4431-e892-a4e99efb0ec6"
      },
      "execution_count": 12,
      "outputs": [
        {
          "output_type": "execute_result",
          "data": {
            "text/plain": [
              "tensor([11.3910, -1.3240,  4.9552])"
            ]
          },
          "metadata": {},
          "execution_count": 12
        }
      ]
    },
    {
      "cell_type": "code",
      "source": [
        "torch.sum(a,axis=0)"
      ],
      "metadata": {
        "colab": {
          "base_uri": "https://localhost:8080/"
        },
        "id": "glgdLPCeM9MY",
        "outputId": "a05c5121-c5af-4f0d-fee5-37e2cc846982"
      },
      "execution_count": 14,
      "outputs": [
        {
          "output_type": "execute_result",
          "data": {
            "text/plain": [
              "tensor([11.3910, -1.3240,  4.9552])"
            ]
          },
          "metadata": {},
          "execution_count": 14
        }
      ]
    },
    {
      "cell_type": "markdown",
      "source": [
        "## Gradients"
      ],
      "metadata": {
        "id": "Fm5OBb_sNY10"
      }
    },
    {
      "cell_type": "code",
      "source": [
        "a = torch.randn(size=(2,2),requires_grad=True)\n",
        "b = torch.randn(size=(2,2))\n",
        "c = torch.mean(torch.sqrt(torch.square(a)+torch.square(b)))\n",
        "c.backward()\n",
        "print(a.grad)"
      ],
      "metadata": {
        "colab": {
          "base_uri": "https://localhost:8080/"
        },
        "id": "xGIfy0CbNQg7",
        "outputId": "9bec6fa2-9d94-496d-c2ac-202a1aa46cb9"
      },
      "execution_count": 17,
      "outputs": [
        {
          "output_type": "stream",
          "name": "stdout",
          "text": [
            "tensor([[-0.2197, -0.2499],\n",
            "        [-0.0077,  0.2115]])\n"
          ]
        }
      ]
    },
    {
      "cell_type": "code",
      "source": [
        "c"
      ],
      "metadata": {
        "colab": {
          "base_uri": "https://localhost:8080/"
        },
        "id": "GBbSXE_CNl8j",
        "outputId": "084212dc-5f09-4ad3-c255-ddd6a9653645"
      },
      "execution_count": 18,
      "outputs": [
        {
          "output_type": "execute_result",
          "data": {
            "text/plain": [
              "tensor(1.1347, grad_fn=<MeanBackward0>)"
            ]
          },
          "metadata": {},
          "execution_count": 18
        }
      ]
    },
    {
      "cell_type": "markdown",
      "source": [
        "## Linear Regression"
      ],
      "metadata": {
        "id": "imgG0WS0OWrD"
      }
    },
    {
      "cell_type": "code",
      "source": [
        "X = np.linspace(0,3,120)\n",
        "Y = X*1.8+0.7+np.random.randn(*X.shape)*0.5"
      ],
      "metadata": {
        "id": "zcmK0qXQOV8f"
      },
      "execution_count": 2,
      "outputs": []
    },
    {
      "cell_type": "code",
      "source": [
        "plt.scatter(X,Y)"
      ],
      "metadata": {
        "colab": {
          "base_uri": "https://localhost:8080/",
          "height": 284
        },
        "id": "S9MAF0DNOGSr",
        "outputId": "750d917a-b9f6-4fa8-d8dc-03d48eb58ae9"
      },
      "execution_count": 3,
      "outputs": [
        {
          "output_type": "execute_result",
          "data": {
            "text/plain": [
              "<matplotlib.collections.PathCollection at 0x7fe4231fb370>"
            ]
          },
          "metadata": {},
          "execution_count": 3
        },
        {
          "output_type": "display_data",
          "data": {
            "text/plain": [
              "<Figure size 432x288 with 1 Axes>"
            ],
            "image/png": "[encoded data removed]"
          },
          "metadata": {
            "needs_background": "light"
          }
        }
      ]
    },
    {
      "cell_type": "code",
      "source": [
        "w = torch.tensor([100.0],dtype=torch.float32,requires_grad=True)\n",
        "b = torch.tensor(0.0,dtype=torch.float32,requires_grad=True)\n",
        "\n",
        "def f(x):\n",
        "  return torch.matmul(x,w)+b\n",
        "\n",
        "def loss(labels,predictions):\n",
        "  return torch.mean(torch.square(labels-predictions))\n",
        "\n",
        "tY = torch.tensor(Y,dtype=torch.float32)\n",
        "tX = torch.tensor(X.reshape(-1,1),dtype=torch.float32)\n",
        "\n",
        "loss(tY,f(tX))"
      ],
      "metadata": {
        "colab": {
          "base_uri": "https://localhost:8080/"
        },
        "id": "xAmwhAQqOt6e",
        "outputId": "0488ae42-8dfd-4957-b608-214d1a0d4305"
      },
      "execution_count": 76,
      "outputs": [
        {
          "output_type": "execute_result",
          "data": {
            "text/plain": [
              "tensor(28856.9180, grad_fn=<MeanBackward0>)"
            ]
          },
          "metadata": {},
          "execution_count": 76
        }
      ]
    },
    {
      "cell_type": "code",
      "source": [
        "lr = 0.1\n",
        "for i in range(100):\n",
        "  p = f(tX)\n",
        "  l = loss(tY,p)\n",
        "  print(f\"loss={l}, w={w}, b={b}\")\n",
        "  l.backward()\n",
        "  w.data.sub_(lr*w.grad)\n",
        "  b.data.sub_(lr*b.grad)\n",
        "  w.grad.zero_()\n",
        "  b.grad.zero_()"
      ],
      "metadata": {
        "colab": {
          "base_uri": "https://localhost:8080/"
        },
        "id": "9pzWyuAFPQru",
        "outputId": "1547c3c0-5506-4f61-c434-84656b778981"
      },
      "execution_count": 82,
      "outputs": [
        {
          "output_type": "stream",
          "name": "stdout",
          "text": [
            "loss=0.2751008868217468, w=tensor([1.8514], requires_grad=True), b=0.5590196847915649\n",
            "loss=0.2751006484031677, w=tensor([1.8513], requires_grad=True), b=0.5591573715209961\n",
            "loss=0.27510038018226624, w=tensor([1.8513], requires_grad=True), b=0.5592895150184631\n",
            "loss=0.2751002013683319, w=tensor([1.8512], requires_grad=True), b=0.5594163537025452\n",
            "loss=0.2751000225543976, w=tensor([1.8511], requires_grad=True), b=0.5595381855964661\n",
            "loss=0.27509984374046326, w=tensor([1.8511], requires_grad=True), b=0.5596551299095154\n",
            "loss=0.2750997245311737, w=tensor([1.8510], requires_grad=True), b=0.5597673654556274\n",
            "loss=0.27509960532188416, w=tensor([1.8510], requires_grad=True), b=0.5598751306533813\n",
            "loss=0.27509939670562744, w=tensor([1.8509], requires_grad=True), b=0.5599786043167114\n",
            "loss=0.2750993072986603, w=tensor([1.8509], requires_grad=True), b=0.5600779056549072\n",
            "loss=0.2750991880893707, w=tensor([1.8508], requires_grad=True), b=0.5601732134819031\n",
            "loss=0.27509909868240356, w=tensor([1.8508], requires_grad=True), b=0.5602647066116333\n",
            "loss=0.2750990092754364, w=tensor([1.8507], requires_grad=True), b=0.5603525638580322\n",
            "loss=0.27509889006614685, w=tensor([1.8507], requires_grad=True), b=0.5604369044303894\n",
            "loss=0.2750988006591797, w=tensor([1.8506], requires_grad=True), b=0.5605178475379944\n",
            "loss=0.2750987112522125, w=tensor([1.8506], requires_grad=True), b=0.5605955719947815\n",
            "loss=0.27509865164756775, w=tensor([1.8505], requires_grad=True), b=0.5606701970100403\n",
            "loss=0.275098592042923, w=tensor([1.8505], requires_grad=True), b=0.5607418417930603\n",
            "loss=0.2750985324382782, w=tensor([1.8505], requires_grad=True), b=0.5608106255531311\n",
            "loss=0.2750984728336334, w=tensor([1.8504], requires_grad=True), b=0.5608766674995422\n",
            "loss=0.2750984728336334, w=tensor([1.8504], requires_grad=True), b=0.5609400272369385\n",
            "loss=0.27509838342666626, w=tensor([1.8504], requires_grad=True), b=0.5610008835792542\n",
            "loss=0.2750983238220215, w=tensor([1.8503], requires_grad=True), b=0.561059296131134\n",
            "loss=0.2750982940196991, w=tensor([1.8503], requires_grad=True), b=0.5611153841018677\n",
            "loss=0.2750982642173767, w=tensor([1.8503], requires_grad=True), b=0.5611692070960999\n",
            "loss=0.27509820461273193, w=tensor([1.8502], requires_grad=True), b=0.5612208843231201\n",
            "loss=0.27509814500808716, w=tensor([1.8502], requires_grad=True), b=0.5612704753875732\n",
            "loss=0.27509820461273193, w=tensor([1.8502], requires_grad=True), b=0.5613180994987488\n",
            "loss=0.27509814500808716, w=tensor([1.8502], requires_grad=True), b=0.5613638162612915\n",
            "loss=0.27509814500808716, w=tensor([1.8501], requires_grad=True), b=0.5614076852798462\n",
            "loss=0.27509811520576477, w=tensor([1.8501], requires_grad=True), b=0.5614498257637024\n",
            "loss=0.27509805560112, w=tensor([1.8501], requires_grad=True), b=0.5614902973175049\n",
            "loss=0.27509805560112, w=tensor([1.8501], requires_grad=True), b=0.5615290999412537\n",
            "loss=0.2750980257987976, w=tensor([1.8501], requires_grad=True), b=0.5615664124488831\n",
            "loss=0.2750980257987976, w=tensor([1.8500], requires_grad=True), b=0.5616022348403931\n",
            "loss=0.2750980257987976, w=tensor([1.8500], requires_grad=True), b=0.5616366267204285\n",
            "loss=0.27509796619415283, w=tensor([1.8500], requires_grad=True), b=0.5616695880889893\n",
            "loss=0.2750979959964752, w=tensor([1.8500], requires_grad=True), b=0.561701238155365\n",
            "loss=0.27509793639183044, w=tensor([1.8500], requires_grad=True), b=0.5617316365242004\n",
            "loss=0.27509793639183044, w=tensor([1.8500], requires_grad=True), b=0.5617608428001404\n",
            "loss=0.27509793639183044, w=tensor([1.8499], requires_grad=True), b=0.5617888569831848\n",
            "loss=0.27509796619415283, w=tensor([1.8499], requires_grad=True), b=0.5618157386779785\n",
            "loss=0.27509793639183044, w=tensor([1.8499], requires_grad=True), b=0.5618415474891663\n",
            "loss=0.27509793639183044, w=tensor([1.8499], requires_grad=True), b=0.561866283416748\n",
            "loss=0.27509790658950806, w=tensor([1.8499], requires_grad=True), b=0.5618900656700134\n",
            "loss=0.27509790658950806, w=tensor([1.8499], requires_grad=True), b=0.5619128942489624\n",
            "loss=0.27509793639183044, w=tensor([1.8499], requires_grad=True), b=0.5619348287582397\n",
            "loss=0.27509790658950806, w=tensor([1.8499], requires_grad=True), b=0.5619558691978455\n",
            "loss=0.27509790658950806, w=tensor([1.8498], requires_grad=True), b=0.5619760751724243\n",
            "loss=0.27509790658950806, w=tensor([1.8498], requires_grad=True), b=0.5619954466819763\n",
            "loss=0.27509790658950806, w=tensor([1.8498], requires_grad=True), b=0.5620140433311462\n",
            "loss=0.27509790658950806, w=tensor([1.8498], requires_grad=True), b=0.5620319247245789\n",
            "loss=0.27509787678718567, w=tensor([1.8498], requires_grad=True), b=0.5620490908622742\n",
            "loss=0.27509787678718567, w=tensor([1.8498], requires_grad=True), b=0.562065601348877\n",
            "loss=0.27509787678718567, w=tensor([1.8498], requires_grad=True), b=0.5620813965797424\n",
            "loss=0.27509787678718567, w=tensor([1.8498], requires_grad=True), b=0.5620965957641602\n",
            "loss=0.27509787678718567, w=tensor([1.8498], requires_grad=True), b=0.5621111392974854\n",
            "loss=0.2750978469848633, w=tensor([1.8498], requires_grad=True), b=0.5621251463890076\n",
            "loss=0.27509787678718567, w=tensor([1.8498], requires_grad=True), b=0.562138557434082\n",
            "loss=0.2750978469848633, w=tensor([1.8497], requires_grad=True), b=0.5621514320373535\n",
            "loss=0.27509787678718567, w=tensor([1.8497], requires_grad=True), b=0.5621638298034668\n",
            "loss=0.2750978469848633, w=tensor([1.8497], requires_grad=True), b=0.5621756911277771\n",
            "loss=0.27509787678718567, w=tensor([1.8497], requires_grad=True), b=0.5621870756149292\n",
            "loss=0.2750978469848633, w=tensor([1.8497], requires_grad=True), b=0.5621980428695679\n",
            "loss=0.2750978469848633, w=tensor([1.8497], requires_grad=True), b=0.5622085332870483\n",
            "loss=0.2750978469848633, w=tensor([1.8497], requires_grad=True), b=0.5622186064720154\n",
            "loss=0.27509787678718567, w=tensor([1.8497], requires_grad=True), b=0.562228262424469\n",
            "loss=0.2750978171825409, w=tensor([1.8497], requires_grad=True), b=0.5622376203536987\n",
            "loss=0.2750978469848633, w=tensor([1.8497], requires_grad=True), b=0.562246561050415\n",
            "loss=0.2750978469848633, w=tensor([1.8497], requires_grad=True), b=0.5622551441192627\n",
            "loss=0.2750978469848633, w=tensor([1.8497], requires_grad=True), b=0.5622633695602417\n",
            "loss=0.27509787678718567, w=tensor([1.8497], requires_grad=True), b=0.5622712969779968\n",
            "loss=0.2750978469848633, w=tensor([1.8497], requires_grad=True), b=0.5622788667678833\n",
            "loss=0.2750978469848633, w=tensor([1.8497], requires_grad=True), b=0.5622861385345459\n",
            "loss=0.27509787678718567, w=tensor([1.8497], requires_grad=True), b=0.5622931122779846\n",
            "loss=0.2750978469848633, w=tensor([1.8497], requires_grad=True), b=0.5622998476028442\n",
            "loss=0.2750978469848633, w=tensor([1.8497], requires_grad=True), b=0.56230628490448\n",
            "loss=0.2750978469848633, w=tensor([1.8497], requires_grad=True), b=0.5623124241828918\n",
            "loss=0.2750978469848633, w=tensor([1.8497], requires_grad=True), b=0.5623183846473694\n",
            "loss=0.2750978469848633, w=tensor([1.8497], requires_grad=True), b=0.5623241066932678\n",
            "loss=0.2750978171825409, w=tensor([1.8497], requires_grad=True), b=0.5623295903205872\n",
            "loss=0.2750978171825409, w=tensor([1.8497], requires_grad=True), b=0.5623348355293274\n",
            "loss=0.27509787678718567, w=tensor([1.8496], requires_grad=True), b=0.5623399019241333\n",
            "loss=0.2750978469848633, w=tensor([1.8496], requires_grad=True), b=0.5623447299003601\n",
            "loss=0.2750978469848633, w=tensor([1.8496], requires_grad=True), b=0.5623493790626526\n",
            "loss=0.2750978469848633, w=tensor([1.8496], requires_grad=True), b=0.5623538494110107\n",
            "loss=0.2750978469848633, w=tensor([1.8496], requires_grad=True), b=0.5623581409454346\n",
            "loss=0.2750978469848633, w=tensor([1.8496], requires_grad=True), b=0.5623622536659241\n",
            "loss=0.2750978469848633, w=tensor([1.8496], requires_grad=True), b=0.5623661875724792\n",
            "loss=0.2750978469848633, w=tensor([1.8496], requires_grad=True), b=0.5623699426651001\n",
            "loss=0.2750978469848633, w=tensor([1.8496], requires_grad=True), b=0.5623735785484314\n",
            "loss=0.2750978171825409, w=tensor([1.8496], requires_grad=True), b=0.5623770356178284\n",
            "loss=0.2750978171825409, w=tensor([1.8496], requires_grad=True), b=0.5623803734779358\n",
            "loss=0.2750978469848633, w=tensor([1.8496], requires_grad=True), b=0.5623835921287537\n",
            "loss=0.2750978469848633, w=tensor([1.8496], requires_grad=True), b=0.562386691570282\n",
            "loss=0.2750978171825409, w=tensor([1.8496], requires_grad=True), b=0.5623896718025208\n",
            "loss=0.2750978469848633, w=tensor([1.8496], requires_grad=True), b=0.5623924732208252\n",
            "loss=0.2750978171825409, w=tensor([1.8496], requires_grad=True), b=0.5623952150344849\n",
            "loss=0.2750978469848633, w=tensor([1.8496], requires_grad=True), b=0.562397837638855\n",
            "loss=0.2750978469848633, w=tensor([1.8496], requires_grad=True), b=0.5624003410339355\n"
          ]
        }
      ]
    },
    {
      "cell_type": "code",
      "source": [
        "plt.scatter(X,Y)\n",
        "#plt.plot(X,f(tX).detach().numpy(),color='r')\n",
        "with torch.no_grad():\n",
        "  plt.plot(X,f(tX),color='r')"
      ],
      "metadata": {
        "colab": {
          "base_uri": "https://localhost:8080/",
          "height": 265
        },
        "id": "eDQb8NfqPe1a",
        "outputId": "34cae907-0adb-4bf7-844f-28b66489d719"
      },
      "execution_count": 88,
      "outputs": [
        {
          "output_type": "display_data",
          "data": {
            "text/plain": [
              "<Figure size 432x288 with 1 Axes>"
            ],
            "image/png": "[encoded data removed]"
          },
          "metadata": {
            "needs_background": "light"
          }
        }
      ]
    },
    {
      "cell_type": "markdown",
      "source": [
        "## GPU"
      ],
      "metadata": {
        "id": "f3T5m9wnWEc_"
      }
    },
    {
      "cell_type": "code",
      "source": [
        "device = 'cuda' if torch.cuda.is_available() else 'cpu'"
      ],
      "metadata": {
        "id": "qQkPQjrpWGPn"
      },
      "execution_count": 6,
      "outputs": []
    },
    {
      "cell_type": "code",
      "source": [
        "w = torch.tensor([100.0],dtype=torch.float32,requires_grad=True,device=device)\n",
        "b = torch.tensor(0.0,dtype=torch.float32,requires_grad=True,device=device)\n",
        "\n",
        "def f(x):\n",
        "  return torch.matmul(x,w)+b\n",
        "\n",
        "def loss(labels,predictions):\n",
        "  return torch.mean(torch.square(labels-predictions))\n",
        "\n",
        "tY = torch.tensor(Y,dtype=torch.float32).to(device)\n",
        "tX = torch.tensor(X.reshape(-1,1),dtype=torch.float32).to(device)\n",
        "\n",
        "lr = 0.1\n",
        "for i in range(100):\n",
        "  p = f(tX)\n",
        "  l = loss(tY,p)\n",
        "  print(f\"loss={l}, w={w}, b={b}\")\n",
        "  l.backward()\n",
        "  w.data.sub_(lr*w.grad)\n",
        "  b.data.sub_(lr*b.grad)\n",
        "  w.grad.zero_()\n",
        "  b.grad.zero_()\n"
      ],
      "metadata": {
        "colab": {
          "base_uri": "https://localhost:8080/"
        },
        "id": "CAQf3TfcVauA",
        "outputId": "0132efb0-fc3b-4030-e9db-6bdc20e5300d"
      },
      "execution_count": 8,
      "outputs": [
        {
          "output_type": "stream",
          "name": "stdout",
          "text": [
            "loss=28835.826171875, w=tensor([100.], device='cuda:0', requires_grad=True), b=0.0\n",
            "loss=2008.357177734375, w=tensor([41.0526], device='cuda:0', requires_grad=True), b=-29.30792808532715\n",
            "loss=465.3868713378906, w=tensor([26.4147], device='cuda:0', requires_grad=True), b=-35.0700569152832\n",
            "loss=350.7710266113281, w=tensor([22.3250], device='cuda:0', requires_grad=True), b=-35.288368225097656\n",
            "loss=318.875732421875, w=tensor([20.7650], device='cuda:0', requires_grad=True), b=-34.23612594604492\n",
            "loss=293.6398010253906, w=tensor([19.8292], device='cuda:0', requires_grad=True), b=-32.92631530761719\n",
            "loss=270.61712646484375, w=tensor([19.0643], device='cuda:0', requires_grad=True), b=-31.597740173339844\n",
            "loss=249.412841796875, w=tensor([18.3617], device='cuda:0', requires_grad=True), b=-30.30541229248047\n",
            "loss=229.8719482421875, w=tensor([17.6947], device='cuda:0', requires_grad=True), b=-29.06077003479004\n",
            "loss=211.86326599121094, w=tensor([17.0562], device='cuda:0', requires_grad=True), b=-27.864967346191406\n",
            "loss=195.2666473388672, w=tensor([16.4437], device='cuda:0', requires_grad=True), b=-26.71677589416504\n",
            "loss=179.97132873535156, w=tensor([15.8558], device='cuda:0', requires_grad=True), b=-25.614463806152344\n",
            "loss=165.8753204345703, w=tensor([15.2914], device='cuda:0', requires_grad=True), b=-24.556236267089844\n",
            "loss=152.88455200195312, w=tensor([14.7496], device='cuda:0', requires_grad=True), b=-23.54033851623535\n",
            "loss=140.91238403320312, w=tensor([14.2295], device='cuda:0', requires_grad=True), b=-22.565082550048828\n",
            "loss=129.87890625, w=tensor([13.7302], device='cuda:0', requires_grad=True), b=-21.62883949279785\n",
            "loss=119.71057891845703, w=tensor([13.2508], device='cuda:0', requires_grad=True), b=-20.730051040649414\n",
            "loss=110.33953094482422, w=tensor([12.7907], device='cuda:0', requires_grad=True), b=-19.867218017578125\n",
            "loss=101.70326232910156, w=tensor([12.3489], device='cuda:0', requires_grad=True), b=-19.038902282714844\n",
            "loss=93.744140625, w=tensor([11.9248], device='cuda:0', requires_grad=True), b=-18.243722915649414\n",
            "loss=86.40908813476562, w=tensor([11.5177], device='cuda:0', requires_grad=True), b=-17.48035430908203\n",
            "loss=79.64918518066406, w=tensor([11.1269], device='cuda:0', requires_grad=True), b=-16.74752426147461\n",
            "loss=73.41931915283203, w=tensor([10.7517], device='cuda:0', requires_grad=True), b=-16.04401206970215\n",
            "loss=67.67790985107422, w=tensor([10.3915], device='cuda:0', requires_grad=True), b=-15.368642807006836\n",
            "loss=62.386695861816406, w=tensor([10.0457], device='cuda:0', requires_grad=True), b=-14.720291137695312\n",
            "loss=57.510353088378906, w=tensor([9.7138], device='cuda:0', requires_grad=True), b=-14.09787654876709\n",
            "loss=53.01636505126953, w=tensor([9.3951], device='cuda:0', requires_grad=True), b=-13.500361442565918\n",
            "loss=48.87474060058594, w=tensor([9.0892], device='cuda:0', requires_grad=True), b=-12.926750183105469\n",
            "loss=45.057865142822266, w=tensor([8.7955], device='cuda:0', requires_grad=True), b=-12.376086235046387\n",
            "loss=41.540260314941406, w=tensor([8.5136], device='cuda:0', requires_grad=True), b=-11.847451210021973\n",
            "loss=38.29846954345703, w=tensor([8.2429], device='cuda:0', requires_grad=True), b=-11.339963912963867\n",
            "loss=35.31085968017578, w=tensor([7.9831], device='cuda:0', requires_grad=True), b=-10.852778434753418\n",
            "loss=32.5575065612793, w=tensor([7.7337], device='cuda:0', requires_grad=True), b=-10.385082244873047\n",
            "loss=30.020038604736328, w=tensor([7.4942], device='cuda:0', requires_grad=True), b=-9.93609619140625\n",
            "loss=27.681533813476562, w=tensor([7.2643], device='cuda:0', requires_grad=True), b=-9.505071640014648\n",
            "loss=25.526390075683594, w=tensor([7.0437], device='cuda:0', requires_grad=True), b=-9.091290473937988\n",
            "loss=23.54022789001465, w=tensor([6.8318], device='cuda:0', requires_grad=True), b=-8.694062232971191\n",
            "loss=21.70979881286621, w=tensor([6.6284], device='cuda:0', requires_grad=True), b=-8.312725067138672\n",
            "loss=20.022890090942383, w=tensor([6.4332], device='cuda:0', requires_grad=True), b=-7.946643352508545\n",
            "loss=18.468252182006836, w=tensor([6.2458], device='cuda:0', requires_grad=True), b=-7.595206260681152\n",
            "loss=17.035511016845703, w=tensor([6.0659], device='cuda:0', requires_grad=True), b=-7.257828712463379\n",
            "loss=15.715108871459961, w=tensor([5.8931], device='cuda:0', requires_grad=True), b=-6.933947563171387\n",
            "loss=14.498238563537598, w=tensor([5.7273], device='cuda:0', requires_grad=True), b=-6.62302303314209\n",
            "loss=13.37678337097168, w=tensor([5.5681], device='cuda:0', requires_grad=True), b=-6.32453727722168\n",
            "loss=12.343257904052734, w=tensor([5.4153], device='cuda:0', requires_grad=True), b=-6.037992000579834\n",
            "loss=11.39077091217041, w=tensor([5.2686], device='cuda:0', requires_grad=True), b=-5.762909889221191\n",
            "loss=10.512968063354492, w=tensor([5.1278], device='cuda:0', requires_grad=True), b=-5.498832702636719\n",
            "loss=9.703991889953613, w=tensor([4.9925], device='cuda:0', requires_grad=True), b=-5.245319843292236\n",
            "loss=8.958447456359863, w=tensor([4.8628], device='cuda:0', requires_grad=True), b=-5.001948356628418\n",
            "loss=8.27135944366455, w=tensor([4.7382], device='cuda:0', requires_grad=True), b=-4.768312931060791\n",
            "loss=7.638145923614502, w=tensor([4.6185], device='cuda:0', requires_grad=True), b=-4.5440239906311035\n",
            "loss=7.054581642150879, w=tensor([4.5037], device='cuda:0', requires_grad=True), b=-4.328707695007324\n",
            "loss=6.5167741775512695, w=tensor([4.3935], device='cuda:0', requires_grad=True), b=-4.122004985809326\n",
            "loss=6.021136283874512, w=tensor([4.2876], device='cuda:0', requires_grad=True), b=-3.9235715866088867\n",
            "loss=5.564360618591309, w=tensor([4.1860], device='cuda:0', requires_grad=True), b=-3.733076333999634\n",
            "loss=5.143399238586426, w=tensor([4.0885], device='cuda:0', requires_grad=True), b=-3.550201654434204\n",
            "loss=4.75544548034668, w=tensor([3.9949], device='cuda:0', requires_grad=True), b=-3.374642848968506\n",
            "loss=4.3979105949401855, w=tensor([3.9050], device='cuda:0', requires_grad=True), b=-3.2061071395874023\n",
            "loss=4.068410396575928, w=tensor([3.8187], device='cuda:0', requires_grad=True), b=-3.044313669204712\n",
            "loss=3.7647452354431152, w=tensor([3.7359], device='cuda:0', requires_grad=True), b=-2.8889927864074707\n",
            "loss=3.4848902225494385, w=tensor([3.6564], device='cuda:0', requires_grad=True), b=-2.7398853302001953\n",
            "loss=3.2269785404205322, w=tensor([3.5800], device='cuda:0', requires_grad=True), b=-2.596743106842041\n",
            "loss=2.9892895221710205, w=tensor([3.5067], device='cuda:0', requires_grad=True), b=-2.459326982498169\n",
            "loss=2.7702372074127197, w=tensor([3.4364], device='cuda:0', requires_grad=True), b=-2.3274083137512207\n",
            "loss=2.5683608055114746, w=tensor([3.3688], device='cuda:0', requires_grad=True), b=-2.2007670402526855\n",
            "loss=2.3823132514953613, w=tensor([3.3040], device='cuda:0', requires_grad=True), b=-2.0791919231414795\n",
            "loss=2.210853099822998, w=tensor([3.2418], device='cuda:0', requires_grad=True), b=-1.9624804258346558\n",
            "loss=2.052837371826172, w=tensor([3.1820], device='cuda:0', requires_grad=True), b=-1.850437879562378\n",
            "loss=1.9072117805480957, w=tensor([3.1246], device='cuda:0', requires_grad=True), b=-1.7428776025772095\n",
            "loss=1.773004174232483, w=tensor([3.0696], device='cuda:0', requires_grad=True), b=-1.639620304107666\n",
            "loss=1.6493195295333862, w=tensor([3.0167], device='cuda:0', requires_grad=True), b=-1.5404936075210571\n",
            "loss=1.5353327989578247, w=tensor([2.9659], device='cuda:0', requires_grad=True), b=-1.4453325271606445\n",
            "loss=1.4302839040756226, w=tensor([2.9172], device='cuda:0', requires_grad=True), b=-1.3539782762527466\n",
            "loss=1.3334715366363525, w=tensor([2.8705], device='cuda:0', requires_grad=True), b=-1.266278624534607\n",
            "loss=1.2442502975463867, w=tensor([2.8256], device='cuda:0', requires_grad=True), b=-1.1820874214172363\n",
            "loss=1.162024736404419, w=tensor([2.7824], device='cuda:0', requires_grad=True), b=-1.101264238357544\n",
            "loss=1.086246371269226, w=tensor([2.7411], device='cuda:0', requires_grad=True), b=-1.0236743688583374\n",
            "loss=1.016409993171692, w=tensor([2.7013], device='cuda:0', requires_grad=True), b=-0.9491884708404541\n",
            "loss=0.9520493745803833, w=tensor([2.6632], device='cuda:0', requires_grad=True), b=-0.8776823878288269\n",
            "loss=0.892734944820404, w=tensor([2.6266], device='cuda:0', requires_grad=True), b=-0.8090368509292603\n",
            "loss=0.838071346282959, w=tensor([2.5915], device='cuda:0', requires_grad=True), b=-0.7431374788284302\n",
            "loss=0.7876937985420227, w=tensor([2.5577], device='cuda:0', requires_grad=True), b=-0.6798743009567261\n",
            "loss=0.7412663102149963, w=tensor([2.5253], device='cuda:0', requires_grad=True), b=-0.6191419363021851\n",
            "loss=0.6984792351722717, w=tensor([2.4942], device='cuda:0', requires_grad=True), b=-0.5608391761779785\n",
            "loss=0.65904700756073, w=tensor([2.4644], device='cuda:0', requires_grad=True), b=-0.5048688054084778\n",
            "loss=0.6227067708969116, w=tensor([2.4357], device='cuda:0', requires_grad=True), b=-0.451137512922287\n",
            "loss=0.5892158150672913, w=tensor([2.4082], device='cuda:0', requires_grad=True), b=-0.3995557427406311\n",
            "loss=0.5583508014678955, w=tensor([2.3818], device='cuda:0', requires_grad=True), b=-0.35003751516342163\n",
            "loss=0.5299059152603149, w=tensor([2.3565], device='cuda:0', requires_grad=True), b=-0.3025001585483551\n",
            "loss=0.5036913752555847, w=tensor([2.3321], device='cuda:0', requires_grad=True), b=-0.2568645477294922\n",
            "loss=0.4795323312282562, w=tensor([2.3088], device='cuda:0', requires_grad=True), b=-0.2130545824766159\n",
            "loss=0.45726752281188965, w=tensor([2.2863], device='cuda:0', requires_grad=True), b=-0.1709972321987152\n",
            "loss=0.4367485046386719, w=tensor([2.2648], device='cuda:0', requires_grad=True), b=-0.13062240183353424\n",
            "loss=0.41783830523490906, w=tensor([2.2441], device='cuda:0', requires_grad=True), b=-0.09186269342899323\n",
            "loss=0.40041086077690125, w=tensor([2.2243], device='cuda:0', requires_grad=True), b=-0.054653581231832504\n",
            "loss=0.3843499720096588, w=tensor([2.2052], device='cuda:0', requires_grad=True), b=-0.018932998180389404\n",
            "loss=0.3695482909679413, w=tensor([2.1869], device='cuda:0', requires_grad=True), b=0.015358559787273407\n",
            "loss=0.3559072017669678, w=tensor([2.1694], device='cuda:0', requires_grad=True), b=0.04827834293246269\n",
            "loss=0.34333574771881104, w=tensor([2.1525], device='cuda:0', requires_grad=True), b=0.07988115400075912\n",
            "loss=0.33174991607666016, w=tensor([2.1363], device='cuda:0', requires_grad=True), b=0.11021968722343445\n"
          ]
        }
      ]
    },
    {
      "cell_type": "markdown",
      "source": [
        "## Classification"
      ],
      "metadata": {
        "id": "KrsIGv3jWz3f"
      }
    },
    {
      "cell_type": "code",
      "source": [
        "from sklearn.datasets import make_classification\n",
        "\n",
        "X,Y = make_classification(100,2,n_informative=2, n_redundant=0, flip_y=0, class_sep=1.5)\n",
        "plt.scatter(X[:,0],X[:,1],c=Y)"
      ],
      "metadata": {
        "colab": {
          "base_uri": "https://localhost:8080/",
          "height": 283
        },
        "id": "oujYtl4aWYgl",
        "outputId": "b6d07733-a9ea-4a49-e485-37d375298726"
      },
      "execution_count": 9,
      "outputs": [
        {
          "output_type": "execute_result",
          "data": {
            "text/plain": [
              "<matplotlib.collections.PathCollection at 0x7fe3e7442a90>"
            ]
          },
          "metadata": {},
          "execution_count": 9
        },
        {
          "output_type": "display_data",
          "data": {
            "text/plain": [
              "<Figure size 432x288 with 1 Axes>"
            ],
            "image/png": "[encoded data removed]"
          },
          "metadata": {
            "needs_background": "light"
          }
        }
      ]
    },
    {
      "cell_type": "code",
      "source": [
        "X.shape, Y.shape"
      ],
      "metadata": {
        "colab": {
          "base_uri": "https://localhost:8080/"
        },
        "id": "a1aC9JOgXLIq",
        "outputId": "493b9e64-fa55-47e9-f571-b5708c576d78"
      },
      "execution_count": 10,
      "outputs": [
        {
          "output_type": "execute_result",
          "data": {
            "text/plain": [
              "((100, 2), (100,))"
            ]
          },
          "metadata": {},
          "execution_count": 10
        }
      ]
    },
    {
      "cell_type": "code",
      "source": [
        "from sklearn.model_selection import train_test_split\n",
        "train_x, test_x, train_y, test_y = train_test_split(X,Y,test_size=0.2,shuffle=True)\n",
        "train_x.shape, train_y.shape"
      ],
      "metadata": {
        "colab": {
          "base_uri": "https://localhost:8080/"
        },
        "id": "Lehs88O8XPEL",
        "outputId": "591a57e2-40db-4719-b0a1-d300223bccb9"
      },
      "execution_count": 11,
      "outputs": [
        {
          "output_type": "execute_result",
          "data": {
            "text/plain": [
              "((80, 2), (80,))"
            ]
          },
          "metadata": {},
          "execution_count": 11
        }
      ]
    },
    {
      "cell_type": "code",
      "source": [
        "net = torch.nn.Linear(2,1)\n",
        "net(torch.randn(size=(10,2)))"
      ],
      "metadata": {
        "colab": {
          "base_uri": "https://localhost:8080/"
        },
        "id": "WBU9bHxsXeZ7",
        "outputId": "f28bf267-378a-4cc6-c7b1-a595c7e83b56"
      },
      "execution_count": 49,
      "outputs": [
        {
          "output_type": "execute_result",
          "data": {
            "text/plain": [
              "tensor([[-0.4970],\n",
              "        [-0.2152],\n",
              "        [-0.6317],\n",
              "        [-0.3079],\n",
              "        [ 1.5695],\n",
              "        [ 0.5681],\n",
              "        [-0.0640],\n",
              "        [-0.0516],\n",
              "        [ 0.1804],\n",
              "        [-0.8254]], grad_fn=<AddmmBackward0>)"
            ]
          },
          "metadata": {},
          "execution_count": 49
        }
      ]
    },
    {
      "cell_type": "code",
      "source": [
        "list(net.parameters())"
      ],
      "metadata": {
        "colab": {
          "base_uri": "https://localhost:8080/"
        },
        "id": "3bauB4CvX3C-",
        "outputId": "7cde68a4-636e-4e8c-c5e9-4faf9a9d3fa2"
      },
      "execution_count": 50,
      "outputs": [
        {
          "output_type": "execute_result",
          "data": {
            "text/plain": [
              "[Parameter containing:\n",
              " tensor([[0.0050, 0.5494]], requires_grad=True), Parameter containing:\n",
              " tensor([0.1632], requires_grad=True)]"
            ]
          },
          "metadata": {},
          "execution_count": 50
        }
      ]
    },
    {
      "cell_type": "code",
      "source": [
        "dataset = torch.utils.data.TensorDataset(torch.tensor(train_x,dtype=torch.float32),torch.tensor(train_y,dtype=torch.float32))\n",
        "dataloader = torch.utils.data.DataLoader(dataset,batch_size=16)"
      ],
      "metadata": {
        "id": "Q6QBIrzSX_ZP"
      },
      "execution_count": 51,
      "outputs": []
    },
    {
      "cell_type": "code",
      "source": [
        "optim = torch.optim.SGD(net.parameters(),lr=0.05)"
      ],
      "metadata": {
        "id": "bRSZenIQZ9Jf"
      },
      "execution_count": 52,
      "outputs": []
    },
    {
      "cell_type": "code",
      "source": [
        "ttest_x = torch.tensor(test_x,dtype=torch.float32)\n",
        "ttest_y = torch.tensor(test_y,dtype=torch.float32)"
      ],
      "metadata": {
        "id": "XvIpQbAOcWuH"
      },
      "execution_count": null,
      "outputs": []
    },
    {
      "cell_type": "code",
      "source": [
        "for ep in range(10):\n",
        "  for (x,y) in dataloader:\n",
        "      z = net.forward(x).flatten()\n",
        "      # p = sigmoid(z), loss = cross_ent_loss(p,y)\n",
        "      loss = torch.nn.functional.binary_cross_entropy_with_logits(z,y)\n",
        "      optim.zero_grad()\n",
        "      loss.backward()\n",
        "      optim.step()\n",
        "  acc = torch.mean(((net(ttest_x)>0).float().flatten()==ttest_y).float())\n",
        "  print(f\"epoch = {ep}, loss={loss}, acc={acc}\")\n"
      ],
      "metadata": {
        "colab": {
          "base_uri": "https://localhost:8080/"
        },
        "id": "g4GNdslfYeNR",
        "outputId": "b2c04b9e-b320-4c72-c431-0839e6619b32"
      },
      "execution_count": 53,
      "outputs": [
        {
          "output_type": "stream",
          "name": "stdout",
          "text": [
            "epoch = 0, loss=0.5674002766609192, acc=0.6000000238418579\n",
            "epoch = 1, loss=0.43985140323638916, acc=0.75\n",
            "epoch = 2, loss=0.353393018245697, acc=0.8999999761581421\n",
            "epoch = 3, loss=0.29380151629447937, acc=0.8999999761581421\n",
            "epoch = 4, loss=0.25124186277389526, acc=0.8999999761581421\n",
            "epoch = 5, loss=0.21964521706104279, acc=0.8999999761581421\n",
            "epoch = 6, loss=0.19535095989704132, acc=0.949999988079071\n",
            "epoch = 7, loss=0.17610841989517212, acc=1.0\n",
            "epoch = 8, loss=0.16048671305179596, acc=1.0\n",
            "epoch = 9, loss=0.1475427895784378, acc=1.0\n"
          ]
        }
      ]
    },
    {
      "cell_type": "code",
      "source": [
        "torch.mean(((net(ttest_x)>0).float().flatten()==ttest_y).float())"
      ],
      "metadata": {
        "colab": {
          "base_uri": "https://localhost:8080/"
        },
        "id": "mTPvZsY5YkfH",
        "outputId": "63d4334f-115f-4f68-aa59-b0f8f640c65e"
      },
      "execution_count": 36,
      "outputs": [
        {
          "output_type": "execute_result",
          "data": {
            "text/plain": [
              "tensor(0.8500)"
            ]
          },
          "metadata": {},
          "execution_count": 36
        }
      ]
    },
    {
      "cell_type": "code",
      "source": [
        "def train(net, dataloader, test=None, epochs=10,lr=0.05):\n",
        "  optim = torch.optim.SGD(net.parameters(),lr=lr)\n",
        "  for ep in range(epochs):\n",
        "    for (x,y) in dataloader:\n",
        "        z = net.forward(x).flatten()\n",
        "        # p = sigmoid(z), loss = cross_ent_loss(p,y)\n",
        "        loss = torch.nn.functional.binary_cross_entropy_with_logits(z,y)\n",
        "        optim.zero_grad()\n",
        "        loss.backward()\n",
        "        optim.step()\n",
        "    if test:\n",
        "      (ttest_x,ttest_y) = test\n",
        "      acc = torch.mean(((net(ttest_x)>0).float().flatten()==ttest_y).float())\n",
        "    else:\n",
        "      acc = \"no test\"\n",
        "    print(f\"epoch = {ep}, loss={loss}, acc={acc}\")\n"
      ],
      "metadata": {
        "id": "n_r6vcW7a4h-"
      },
      "execution_count": 54,
      "outputs": []
    },
    {
      "cell_type": "code",
      "source": [
        "net = torch.nn.Linear(2,1)\n",
        "train(net,dataloader,test=(ttest_x,ttest_y),lr=0.05)"
      ],
      "metadata": {
        "colab": {
          "base_uri": "https://localhost:8080/"
        },
        "id": "Ne8P97rRdAOv",
        "outputId": "de978682-658d-468d-ab21-cc066b7b8e8c"
      },
      "execution_count": 61,
      "outputs": [
        {
          "output_type": "stream",
          "name": "stdout",
          "text": [
            "epoch = 0, loss=0.3630484342575073, acc=0.8999999761581421\n",
            "epoch = 1, loss=0.3061462640762329, acc=0.8999999761581421\n",
            "epoch = 2, loss=0.2642037570476532, acc=0.8999999761581421\n",
            "epoch = 3, loss=0.2322477102279663, acc=0.8999999761581421\n",
            "epoch = 4, loss=0.20719322562217712, acc=0.8999999761581421\n",
            "epoch = 5, loss=0.18706703186035156, acc=0.8999999761581421\n",
            "epoch = 6, loss=0.17056462168693542, acc=0.949999988079071\n",
            "epoch = 7, loss=0.1567961424589157, acc=0.949999988079071\n",
            "epoch = 8, loss=0.14513690769672394, acc=0.949999988079071\n",
            "epoch = 9, loss=0.13513699173927307, acc=0.949999988079071\n"
          ]
        }
      ]
    },
    {
      "cell_type": "markdown",
      "source": [
        "## Sequential network definition"
      ],
      "metadata": {
        "id": "RDvDuHK0epGS"
      }
    },
    {
      "cell_type": "code",
      "source": [
        "net = torch.nn.Sequential(torch.nn.Linear(2,5),torch.nn.Sigmoid(),torch.nn.Linear(5,1))\n",
        "train(net,dataloader,test=(ttest_x,ttest_y),lr=0.1)\n"
      ],
      "metadata": {
        "colab": {
          "base_uri": "https://localhost:8080/"
        },
        "id": "OKT4gYZqdNp6",
        "outputId": "d13d8439-db71-4005-bc8d-c45427634038"
      },
      "execution_count": 63,
      "outputs": [
        {
          "output_type": "stream",
          "name": "stdout",
          "text": [
            "epoch = 0, loss=0.6393035054206848, acc=0.6000000238418579\n",
            "epoch = 1, loss=0.6121999025344849, acc=0.6000000238418579\n",
            "epoch = 2, loss=0.5904515981674194, acc=0.800000011920929\n",
            "epoch = 3, loss=0.5707559585571289, acc=0.949999988079071\n",
            "epoch = 4, loss=0.5514424443244934, acc=0.949999988079071\n",
            "epoch = 5, loss=0.5317647457122803, acc=0.949999988079071\n",
            "epoch = 6, loss=0.5114790201187134, acc=1.0\n",
            "epoch = 7, loss=0.4906068444252014, acc=1.0\n",
            "epoch = 8, loss=0.4693039357662201, acc=1.0\n",
            "epoch = 9, loss=0.44778600335121155, acc=1.0\n"
          ]
        }
      ]
    },
    {
      "cell_type": "markdown",
      "source": [
        "## Python Class network definition"
      ],
      "metadata": {
        "id": "UbNwXLhYetE7"
      }
    },
    {
      "cell_type": "code",
      "source": [
        "class MyNet(torch.nn.Module):\n",
        "  def __init__(self,hidden_size=10,func=torch.nn.Sigmoid()):\n",
        "    super().__init__()\n",
        "    self.fc1 = torch.nn.Linear(2,hidden_size)\n",
        "    self.func = func\n",
        "    self.fc2 = torch.nn.Linear(hidden_size,1)\n",
        "\n",
        "  def forward(self,x):\n",
        "    x = self.fc1(x)\n",
        "    x = self.func(x)\n",
        "    x = self.fc2(x)\n",
        "    return x\n",
        "  \n",
        "net = MyNet()\n",
        "\n",
        "train(net,dataloader,test=(ttest_x,ttest_y),lr=0.1,epochs=20)\n"
      ],
      "metadata": {
        "colab": {
          "base_uri": "https://localhost:8080/"
        },
        "id": "Zw8E6-5zeCk9",
        "outputId": "ea8355ee-b94e-455e-8dd1-bef7b7d19baf"
      },
      "execution_count": 65,
      "outputs": [
        {
          "output_type": "stream",
          "name": "stdout",
          "text": [
            "epoch = 0, loss=0.6712511777877808, acc=0.699999988079071\n",
            "epoch = 1, loss=0.6384917497634888, acc=0.8500000238418579\n",
            "epoch = 2, loss=0.6073416471481323, acc=0.8500000238418579\n",
            "epoch = 3, loss=0.5773463249206543, acc=0.949999988079071\n",
            "epoch = 4, loss=0.5482304692268372, acc=0.949999988079071\n",
            "epoch = 5, loss=0.5198550820350647, acc=0.949999988079071\n",
            "epoch = 6, loss=0.49218183755874634, acc=0.949999988079071\n",
            "epoch = 7, loss=0.4652423858642578, acc=1.0\n",
            "epoch = 8, loss=0.43911150097846985, acc=1.0\n",
            "epoch = 9, loss=0.41388511657714844, acc=1.0\n",
            "epoch = 10, loss=0.3896615505218506, acc=1.0\n",
            "epoch = 11, loss=0.3665289878845215, acc=1.0\n",
            "epoch = 12, loss=0.34455665946006775, acc=1.0\n",
            "epoch = 13, loss=0.3237905502319336, acc=1.0\n",
            "epoch = 14, loss=0.3042524456977844, acc=1.0\n",
            "epoch = 15, loss=0.28594136238098145, acc=1.0\n",
            "epoch = 16, loss=0.26883670687675476, acc=1.0\n",
            "epoch = 17, loss=0.2529018521308899, acc=1.0\n",
            "epoch = 18, loss=0.2380879819393158, acc=1.0\n",
            "epoch = 19, loss=0.22433817386627197, acc=1.0\n"
          ]
        }
      ]
    },
    {
      "cell_type": "code",
      "source": [],
      "metadata": {
        "id": "70FC68y8eirq"
      },
      "execution_count": null,
      "outputs": []
    }
  ]
}
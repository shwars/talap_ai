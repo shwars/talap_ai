{
 "cells": [
  {
   "attachments": {},
   "cell_type": "markdown",
   "metadata": {},
   "source": [
    "## Матрицы. Оптимизация."
   ]
  },
  {
   "cell_type": "code",
   "execution_count": null,
   "metadata": {},
   "outputs": [],
   "source": [
    "import numpy as np\n",
    "import matplotlib.pyplot as plt\n",
    "import cv2"
   ]
  },
  {
   "cell_type": "code",
   "execution_count": null,
   "metadata": {},
   "outputs": [],
   "source": [
    "A = np.random.uniform(-10,10,size=(5,5))\n",
    "A"
   ]
  },
  {
   "cell_type": "code",
   "execution_count": null,
   "metadata": {},
   "outputs": [],
   "source": [
    "A - 1"
   ]
  },
  {
   "attachments": {},
   "cell_type": "markdown",
   "metadata": {},
   "source": [
    "### Представление изображений матрицами"
   ]
  },
  {
   "cell_type": "code",
   "execution_count": null,
   "metadata": {},
   "outputs": [],
   "source": [
    "img = cv2.imread(\"dsh_fall_sqr_small.JPG\")\n",
    "img.shape"
   ]
  },
  {
   "cell_type": "code",
   "execution_count": null,
   "metadata": {},
   "outputs": [],
   "source": [
    "imgbw = cv2.cvtColor(img,cv2.COLOR_BGR2GRAY)\n",
    "#img = img[:,:,::-1]\n",
    "plt.imshow(imgbw,cmap='gray')"
   ]
  },
  {
   "cell_type": "code",
   "execution_count": null,
   "metadata": {},
   "outputs": [],
   "source": [
    "np.mean(img,axis=2).shape"
   ]
  },
  {
   "cell_type": "code",
   "execution_count": null,
   "metadata": {},
   "outputs": [],
   "source": [
    "plt.imshow(img[30:80,30:80])"
   ]
  },
  {
   "cell_type": "code",
   "execution_count": null,
   "metadata": {},
   "outputs": [],
   "source": [
    "plt.imshow(cv2.resize(img,(100,10),cv2.INTER_LANCZOS4))"
   ]
  },
  {
   "cell_type": "code",
   "execution_count": null,
   "metadata": {},
   "outputs": [],
   "source": [
    "from math import sin,cos,pi\n",
    "\n",
    "rot = lambda a: np.array([[cos(a), sin(a), 0],[-sin(a),cos(a),0]])\n",
    "trans = lambda d : np.array([[0,0,d[0]],[0,0,d[1]]])\n",
    "\n",
    "plt.imshow(cv2.warpAffine(img,rot(pi/4)+trans((0,100)),(200,200)))\n"
   ]
  },
  {
   "attachments": {},
   "cell_type": "markdown",
   "metadata": {},
   "source": [
    "### Видео. Обнаружение движения"
   ]
  },
  {
   "cell_type": "code",
   "execution_count": null,
   "metadata": {},
   "outputs": [],
   "source": [
    "cap = cv2.VideoCapture(\"motionvideo.mp4\")\n",
    "res = []\n",
    "while cap.isOpened():\n",
    "    ret,frame = cap.read()\n",
    "    if ret:\n",
    "        res.append(frame[:,:,::-1])\n",
    "    else:\n",
    "        break\n",
    "frames = np.array(res)"
   ]
  },
  {
   "cell_type": "code",
   "execution_count": null,
   "metadata": {},
   "outputs": [],
   "source": [
    "frames.shape"
   ]
  },
  {
   "cell_type": "code",
   "execution_count": null,
   "metadata": {},
   "outputs": [],
   "source": [
    "plt.imshow(frames[220])"
   ]
  },
  {
   "cell_type": "code",
   "execution_count": null,
   "metadata": {},
   "outputs": [],
   "source": [
    "def display_images(l,titles=None,fontsize=12):\n",
    "    n=len(l)\n",
    "    fig,ax = plt.subplots(1,n)\n",
    "    for i,im in enumerate(l):\n",
    "        ax[i].imshow(im)\n",
    "        ax[i].axis('off')\n",
    "        if titles is not None:\n",
    "            ax[i].set_title(titles[i],fontsize=fontsize)\n",
    "    fig.set_size_inches(fig.get_size_inches()*n)\n",
    "    plt.tight_layout()\n",
    "    plt.show()\n",
    "\n",
    "display_images(frames[::150])"
   ]
  },
  {
   "cell_type": "code",
   "execution_count": null,
   "metadata": {},
   "outputs": [],
   "source": [
    "bwframes = [cv2.cvtColor(x,cv2.COLOR_BGR2GRAY) for x in frames]\n",
    "diffs = [(p2-p1) for p1,p2 in zip(bwframes[:-1],bwframes[1:])]\n",
    "diff_amps = np.array([np.linalg.norm(x) for x in diffs])\n",
    "plt.plot(diff_amps)\n",
    "display_images(diffs[::150],titles=diff_amps[::150],fontsize=20)"
   ]
  },
  {
   "cell_type": "code",
   "execution_count": null,
   "metadata": {},
   "outputs": [],
   "source": [
    "def moving_average(x, w):\n",
    "    return np.convolve(x, np.ones(w), 'valid') / w\n",
    "\n",
    "threshold = 13000\n",
    "\n",
    "plt.plot(moving_average(diff_amps,10))\n",
    "plt.axhline(y=threshold, color='r', linestyle='-')"
   ]
  },
  {
   "cell_type": "code",
   "execution_count": null,
   "metadata": {},
   "outputs": [],
   "source": [
    "active_frames = np.where(diff_amps>threshold)[0]\n",
    "\n",
    "def subsequence(seq,min_length=30):\n",
    "    ss = []\n",
    "    for i,x in enumerate(seq[:-1]):\n",
    "        ss.append(x)\n",
    "        if x+1 != seq[i+1]:\n",
    "            if len(ss)>min_length:\n",
    "                return ss\n",
    "            ss.clear()\n",
    "\n",
    "sub = subsequence(active_frames)\n",
    "print(sub)"
   ]
  },
  {
   "cell_type": "code",
   "execution_count": null,
   "metadata": {},
   "outputs": [],
   "source": [
    "plt.imshow(frames[(sub[0]+sub[-1])//2])\n"
   ]
  },
  {
   "attachments": {},
   "cell_type": "markdown",
   "metadata": {},
   "source": [
    "### Системы линейных алгебраических уравнений (СЛАУ)\n",
    "\n",
    "Рассмотрим систему уравнений:\n",
    "$$\n",
    "\\begin{cases}\n",
    "x_1+x_2+x_3 = 2 \\\\\n",
    "2x_1+3x_2-x_3 = 5\\\\\n",
    "x_1-x_2+x_3 = 0\\\\\n",
    "\\end{cases}\n",
    "$$\n",
    "Она может быть представлена в матричной форме\n",
    "$$\n",
    "\\begin{pmatrix} 1 & 1 & 1 \\\\ 2 & 3 & -1 \\\\ 1 & -1 & 1\\end{pmatrix} \\times\n",
    "\\begin{pmatrix} x_1 \\\\ x_2 \\\\ x_3 \\end{pmatrix} =\n",
    "\\begin{pmatrix} 2 \\\\ 5 \\\\ 0 \\end{pmatrix}\n",
    "$$"
   ]
  },
  {
   "cell_type": "code",
   "execution_count": null,
   "metadata": {},
   "outputs": [],
   "source": [
    "np.set_printoptions(precision=3)\n",
    "\n",
    "A = np.array([[1,1,1],[2,3,-1],[1,-1,1]],dtype=np.float32)\n",
    "b = np.array([2,5,0],dtype=np.float32)\n",
    "\n",
    "A = np.random.normal(size=(7,7))\n",
    "b = np.random.normal(size=(7,))"
   ]
  },
  {
   "cell_type": "code",
   "execution_count": null,
   "metadata": {},
   "outputs": [],
   "source": [
    "x = np.linalg.inv(A)@b\n",
    "x"
   ]
  },
  {
   "cell_type": "code",
   "execution_count": null,
   "metadata": {},
   "outputs": [],
   "source": [
    "A@x"
   ]
  },
  {
   "cell_type": "code",
   "execution_count": null,
   "metadata": {},
   "outputs": [],
   "source": [
    "def diag(A,b):\n",
    "  n = A.shape[0]\n",
    "  for i in range(n):\n",
    "    for j in range(i):\n",
    "      coef = A[i,j]/A[j,j]\n",
    "      A[i] = A[i]-coef*A[j]\n",
    "      b[i] = b[i]-coef*b[j]\n",
    "    b[i] = b[i]/A[i,i]\n",
    "    A[i] = A[i]/A[i,i]\n",
    "\n",
    "print(A,b)\n",
    "diag(A,b)\n",
    "print(A,b)"
   ]
  },
  {
   "cell_type": "code",
   "execution_count": null,
   "metadata": {},
   "outputs": [],
   "source": [
    "def solve(A,b):\n",
    "    n = A.shape[0]\n",
    "    for i in range(n-2,-1,-1):\n",
    "        for j in range(i+1,n):\n",
    "            coef = A[i,j]\n",
    "            A[i]=A[i]-A[j]*coef\n",
    "            b[i]=b[i]-b[j]*coef\n",
    "solve(A,b)\n",
    "A,b"
   ]
  },
  {
   "attachments": {},
   "cell_type": "markdown",
   "metadata": {},
   "source": [
    "### Метод наименьших квадратов"
   ]
  },
  {
   "cell_type": "code",
   "execution_count": null,
   "metadata": {},
   "outputs": [],
   "source": [
    "x = np.random.uniform(10,100,100)\n",
    "y = 2*x+1+np.random.uniform(-30,30,100)\n",
    "plt.scatter(x,y)"
   ]
  },
  {
   "cell_type": "code",
   "execution_count": null,
   "metadata": {},
   "outputs": [],
   "source": [
    "n = len(x)\n",
    "a = (x.sum()*y.sum()-n*(x*y).sum())/(x.sum()**2-n*(x**2).sum())\n",
    "b = (y.sum()*(x**2).sum()-x.sum()*(x*y).sum())/(x**2).sum()/(n-x.sum())\n",
    "print(a,b)"
   ]
  },
  {
   "cell_type": "code",
   "execution_count": null,
   "metadata": {},
   "outputs": [],
   "source": [
    "plt.scatter(x,y)\n",
    "plt.plot(x,a*x+b,color='r')"
   ]
  },
  {
   "attachments": {},
   "cell_type": "markdown",
   "metadata": {},
   "source": [
    "## Оптимизация. Градиентный спуск"
   ]
  },
  {
   "cell_type": "code",
   "execution_count": 56,
   "metadata": {},
   "outputs": [],
   "source": [
    "f = lambda x,y : (x-2)**2 + (y+1)**2 + 5\n",
    "\n",
    "def f(x,y):\n",
    "    return (x-2)**2 + (y+1)**2 + 5"
   ]
  },
  {
   "cell_type": "code",
   "execution_count": 58,
   "metadata": {},
   "outputs": [
    {
     "data": {
      "text/plain": [
       "array([15, 21])"
      ]
     },
     "execution_count": 58,
     "metadata": {},
     "output_type": "execute_result"
    }
   ],
   "source": [
    "f(np.array([1,2]),np.array([2,3]))"
   ]
  },
  {
   "cell_type": "code",
   "execution_count": 59,
   "metadata": {},
   "outputs": [
    {
     "data": {
      "text/plain": [
       "<matplotlib.contour.QuadContourSet at 0x2205d721250>"
      ]
     },
     "execution_count": 59,
     "metadata": {},
     "output_type": "execute_result"
    },
    {
     "data": {
      "image/png": "[encoded data removed]",
      "text/plain": [
       "<Figure size 432x288 with 1 Axes>"
      ]
     },
     "metadata": {
      "needs_background": "light"
     },
     "output_type": "display_data"
    }
   ],
   "source": [
    "Xf,Yf = np.meshgrid(np.linspace(-10,10,50), np.linspace(-10,10,50))\n",
    "Zf = f(Xf,Yf)\n",
    "plt.contourf(Xf,Yf,Zf)"
   ]
  },
  {
   "cell_type": "code",
   "execution_count": 85,
   "metadata": {},
   "outputs": [
    {
     "name": "stdout",
     "output_type": "stream",
     "text": [
      "x=-6.009999999999991, y=-6.610000000000014, z=100.63220000000001\n",
      "x=-4.417999999999992, y=-5.498000000000005, z=66.42272799999994\n",
      "x=-3.1444000000000045, y=-4.60840000000001, z=44.48540192000012\n",
      "x=-2.1255200000000016, y=-3.896720000000009, z=30.410902028800066\n",
      "x=-1.3104160000000036, y=-3.327376000000008, z=21.37553313843206\n",
      "x=-0.6583328000000037, y=-2.871900800000006, z=15.570745880596522\n",
      "x=-0.13666624000000205, y=-2.5075206400000045, z=11.83796110118177\n",
      "x=0.280667008, y=-2.216016512000003, z=9.434802094836325\n",
      "x=0.6145336064000002, y=-1.9828132096000033, z=7.88543893275925\n",
      "x=0.8816268851200011, y=-1.7962505676800031, z=6.884773390617118\n",
      "x=1.095301508096001, y=-1.6470004541440026, z=6.2370889489159165\n",
      "x=1.2662412064768018, y=-1.5276003633152024, z=5.816764110442953\n",
      "x=1.4029929651814417, y=-1.432080290652162, z=5.543110777192904\n",
      "x=1.5123943721451534, y=-1.3556642325217299, z=5.36425629461099\n",
      "x=1.5999154977161227, y=-1.2945313860173844, z=5.246816346317059\n"
     ]
    }
   ],
   "source": [
    "def d(f,x,dx=0.1):\n",
    "  return (f(x+dx)-f(x))/dx\n",
    "\n",
    "dfdx = lambda x,y : d(lambda t : f(t,y),x)\n",
    "dfdy = lambda x,y : d(lambda t : f(x,t),y)\n",
    "\n",
    "x,y = -8,-8\n",
    "X,Y = [],[]\n",
    "eta = 0.1\n",
    "for _ in range(15):\n",
    "  X.append(x); Y.append(y)\n",
    "  x-=eta*dfdx(x,y)\n",
    "  y-=eta*dfdy(x,y)\n",
    "  print(f\"x={x}, y={y}, z={f(x,y)}\")"
   ]
  },
  {
   "cell_type": "code",
   "execution_count": 86,
   "metadata": {},
   "outputs": [
    {
     "data": {
      "text/plain": [
       "<matplotlib.collections.PathCollection at 0x2205db993a0>"
      ]
     },
     "execution_count": 86,
     "metadata": {},
     "output_type": "execute_result"
    },
    {
     "data": {
      "image/png": "[encoded data removed]",
      "text/plain": [
       "<Figure size 432x288 with 1 Axes>"
      ]
     },
     "metadata": {
      "needs_background": "light"
     },
     "output_type": "display_data"
    }
   ],
   "source": [
    "plt.contourf(Xf,Yf,Zf)\n",
    "plt.scatter(X,Y)"
   ]
  },
  {
   "attachments": {},
   "cell_type": "markdown",
   "metadata": {},
   "source": [
    "### Оптимизация для регрессии"
   ]
  },
  {
   "cell_type": "code",
   "execution_count": 87,
   "metadata": {},
   "outputs": [
    {
     "data": {
      "text/plain": [
       "<matplotlib.collections.PathCollection at 0x2205dc86970>"
      ]
     },
     "execution_count": 87,
     "metadata": {},
     "output_type": "execute_result"
    },
    {
     "data": {
      "image/png": "[encoded data removed]",
      "text/plain": [
       "<Figure size 432x288 with 1 Axes>"
      ]
     },
     "metadata": {
      "needs_background": "light"
     },
     "output_type": "display_data"
    }
   ],
   "source": [
    "x = np.random.uniform(10,100,100)\n",
    "y = 2*x+1+np.random.uniform(-15,15,100)\n",
    "plt.scatter(x,y)"
   ]
  },
  {
   "cell_type": "code",
   "execution_count": 88,
   "metadata": {},
   "outputs": [
    {
     "data": {
      "text/plain": [
       "2967.7293984411117"
      ]
     },
     "execution_count": 88,
     "metadata": {},
     "output_type": "execute_result"
    }
   ],
   "source": [
    "def loss(a,b):\n",
    "    py = a*x+b\n",
    "    return np.mean((y-py)**2)\n",
    "\n",
    "loss(1,2)"
   ]
  },
  {
   "cell_type": "code",
   "execution_count": 95,
   "metadata": {},
   "outputs": [
    {
     "name": "stdout",
     "output_type": "stream",
     "text": [
      "loss = 1871.7481016520248, a=1.232958924203109, b=0.007557542314734292\n",
      "loss = 363.4687152565152, a=1.6805872815356995, b=0.010577804137991222\n",
      "loss = 131.70469976676924, a=1.8430969062840465, b=0.011950769729309883\n",
      "loss = 89.19037292488879, a=1.902092552315042, b=0.012725664325613764\n",
      "loss = 79.24253915462606, a=1.9235068592954572, b=0.01328341512224239\n",
      "loss = 76.35434119029081, a=1.9312770473743521, b=0.013762319906287488\n",
      "loss = 75.40126847927107, a=1.9340936605881889, b=0.014212588477021157\n",
      "loss = 75.06798882774632, a=1.9351118504198583, b=0.014652449788301396\n",
      "loss = 74.94881937827405, a=1.9354771125757493, b=0.015088521966009523\n",
      "loss = 74.90594595625227, a=1.9356053257927333, b=0.015523207758835738\n",
      "loss = 74.89058274712136, a=1.9356474772135923, b=0.01595737949878523\n",
      "loss = 74.88518233482561, a=1.9356583835799928, b=0.016391353891373767\n",
      "loss = 74.88339571950958, a=1.9356579464220316, b=0.016825245918757375\n",
      "loss = 74.88292071949374, a=1.9356533911034925, b=0.017259097326277995\n",
      "loss = 74.8829218914316, a=1.9356473408338204, b=0.017692923270235212\n",
      "loss = 74.8830959725231, a=1.9356407479841302, b=0.018126729253625497\n",
      "loss = 74.8833328680236, a=1.9356339583181696, b=0.01856051727475858\n",
      "loss = 74.88359260826687, a=1.9356270973674292, b=0.01899428805954781\n",
      "loss = 74.88386068214666, a=1.9356202107068243, b=0.01942804187195564\n",
      "loss = 74.88413182133284, a=1.9356133148825811, b=0.01986177880823062\n",
      "loss = 74.88440411312536, a=1.9356064159018942, b=0.02029549890373195\n",
      "loss = 74.88467686310226, a=1.9355995159457036, b=0.020729202171712553\n",
      "loss = 74.88494981914486, a=1.935592615805805, b=0.021162888617399272\n",
      "loss = 74.88522288971481, a=1.9355857157696579, b=0.021596558243105315\n",
      "loss = 74.88549604157362, a=1.9355788159416192, b=0.022030211050085905\n",
      "loss = 74.88576926264845, a=1.9355719163595702, b=0.02246384703921229\n",
      "loss = 74.88604254855115, a=1.935565017037257, b=0.022897466211216078\n",
      "loss = 74.88631589768347, a=1.9355581179796635, b=0.02333106856677835\n",
      "loss = 74.88658930946006, a=1.9355512191885926, b=0.023764654106561787\n",
      "loss = 74.8868627836632, a=1.9355443206646925, b=0.024198222831222305\n"
     ]
    }
   ],
   "source": [
    "a,b = 0,0\n",
    "A,B = [],[]\n",
    "eta = 0.0001\n",
    "for _ in range(30):\n",
    "    A.append(a); B.append(b)\n",
    "    a-=eta*d(lambda x: loss(x,b),a)\n",
    "    b-=eta*d(lambda x: loss(a,x),b)\n",
    "    print(f\"loss = {loss(a,b)}, a={a}, b={b}\")"
   ]
  },
  {
   "cell_type": "code",
   "execution_count": 96,
   "metadata": {},
   "outputs": [
    {
     "data": {
      "text/plain": [
       "<matplotlib.collections.PathCollection at 0x2205dd54400>"
      ]
     },
     "execution_count": 96,
     "metadata": {},
     "output_type": "execute_result"
    },
    {
     "data": {
      "image/png": "[encoded data removed]",
      "text/plain": [
       "<Figure size 432x288 with 1 Axes>"
      ]
     },
     "metadata": {
      "needs_background": "light"
     },
     "output_type": "display_data"
    }
   ],
   "source": [
    "plt.scatter(A,B)"
   ]
  },
  {
   "cell_type": "code",
   "execution_count": 97,
   "metadata": {},
   "outputs": [
    {
     "data": {
      "text/plain": [
       "[<matplotlib.lines.Line2D at 0x2205dd8a880>]"
      ]
     },
     "execution_count": 97,
     "metadata": {},
     "output_type": "execute_result"
    },
    {
     "data": {
      "image/png": "[encoded data removed]",
      "text/plain": [
       "<Figure size 432x288 with 1 Axes>"
      ]
     },
     "metadata": {
      "needs_background": "light"
     },
     "output_type": "display_data"
    }
   ],
   "source": [
    "plt.scatter(x,y)\n",
    "plt.plot(x,a*x+b,color='r')"
   ]
  },
  {
   "attachments": {},
   "cell_type": "markdown",
   "metadata": {},
   "source": [
    "## Реальные данные"
   ]
  },
  {
   "cell_type": "code",
   "execution_count": 109,
   "metadata": {},
   "outputs": [
    {
     "data": {
      "text/html": [
       "<div>\n",
       "<style scoped>\n",
       "    .dataframe tbody tr th:only-of-type {\n",
       "        vertical-align: middle;\n",
       "    }\n",
       "\n",
       "    .dataframe tbody tr th {\n",
       "        vertical-align: top;\n",
       "    }\n",
       "\n",
       "    .dataframe thead th {\n",
       "        text-align: right;\n",
       "    }\n",
       "</style>\n",
       "<table border=\"1\" class=\"dataframe\">\n",
       "  <thead>\n",
       "    <tr style=\"text-align: right;\">\n",
       "      <th></th>\n",
       "      <th>origin</th>\n",
       "      <th>destination</th>\n",
       "      <th>vehicle_class</th>\n",
       "      <th>price</th>\n",
       "    </tr>\n",
       "  </thead>\n",
       "  <tbody>\n",
       "    <tr>\n",
       "      <th>0</th>\n",
       "      <td>MADRID</td>\n",
       "      <td>BARCELONA</td>\n",
       "      <td>Turista</td>\n",
       "      <td>108.90</td>\n",
       "    </tr>\n",
       "    <tr>\n",
       "      <th>1</th>\n",
       "      <td>MADRID</td>\n",
       "      <td>BARCELONA</td>\n",
       "      <td>Turista Plus</td>\n",
       "      <td>115.65</td>\n",
       "    </tr>\n",
       "    <tr>\n",
       "      <th>2</th>\n",
       "      <td>MADRID</td>\n",
       "      <td>BARCELONA</td>\n",
       "      <td>Turista</td>\n",
       "      <td>108.90</td>\n",
       "    </tr>\n",
       "    <tr>\n",
       "      <th>3</th>\n",
       "      <td>MADRID</td>\n",
       "      <td>BARCELONA</td>\n",
       "      <td>Turista</td>\n",
       "      <td>108.90</td>\n",
       "    </tr>\n",
       "    <tr>\n",
       "      <th>4</th>\n",
       "      <td>MADRID</td>\n",
       "      <td>BARCELONA</td>\n",
       "      <td>Turista</td>\n",
       "      <td>108.90</td>\n",
       "    </tr>\n",
       "    <tr>\n",
       "      <th>...</th>\n",
       "      <td>...</td>\n",
       "      <td>...</td>\n",
       "      <td>...</td>\n",
       "      <td>...</td>\n",
       "    </tr>\n",
       "    <tr>\n",
       "      <th>1246671</th>\n",
       "      <td>ZARAGOZA</td>\n",
       "      <td>BARCELONA</td>\n",
       "      <td>Turista Plus</td>\n",
       "      <td>54.75</td>\n",
       "    </tr>\n",
       "    <tr>\n",
       "      <th>1246672</th>\n",
       "      <td>ZARAGOZA</td>\n",
       "      <td>BARCELONA</td>\n",
       "      <td>Turista</td>\n",
       "      <td>60.90</td>\n",
       "    </tr>\n",
       "    <tr>\n",
       "      <th>1246673</th>\n",
       "      <td>ZARAGOZA</td>\n",
       "      <td>BARCELONA</td>\n",
       "      <td>Turista</td>\n",
       "      <td>53.60</td>\n",
       "    </tr>\n",
       "    <tr>\n",
       "      <th>1246674</th>\n",
       "      <td>ZARAGOZA</td>\n",
       "      <td>BARCELONA</td>\n",
       "      <td>Turista</td>\n",
       "      <td>60.90</td>\n",
       "    </tr>\n",
       "    <tr>\n",
       "      <th>1246675</th>\n",
       "      <td>ZARAGOZA</td>\n",
       "      <td>BARCELONA</td>\n",
       "      <td>Turista</td>\n",
       "      <td>51.15</td>\n",
       "    </tr>\n",
       "  </tbody>\n",
       "</table>\n",
       "<p>1246676 rows × 4 columns</p>\n",
       "</div>"
      ],
      "text/plain": [
       "           origin destination vehicle_class   price\n",
       "0          MADRID   BARCELONA       Turista  108.90\n",
       "1          MADRID   BARCELONA  Turista Plus  115.65\n",
       "2          MADRID   BARCELONA       Turista  108.90\n",
       "3          MADRID   BARCELONA       Turista  108.90\n",
       "4          MADRID   BARCELONA       Turista  108.90\n",
       "...           ...         ...           ...     ...\n",
       "1246671  ZARAGOZA   BARCELONA  Turista Plus   54.75\n",
       "1246672  ZARAGOZA   BARCELONA       Turista   60.90\n",
       "1246673  ZARAGOZA   BARCELONA       Turista   53.60\n",
       "1246674  ZARAGOZA   BARCELONA       Turista   60.90\n",
       "1246675  ZARAGOZA   BARCELONA       Turista   51.15\n",
       "\n",
       "[1246676 rows x 4 columns]"
      ]
     },
     "execution_count": 109,
     "metadata": {},
     "output_type": "execute_result"
    }
   ],
   "source": [
    "import pandas as pd\n",
    "df = pd.read_csv(\"data/renfe-tickets.csv\")\n",
    "df"
   ]
  },
  {
   "cell_type": "code",
   "execution_count": 115,
   "metadata": {},
   "outputs": [
    {
     "data": {
      "text/plain": [
       "{0: 'MADRID',\n",
       " 1: 'SEVILLA',\n",
       " 2: 'ZARAGOZA',\n",
       " 3: 'VALLADOLID',\n",
       " 4: 'BARCELONA',\n",
       " 5: 'LEÓN',\n",
       " 6: 'CÓRDOBA',\n",
       " 7: 'VALENCIA',\n",
       " 8: 'MÁLAGA'}"
      ]
     },
     "execution_count": 115,
     "metadata": {},
     "output_type": "execute_result"
    }
   ],
   "source": [
    "cities = dict(enumerate(set(df['origin'])))\n",
    "c2id = { v : k for k,v in cities.items() }\n",
    "cities"
   ]
  },
  {
   "cell_type": "code",
   "execution_count": 121,
   "metadata": {},
   "outputs": [],
   "source": [
    "P = np.zeros(shape=(len(cities),len(cities)))\n",
    "C = np.zeros_like(P)\n",
    "\n",
    "for _,r in df.iterrows():\n",
    "    oid = c2id[r['origin']]\n",
    "    did = c2id[r['destination']]\n",
    "    C[oid,did]+=1.0\n",
    "    P[oid,did]+=r['price']"
   ]
  },
  {
   "cell_type": "code",
   "execution_count": 126,
   "metadata": {},
   "outputs": [
    {
     "data": {
      "text/plain": [
       "<matplotlib.image.AxesImage at 0x22060bee4c0>"
      ]
     },
     "execution_count": 126,
     "metadata": {},
     "output_type": "execute_result"
    },
    {
     "data": {
      "image/png": "[encoded data removed]",
      "text/plain": [
       "<Figure size 432x288 with 1 Axes>"
      ]
     },
     "metadata": {
      "needs_background": "light"
     },
     "output_type": "display_data"
    }
   ],
   "source": [
    "plt.imshow(C)"
   ]
  },
  {
   "cell_type": "code",
   "execution_count": 137,
   "metadata": {},
   "outputs": [
    {
     "name": "stderr",
     "output_type": "stream",
     "text": [
      "C:\\Users\\dmitr\\AppData\\Local\\Temp\\ipykernel_7776\\652265645.py:1: RuntimeWarning: invalid value encountered in true_divide\n",
      "  R = P/C\n"
     ]
    },
    {
     "data": {
      "text/plain": [
       "array([[ 0.        , 55.63023019, 46.79952917, 31.43426546, 88.67386943,\n",
       "        33.9459046 , 48.61764989, 38.47359528, 56.5886107 ],\n",
       "       [53.10882997,  0.        ,  0.        ,  0.        ,  0.        ,\n",
       "         0.        ,  0.        ,  0.        ,  0.        ],\n",
       "       [44.8607342 ,  0.        ,  0.        ,  0.        , 46.57774315,\n",
       "         0.        ,  0.        ,  0.        ,  0.        ],\n",
       "       [31.63690227,  0.        ,  0.        ,  0.        ,  0.        ,\n",
       "         0.        ,  0.        ,  0.        ,  0.        ],\n",
       "       [87.65076259,  0.        , 45.02321235,  0.        ,  0.        ,\n",
       "         0.        ,  0.        , 28.39870183,  0.        ],\n",
       "       [35.73653221,  0.        ,  0.        ,  0.        ,  0.        ,\n",
       "         0.        ,  0.        ,  0.        ,  0.        ],\n",
       "       [48.36026877,  0.        ,  0.        ,  0.        ,  0.        ,\n",
       "         0.        ,  0.        ,  0.        ,  0.        ],\n",
       "       [47.6511892 ,  0.        ,  0.        ,  0.        , 29.55066557,\n",
       "         0.        ,  0.        ,  0.        ,  0.        ],\n",
       "       [57.86783419,  0.        ,  0.        ,  0.        ,  0.        ,\n",
       "         0.        ,  0.        ,  0.        ,  0.        ]])"
      ]
     },
     "execution_count": 137,
     "metadata": {},
     "output_type": "execute_result"
    }
   ],
   "source": [
    "R = P/C\n",
    "R[~(R>0)]=0\n",
    "R"
   ]
  },
  {
   "cell_type": "code",
   "execution_count": 160,
   "metadata": {},
   "outputs": [
    {
     "data": {
      "text/html": [
       "<div>\n",
       "<style scoped>\n",
       "    .dataframe tbody tr th:only-of-type {\n",
       "        vertical-align: middle;\n",
       "    }\n",
       "\n",
       "    .dataframe tbody tr th {\n",
       "        vertical-align: top;\n",
       "    }\n",
       "\n",
       "    .dataframe thead th {\n",
       "        text-align: right;\n",
       "    }\n",
       "</style>\n",
       "<table border=\"1\" class=\"dataframe\">\n",
       "  <thead>\n",
       "    <tr style=\"text-align: right;\">\n",
       "      <th></th>\n",
       "      <th>origin</th>\n",
       "      <th>destination</th>\n",
       "      <th>price</th>\n",
       "      <th>count</th>\n",
       "    </tr>\n",
       "  </thead>\n",
       "  <tbody>\n",
       "    <tr>\n",
       "      <th>0</th>\n",
       "      <td>BARCELONA</td>\n",
       "      <td>MADRID</td>\n",
       "      <td>87.650763</td>\n",
       "      <td>74601</td>\n",
       "    </tr>\n",
       "    <tr>\n",
       "      <th>1</th>\n",
       "      <td>BARCELONA</td>\n",
       "      <td>VALENCIA</td>\n",
       "      <td>28.398702</td>\n",
       "      <td>52805</td>\n",
       "    </tr>\n",
       "    <tr>\n",
       "      <th>2</th>\n",
       "      <td>BARCELONA</td>\n",
       "      <td>ZARAGOZA</td>\n",
       "      <td>45.023212</td>\n",
       "      <td>89570</td>\n",
       "    </tr>\n",
       "    <tr>\n",
       "      <th>3</th>\n",
       "      <td>CÓRDOBA</td>\n",
       "      <td>MADRID</td>\n",
       "      <td>48.360269</td>\n",
       "      <td>72068</td>\n",
       "    </tr>\n",
       "    <tr>\n",
       "      <th>4</th>\n",
       "      <td>LEÓN</td>\n",
       "      <td>MADRID</td>\n",
       "      <td>35.736532</td>\n",
       "      <td>21544</td>\n",
       "    </tr>\n",
       "    <tr>\n",
       "      <th>5</th>\n",
       "      <td>MADRID</td>\n",
       "      <td>BARCELONA</td>\n",
       "      <td>88.673869</td>\n",
       "      <td>75701</td>\n",
       "    </tr>\n",
       "    <tr>\n",
       "      <th>6</th>\n",
       "      <td>MADRID</td>\n",
       "      <td>CÓRDOBA</td>\n",
       "      <td>48.617650</td>\n",
       "      <td>72720</td>\n",
       "    </tr>\n",
       "    <tr>\n",
       "      <th>7</th>\n",
       "      <td>MADRID</td>\n",
       "      <td>LEÓN</td>\n",
       "      <td>33.945905</td>\n",
       "      <td>24674</td>\n",
       "    </tr>\n",
       "    <tr>\n",
       "      <th>8</th>\n",
       "      <td>MADRID</td>\n",
       "      <td>MÁLAGA</td>\n",
       "      <td>56.588611</td>\n",
       "      <td>27899</td>\n",
       "    </tr>\n",
       "    <tr>\n",
       "      <th>9</th>\n",
       "      <td>MADRID</td>\n",
       "      <td>SEVILLA</td>\n",
       "      <td>55.630230</td>\n",
       "      <td>38794</td>\n",
       "    </tr>\n",
       "    <tr>\n",
       "      <th>10</th>\n",
       "      <td>MADRID</td>\n",
       "      <td>VALENCIA</td>\n",
       "      <td>38.473595</td>\n",
       "      <td>58677</td>\n",
       "    </tr>\n",
       "    <tr>\n",
       "      <th>11</th>\n",
       "      <td>MADRID</td>\n",
       "      <td>VALLADOLID</td>\n",
       "      <td>31.434265</td>\n",
       "      <td>108068</td>\n",
       "    </tr>\n",
       "    <tr>\n",
       "      <th>12</th>\n",
       "      <td>MADRID</td>\n",
       "      <td>ZARAGOZA</td>\n",
       "      <td>46.799529</td>\n",
       "      <td>78585</td>\n",
       "    </tr>\n",
       "    <tr>\n",
       "      <th>13</th>\n",
       "      <td>MÁLAGA</td>\n",
       "      <td>MADRID</td>\n",
       "      <td>57.867834</td>\n",
       "      <td>27080</td>\n",
       "    </tr>\n",
       "    <tr>\n",
       "      <th>14</th>\n",
       "      <td>SEVILLA</td>\n",
       "      <td>MADRID</td>\n",
       "      <td>53.108830</td>\n",
       "      <td>36059</td>\n",
       "    </tr>\n",
       "    <tr>\n",
       "      <th>15</th>\n",
       "      <td>VALENCIA</td>\n",
       "      <td>BARCELONA</td>\n",
       "      <td>29.550666</td>\n",
       "      <td>49957</td>\n",
       "    </tr>\n",
       "    <tr>\n",
       "      <th>16</th>\n",
       "      <td>VALENCIA</td>\n",
       "      <td>MADRID</td>\n",
       "      <td>47.651189</td>\n",
       "      <td>58905</td>\n",
       "    </tr>\n",
       "    <tr>\n",
       "      <th>17</th>\n",
       "      <td>VALLADOLID</td>\n",
       "      <td>MADRID</td>\n",
       "      <td>31.636902</td>\n",
       "      <td>104415</td>\n",
       "    </tr>\n",
       "    <tr>\n",
       "      <th>18</th>\n",
       "      <td>ZARAGOZA</td>\n",
       "      <td>BARCELONA</td>\n",
       "      <td>46.577743</td>\n",
       "      <td>90817</td>\n",
       "    </tr>\n",
       "    <tr>\n",
       "      <th>19</th>\n",
       "      <td>ZARAGOZA</td>\n",
       "      <td>MADRID</td>\n",
       "      <td>44.860734</td>\n",
       "      <td>83737</td>\n",
       "    </tr>\n",
       "  </tbody>\n",
       "</table>\n",
       "</div>"
      ],
      "text/plain": [
       "        origin destination      price   count\n",
       "0    BARCELONA      MADRID  87.650763   74601\n",
       "1    BARCELONA    VALENCIA  28.398702   52805\n",
       "2    BARCELONA    ZARAGOZA  45.023212   89570\n",
       "3      CÓRDOBA      MADRID  48.360269   72068\n",
       "4         LEÓN      MADRID  35.736532   21544\n",
       "5       MADRID   BARCELONA  88.673869   75701\n",
       "6       MADRID     CÓRDOBA  48.617650   72720\n",
       "7       MADRID        LEÓN  33.945905   24674\n",
       "8       MADRID      MÁLAGA  56.588611   27899\n",
       "9       MADRID     SEVILLA  55.630230   38794\n",
       "10      MADRID    VALENCIA  38.473595   58677\n",
       "11      MADRID  VALLADOLID  31.434265  108068\n",
       "12      MADRID    ZARAGOZA  46.799529   78585\n",
       "13      MÁLAGA      MADRID  57.867834   27080\n",
       "14     SEVILLA      MADRID  53.108830   36059\n",
       "15    VALENCIA   BARCELONA  29.550666   49957\n",
       "16    VALENCIA      MADRID  47.651189   58905\n",
       "17  VALLADOLID      MADRID  31.636902  104415\n",
       "18    ZARAGOZA   BARCELONA  46.577743   90817\n",
       "19    ZARAGOZA      MADRID  44.860734   83737"
      ]
     },
     "execution_count": 160,
     "metadata": {},
     "output_type": "execute_result"
    }
   ],
   "source": [
    "res = df.groupby(['origin','destination'])\\\n",
    "    .agg({ 'price' : 'mean', 'vehicle_class' : 'count'})\\\n",
    "    .rename(columns={'vehicle_class' : 'count'})\\\n",
    "    .reset_index()\n",
    "res"
   ]
  },
  {
   "cell_type": "code",
   "execution_count": 143,
   "metadata": {},
   "outputs": [
    {
     "data": {
      "text/html": [
       "<div>\n",
       "<style scoped>\n",
       "    .dataframe tbody tr th:only-of-type {\n",
       "        vertical-align: middle;\n",
       "    }\n",
       "\n",
       "    .dataframe tbody tr th {\n",
       "        vertical-align: top;\n",
       "    }\n",
       "\n",
       "    .dataframe thead th {\n",
       "        text-align: right;\n",
       "    }\n",
       "</style>\n",
       "<table border=\"1\" class=\"dataframe\">\n",
       "  <thead>\n",
       "    <tr style=\"text-align: right;\">\n",
       "      <th></th>\n",
       "      <th>city</th>\n",
       "      <th>city_ascii</th>\n",
       "      <th>lat</th>\n",
       "      <th>lng</th>\n",
       "      <th>country</th>\n",
       "      <th>iso2</th>\n",
       "      <th>iso3</th>\n",
       "      <th>admin_name</th>\n",
       "      <th>capital</th>\n",
       "      <th>population</th>\n",
       "      <th>id</th>\n",
       "    </tr>\n",
       "  </thead>\n",
       "  <tbody>\n",
       "    <tr>\n",
       "      <th>0</th>\n",
       "      <td>Tokyo</td>\n",
       "      <td>Tokyo</td>\n",
       "      <td>35.6839</td>\n",
       "      <td>139.7744</td>\n",
       "      <td>Japan</td>\n",
       "      <td>JP</td>\n",
       "      <td>JPN</td>\n",
       "      <td>Tōkyō</td>\n",
       "      <td>primary</td>\n",
       "      <td>39105000.0</td>\n",
       "      <td>1392685764</td>\n",
       "    </tr>\n",
       "    <tr>\n",
       "      <th>1</th>\n",
       "      <td>Jakarta</td>\n",
       "      <td>Jakarta</td>\n",
       "      <td>-6.2146</td>\n",
       "      <td>106.8451</td>\n",
       "      <td>Indonesia</td>\n",
       "      <td>ID</td>\n",
       "      <td>IDN</td>\n",
       "      <td>Jakarta</td>\n",
       "      <td>primary</td>\n",
       "      <td>35362000.0</td>\n",
       "      <td>1360771077</td>\n",
       "    </tr>\n",
       "    <tr>\n",
       "      <th>2</th>\n",
       "      <td>Delhi</td>\n",
       "      <td>Delhi</td>\n",
       "      <td>28.6667</td>\n",
       "      <td>77.2167</td>\n",
       "      <td>India</td>\n",
       "      <td>IN</td>\n",
       "      <td>IND</td>\n",
       "      <td>Delhi</td>\n",
       "      <td>admin</td>\n",
       "      <td>31870000.0</td>\n",
       "      <td>1356872604</td>\n",
       "    </tr>\n",
       "    <tr>\n",
       "      <th>3</th>\n",
       "      <td>Manila</td>\n",
       "      <td>Manila</td>\n",
       "      <td>14.6000</td>\n",
       "      <td>120.9833</td>\n",
       "      <td>Philippines</td>\n",
       "      <td>PH</td>\n",
       "      <td>PHL</td>\n",
       "      <td>Manila</td>\n",
       "      <td>primary</td>\n",
       "      <td>23971000.0</td>\n",
       "      <td>1608618140</td>\n",
       "    </tr>\n",
       "    <tr>\n",
       "      <th>4</th>\n",
       "      <td>São Paulo</td>\n",
       "      <td>Sao Paulo</td>\n",
       "      <td>-23.5504</td>\n",
       "      <td>-46.6339</td>\n",
       "      <td>Brazil</td>\n",
       "      <td>BR</td>\n",
       "      <td>BRA</td>\n",
       "      <td>São Paulo</td>\n",
       "      <td>admin</td>\n",
       "      <td>22495000.0</td>\n",
       "      <td>1076532519</td>\n",
       "    </tr>\n",
       "    <tr>\n",
       "      <th>...</th>\n",
       "      <td>...</td>\n",
       "      <td>...</td>\n",
       "      <td>...</td>\n",
       "      <td>...</td>\n",
       "      <td>...</td>\n",
       "      <td>...</td>\n",
       "      <td>...</td>\n",
       "      <td>...</td>\n",
       "      <td>...</td>\n",
       "      <td>...</td>\n",
       "      <td>...</td>\n",
       "    </tr>\n",
       "    <tr>\n",
       "      <th>42900</th>\n",
       "      <td>Tukchi</td>\n",
       "      <td>Tukchi</td>\n",
       "      <td>57.3670</td>\n",
       "      <td>139.5000</td>\n",
       "      <td>Russia</td>\n",
       "      <td>RU</td>\n",
       "      <td>RUS</td>\n",
       "      <td>Khabarovskiy Kray</td>\n",
       "      <td>NaN</td>\n",
       "      <td>10.0</td>\n",
       "      <td>1643472801</td>\n",
       "    </tr>\n",
       "    <tr>\n",
       "      <th>42901</th>\n",
       "      <td>Numto</td>\n",
       "      <td>Numto</td>\n",
       "      <td>63.6667</td>\n",
       "      <td>71.3333</td>\n",
       "      <td>Russia</td>\n",
       "      <td>RU</td>\n",
       "      <td>RUS</td>\n",
       "      <td>Khanty-Mansiyskiy Avtonomnyy Okrug-Yugra</td>\n",
       "      <td>NaN</td>\n",
       "      <td>10.0</td>\n",
       "      <td>1643985006</td>\n",
       "    </tr>\n",
       "    <tr>\n",
       "      <th>42902</th>\n",
       "      <td>Nord</td>\n",
       "      <td>Nord</td>\n",
       "      <td>81.7166</td>\n",
       "      <td>-17.8000</td>\n",
       "      <td>Greenland</td>\n",
       "      <td>GL</td>\n",
       "      <td>GRL</td>\n",
       "      <td>Sermersooq</td>\n",
       "      <td>NaN</td>\n",
       "      <td>10.0</td>\n",
       "      <td>1304217709</td>\n",
       "    </tr>\n",
       "    <tr>\n",
       "      <th>42903</th>\n",
       "      <td>Timmiarmiut</td>\n",
       "      <td>Timmiarmiut</td>\n",
       "      <td>62.5333</td>\n",
       "      <td>-42.2167</td>\n",
       "      <td>Greenland</td>\n",
       "      <td>GL</td>\n",
       "      <td>GRL</td>\n",
       "      <td>Kujalleq</td>\n",
       "      <td>NaN</td>\n",
       "      <td>10.0</td>\n",
       "      <td>1304206491</td>\n",
       "    </tr>\n",
       "    <tr>\n",
       "      <th>42904</th>\n",
       "      <td>Nordvik</td>\n",
       "      <td>Nordvik</td>\n",
       "      <td>74.0165</td>\n",
       "      <td>111.5100</td>\n",
       "      <td>Russia</td>\n",
       "      <td>RU</td>\n",
       "      <td>RUS</td>\n",
       "      <td>Krasnoyarskiy Kray</td>\n",
       "      <td>NaN</td>\n",
       "      <td>0.0</td>\n",
       "      <td>1643587468</td>\n",
       "    </tr>\n",
       "  </tbody>\n",
       "</table>\n",
       "<p>42905 rows × 11 columns</p>\n",
       "</div>"
      ],
      "text/plain": [
       "              city   city_ascii      lat       lng      country iso2 iso3  \\\n",
       "0            Tokyo        Tokyo  35.6839  139.7744        Japan   JP  JPN   \n",
       "1          Jakarta      Jakarta  -6.2146  106.8451    Indonesia   ID  IDN   \n",
       "2            Delhi        Delhi  28.6667   77.2167        India   IN  IND   \n",
       "3           Manila       Manila  14.6000  120.9833  Philippines   PH  PHL   \n",
       "4        São Paulo    Sao Paulo -23.5504  -46.6339       Brazil   BR  BRA   \n",
       "...            ...          ...      ...       ...          ...  ...  ...   \n",
       "42900       Tukchi       Tukchi  57.3670  139.5000       Russia   RU  RUS   \n",
       "42901        Numto        Numto  63.6667   71.3333       Russia   RU  RUS   \n",
       "42902         Nord         Nord  81.7166  -17.8000    Greenland   GL  GRL   \n",
       "42903  Timmiarmiut  Timmiarmiut  62.5333  -42.2167    Greenland   GL  GRL   \n",
       "42904      Nordvik      Nordvik  74.0165  111.5100       Russia   RU  RUS   \n",
       "\n",
       "                                     admin_name  capital  population  \\\n",
       "0                                         Tōkyō  primary  39105000.0   \n",
       "1                                       Jakarta  primary  35362000.0   \n",
       "2                                         Delhi    admin  31870000.0   \n",
       "3                                        Manila  primary  23971000.0   \n",
       "4                                     São Paulo    admin  22495000.0   \n",
       "...                                         ...      ...         ...   \n",
       "42900                         Khabarovskiy Kray      NaN        10.0   \n",
       "42901  Khanty-Mansiyskiy Avtonomnyy Okrug-Yugra      NaN        10.0   \n",
       "42902                                Sermersooq      NaN        10.0   \n",
       "42903                                  Kujalleq      NaN        10.0   \n",
       "42904                        Krasnoyarskiy Kray      NaN         0.0   \n",
       "\n",
       "               id  \n",
       "0      1392685764  \n",
       "1      1360771077  \n",
       "2      1356872604  \n",
       "3      1608618140  \n",
       "4      1076532519  \n",
       "...           ...  \n",
       "42900  1643472801  \n",
       "42901  1643985006  \n",
       "42902  1304217709  \n",
       "42903  1304206491  \n",
       "42904  1643587468  \n",
       "\n",
       "[42905 rows x 11 columns]"
      ]
     },
     "execution_count": 143,
     "metadata": {},
     "output_type": "execute_result"
    }
   ],
   "source": [
    "wc = pd.read_csv(\"data/worldcities.csv\")\n",
    "wc"
   ]
  },
  {
   "cell_type": "code",
   "execution_count": 146,
   "metadata": {},
   "outputs": [
    {
     "data": {
      "text/html": [
       "<div>\n",
       "<style scoped>\n",
       "    .dataframe tbody tr th:only-of-type {\n",
       "        vertical-align: middle;\n",
       "    }\n",
       "\n",
       "    .dataframe tbody tr th {\n",
       "        vertical-align: top;\n",
       "    }\n",
       "\n",
       "    .dataframe thead th {\n",
       "        text-align: right;\n",
       "    }\n",
       "</style>\n",
       "<table border=\"1\" class=\"dataframe\">\n",
       "  <thead>\n",
       "    <tr style=\"text-align: right;\">\n",
       "      <th></th>\n",
       "      <th>city</th>\n",
       "      <th>city_ascii</th>\n",
       "      <th>lat</th>\n",
       "      <th>lng</th>\n",
       "      <th>country</th>\n",
       "      <th>iso2</th>\n",
       "      <th>iso3</th>\n",
       "      <th>admin_name</th>\n",
       "      <th>capital</th>\n",
       "      <th>population</th>\n",
       "      <th>id</th>\n",
       "    </tr>\n",
       "  </thead>\n",
       "  <tbody>\n",
       "    <tr>\n",
       "      <th>159</th>\n",
       "      <td>Barcelona</td>\n",
       "      <td>Barcelona</td>\n",
       "      <td>41.3825</td>\n",
       "      <td>2.1769</td>\n",
       "      <td>Spain</td>\n",
       "      <td>ES</td>\n",
       "      <td>ESP</td>\n",
       "      <td>Catalonia</td>\n",
       "      <td>admin</td>\n",
       "      <td>4735000.0</td>\n",
       "      <td>1724594040</td>\n",
       "    </tr>\n",
       "  </tbody>\n",
       "</table>\n",
       "</div>"
      ],
      "text/plain": [
       "          city city_ascii      lat     lng country iso2 iso3 admin_name  \\\n",
       "159  Barcelona  Barcelona  41.3825  2.1769   Spain   ES  ESP  Catalonia   \n",
       "\n",
       "    capital  population          id  \n",
       "159   admin   4735000.0  1724594040  "
      ]
     },
     "execution_count": 146,
     "metadata": {},
     "output_type": "execute_result"
    }
   ],
   "source": [
    "wc[(wc['city'].apply(lambda x: x.upper())=='BARCELONA')&(wc['country']=='Spain')]"
   ]
  },
  {
   "cell_type": "code",
   "execution_count": 158,
   "metadata": {},
   "outputs": [],
   "source": [
    "from haversine import haversine,Unit\n",
    "\n",
    "def get_ll(z):\n",
    "    return wc[(wc['city'].apply(lambda x: x.upper())==z)&(wc['country']=='Spain')][['lat','lng']].to_numpy()[0]\n"
   ]
  },
  {
   "cell_type": "code",
   "execution_count": 159,
   "metadata": {},
   "outputs": [
    {
     "data": {
      "text/plain": [
       "303.1806944035139"
      ]
     },
     "execution_count": 159,
     "metadata": {},
     "output_type": "execute_result"
    }
   ],
   "source": [
    "\n",
    "def dist(x,y):\n",
    "    p1 = get_ll(x)\n",
    "    p2 = get_ll(y)\n",
    "    return haversine(p1,p2,Unit.KILOMETERS)\n",
    "\n",
    "dist('BARCELONA','VALENCIA')"
   ]
  },
  {
   "cell_type": "code",
   "execution_count": 168,
   "metadata": {},
   "outputs": [
    {
     "data": {
      "text/html": [
       "<div>\n",
       "<style scoped>\n",
       "    .dataframe tbody tr th:only-of-type {\n",
       "        vertical-align: middle;\n",
       "    }\n",
       "\n",
       "    .dataframe tbody tr th {\n",
       "        vertical-align: top;\n",
       "    }\n",
       "\n",
       "    .dataframe thead th {\n",
       "        text-align: right;\n",
       "    }\n",
       "</style>\n",
       "<table border=\"1\" class=\"dataframe\">\n",
       "  <thead>\n",
       "    <tr style=\"text-align: right;\">\n",
       "      <th></th>\n",
       "      <th>origin</th>\n",
       "      <th>destination</th>\n",
       "      <th>price</th>\n",
       "      <th>count</th>\n",
       "      <th>dist</th>\n",
       "    </tr>\n",
       "  </thead>\n",
       "  <tbody>\n",
       "    <tr>\n",
       "      <th>0</th>\n",
       "      <td>BARCELONA</td>\n",
       "      <td>MADRID</td>\n",
       "      <td>87.650763</td>\n",
       "      <td>74601</td>\n",
       "      <td>506.741151</td>\n",
       "    </tr>\n",
       "    <tr>\n",
       "      <th>1</th>\n",
       "      <td>BARCELONA</td>\n",
       "      <td>VALENCIA</td>\n",
       "      <td>28.398702</td>\n",
       "      <td>52805</td>\n",
       "      <td>303.180694</td>\n",
       "    </tr>\n",
       "    <tr>\n",
       "      <th>2</th>\n",
       "      <td>BARCELONA</td>\n",
       "      <td>ZARAGOZA</td>\n",
       "      <td>45.023212</td>\n",
       "      <td>89570</td>\n",
       "      <td>256.506445</td>\n",
       "    </tr>\n",
       "    <tr>\n",
       "      <th>3</th>\n",
       "      <td>CÓRDOBA</td>\n",
       "      <td>MADRID</td>\n",
       "      <td>48.360269</td>\n",
       "      <td>72068</td>\n",
       "      <td>296.103026</td>\n",
       "    </tr>\n",
       "    <tr>\n",
       "      <th>4</th>\n",
       "      <td>LEÓN</td>\n",
       "      <td>MADRID</td>\n",
       "      <td>35.736532</td>\n",
       "      <td>21544</td>\n",
       "      <td>288.173699</td>\n",
       "    </tr>\n",
       "    <tr>\n",
       "      <th>5</th>\n",
       "      <td>MADRID</td>\n",
       "      <td>BARCELONA</td>\n",
       "      <td>88.673869</td>\n",
       "      <td>75701</td>\n",
       "      <td>506.741151</td>\n",
       "    </tr>\n",
       "    <tr>\n",
       "      <th>6</th>\n",
       "      <td>MADRID</td>\n",
       "      <td>CÓRDOBA</td>\n",
       "      <td>48.617650</td>\n",
       "      <td>72720</td>\n",
       "      <td>296.103026</td>\n",
       "    </tr>\n",
       "    <tr>\n",
       "      <th>7</th>\n",
       "      <td>MADRID</td>\n",
       "      <td>LEÓN</td>\n",
       "      <td>33.945905</td>\n",
       "      <td>24674</td>\n",
       "      <td>288.173699</td>\n",
       "    </tr>\n",
       "    <tr>\n",
       "      <th>8</th>\n",
       "      <td>MADRID</td>\n",
       "      <td>MÁLAGA</td>\n",
       "      <td>56.588611</td>\n",
       "      <td>27899</td>\n",
       "      <td>415.639080</td>\n",
       "    </tr>\n",
       "    <tr>\n",
       "      <th>9</th>\n",
       "      <td>MADRID</td>\n",
       "      <td>SEVILLA</td>\n",
       "      <td>55.630230</td>\n",
       "      <td>38794</td>\n",
       "      <td>389.790764</td>\n",
       "    </tr>\n",
       "    <tr>\n",
       "      <th>10</th>\n",
       "      <td>MADRID</td>\n",
       "      <td>VALENCIA</td>\n",
       "      <td>38.473595</td>\n",
       "      <td>58677</td>\n",
       "      <td>303.573264</td>\n",
       "    </tr>\n",
       "    <tr>\n",
       "      <th>11</th>\n",
       "      <td>MADRID</td>\n",
       "      <td>VALLADOLID</td>\n",
       "      <td>31.434265</td>\n",
       "      <td>108068</td>\n",
       "      <td>161.318295</td>\n",
       "    </tr>\n",
       "    <tr>\n",
       "      <th>12</th>\n",
       "      <td>MADRID</td>\n",
       "      <td>ZARAGOZA</td>\n",
       "      <td>46.799529</td>\n",
       "      <td>78585</td>\n",
       "      <td>274.364753</td>\n",
       "    </tr>\n",
       "    <tr>\n",
       "      <th>13</th>\n",
       "      <td>MÁLAGA</td>\n",
       "      <td>MADRID</td>\n",
       "      <td>57.867834</td>\n",
       "      <td>27080</td>\n",
       "      <td>415.639080</td>\n",
       "    </tr>\n",
       "    <tr>\n",
       "      <th>14</th>\n",
       "      <td>SEVILLA</td>\n",
       "      <td>MADRID</td>\n",
       "      <td>53.108830</td>\n",
       "      <td>36059</td>\n",
       "      <td>389.790764</td>\n",
       "    </tr>\n",
       "    <tr>\n",
       "      <th>15</th>\n",
       "      <td>VALENCIA</td>\n",
       "      <td>BARCELONA</td>\n",
       "      <td>29.550666</td>\n",
       "      <td>49957</td>\n",
       "      <td>303.180694</td>\n",
       "    </tr>\n",
       "    <tr>\n",
       "      <th>16</th>\n",
       "      <td>VALENCIA</td>\n",
       "      <td>MADRID</td>\n",
       "      <td>47.651189</td>\n",
       "      <td>58905</td>\n",
       "      <td>303.573264</td>\n",
       "    </tr>\n",
       "    <tr>\n",
       "      <th>17</th>\n",
       "      <td>VALLADOLID</td>\n",
       "      <td>MADRID</td>\n",
       "      <td>31.636902</td>\n",
       "      <td>104415</td>\n",
       "      <td>161.318295</td>\n",
       "    </tr>\n",
       "    <tr>\n",
       "      <th>18</th>\n",
       "      <td>ZARAGOZA</td>\n",
       "      <td>BARCELONA</td>\n",
       "      <td>46.577743</td>\n",
       "      <td>90817</td>\n",
       "      <td>256.506445</td>\n",
       "    </tr>\n",
       "    <tr>\n",
       "      <th>19</th>\n",
       "      <td>ZARAGOZA</td>\n",
       "      <td>MADRID</td>\n",
       "      <td>44.860734</td>\n",
       "      <td>83737</td>\n",
       "      <td>274.364753</td>\n",
       "    </tr>\n",
       "  </tbody>\n",
       "</table>\n",
       "</div>"
      ],
      "text/plain": [
       "        origin destination      price   count        dist\n",
       "0    BARCELONA      MADRID  87.650763   74601  506.741151\n",
       "1    BARCELONA    VALENCIA  28.398702   52805  303.180694\n",
       "2    BARCELONA    ZARAGOZA  45.023212   89570  256.506445\n",
       "3      CÓRDOBA      MADRID  48.360269   72068  296.103026\n",
       "4         LEÓN      MADRID  35.736532   21544  288.173699\n",
       "5       MADRID   BARCELONA  88.673869   75701  506.741151\n",
       "6       MADRID     CÓRDOBA  48.617650   72720  296.103026\n",
       "7       MADRID        LEÓN  33.945905   24674  288.173699\n",
       "8       MADRID      MÁLAGA  56.588611   27899  415.639080\n",
       "9       MADRID     SEVILLA  55.630230   38794  389.790764\n",
       "10      MADRID    VALENCIA  38.473595   58677  303.573264\n",
       "11      MADRID  VALLADOLID  31.434265  108068  161.318295\n",
       "12      MADRID    ZARAGOZA  46.799529   78585  274.364753\n",
       "13      MÁLAGA      MADRID  57.867834   27080  415.639080\n",
       "14     SEVILLA      MADRID  53.108830   36059  389.790764\n",
       "15    VALENCIA   BARCELONA  29.550666   49957  303.180694\n",
       "16    VALENCIA      MADRID  47.651189   58905  303.573264\n",
       "17  VALLADOLID      MADRID  31.636902  104415  161.318295\n",
       "18    ZARAGOZA   BARCELONA  46.577743   90817  256.506445\n",
       "19    ZARAGOZA      MADRID  44.860734   83737  274.364753"
      ]
     },
     "execution_count": 168,
     "metadata": {},
     "output_type": "execute_result"
    }
   ],
   "source": [
    "res['dist'] = res.apply(lambda x : dist(x['origin'],x['destination']),axis=1)\n",
    "res"
   ]
  },
  {
   "cell_type": "code",
   "execution_count": 169,
   "metadata": {},
   "outputs": [
    {
     "data": {
      "text/plain": [
       "<AxesSubplot:xlabel='dist', ylabel='price'>"
      ]
     },
     "execution_count": 169,
     "metadata": {},
     "output_type": "execute_result"
    },
    {
     "data": {
      "image/png": "[encoded data removed]",
      "text/plain": [
       "<Figure size 432x288 with 1 Axes>"
      ]
     },
     "metadata": {
      "needs_background": "light"
     },
     "output_type": "display_data"
    }
   ],
   "source": [
    "res.plot.scatter('dist','price')"
   ]
  },
  {
   "cell_type": "code",
   "execution_count": 179,
   "metadata": {},
   "outputs": [
    {
     "data": {
      "text/html": [
       "<div>\n",
       "<style scoped>\n",
       "    .dataframe tbody tr th:only-of-type {\n",
       "        vertical-align: middle;\n",
       "    }\n",
       "\n",
       "    .dataframe tbody tr th {\n",
       "        vertical-align: top;\n",
       "    }\n",
       "\n",
       "    .dataframe thead th {\n",
       "        text-align: right;\n",
       "    }\n",
       "</style>\n",
       "<table border=\"1\" class=\"dataframe\">\n",
       "  <thead>\n",
       "    <tr style=\"text-align: right;\">\n",
       "      <th></th>\n",
       "      <th>origin</th>\n",
       "      <th>destination</th>\n",
       "      <th>price</th>\n",
       "      <th>count</th>\n",
       "      <th>dist</th>\n",
       "      <th>dir</th>\n",
       "    </tr>\n",
       "  </thead>\n",
       "  <tbody>\n",
       "    <tr>\n",
       "      <th>0</th>\n",
       "      <td>BARCELONA</td>\n",
       "      <td>MADRID</td>\n",
       "      <td>87.650763</td>\n",
       "      <td>74601</td>\n",
       "      <td>506.741151</td>\n",
       "      <td>blue</td>\n",
       "    </tr>\n",
       "    <tr>\n",
       "      <th>1</th>\n",
       "      <td>BARCELONA</td>\n",
       "      <td>VALENCIA</td>\n",
       "      <td>28.398702</td>\n",
       "      <td>52805</td>\n",
       "      <td>303.180694</td>\n",
       "      <td>blue</td>\n",
       "    </tr>\n",
       "    <tr>\n",
       "      <th>2</th>\n",
       "      <td>BARCELONA</td>\n",
       "      <td>ZARAGOZA</td>\n",
       "      <td>45.023212</td>\n",
       "      <td>89570</td>\n",
       "      <td>256.506445</td>\n",
       "      <td>blue</td>\n",
       "    </tr>\n",
       "    <tr>\n",
       "      <th>3</th>\n",
       "      <td>CÓRDOBA</td>\n",
       "      <td>MADRID</td>\n",
       "      <td>48.360269</td>\n",
       "      <td>72068</td>\n",
       "      <td>296.103026</td>\n",
       "      <td>blue</td>\n",
       "    </tr>\n",
       "    <tr>\n",
       "      <th>4</th>\n",
       "      <td>LEÓN</td>\n",
       "      <td>MADRID</td>\n",
       "      <td>35.736532</td>\n",
       "      <td>21544</td>\n",
       "      <td>288.173699</td>\n",
       "      <td>blue</td>\n",
       "    </tr>\n",
       "    <tr>\n",
       "      <th>5</th>\n",
       "      <td>MADRID</td>\n",
       "      <td>BARCELONA</td>\n",
       "      <td>88.673869</td>\n",
       "      <td>75701</td>\n",
       "      <td>506.741151</td>\n",
       "      <td>red</td>\n",
       "    </tr>\n",
       "    <tr>\n",
       "      <th>6</th>\n",
       "      <td>MADRID</td>\n",
       "      <td>CÓRDOBA</td>\n",
       "      <td>48.617650</td>\n",
       "      <td>72720</td>\n",
       "      <td>296.103026</td>\n",
       "      <td>red</td>\n",
       "    </tr>\n",
       "    <tr>\n",
       "      <th>7</th>\n",
       "      <td>MADRID</td>\n",
       "      <td>LEÓN</td>\n",
       "      <td>33.945905</td>\n",
       "      <td>24674</td>\n",
       "      <td>288.173699</td>\n",
       "      <td>red</td>\n",
       "    </tr>\n",
       "    <tr>\n",
       "      <th>8</th>\n",
       "      <td>MADRID</td>\n",
       "      <td>MÁLAGA</td>\n",
       "      <td>56.588611</td>\n",
       "      <td>27899</td>\n",
       "      <td>415.639080</td>\n",
       "      <td>blue</td>\n",
       "    </tr>\n",
       "    <tr>\n",
       "      <th>9</th>\n",
       "      <td>MADRID</td>\n",
       "      <td>SEVILLA</td>\n",
       "      <td>55.630230</td>\n",
       "      <td>38794</td>\n",
       "      <td>389.790764</td>\n",
       "      <td>blue</td>\n",
       "    </tr>\n",
       "    <tr>\n",
       "      <th>10</th>\n",
       "      <td>MADRID</td>\n",
       "      <td>VALENCIA</td>\n",
       "      <td>38.473595</td>\n",
       "      <td>58677</td>\n",
       "      <td>303.573264</td>\n",
       "      <td>blue</td>\n",
       "    </tr>\n",
       "    <tr>\n",
       "      <th>11</th>\n",
       "      <td>MADRID</td>\n",
       "      <td>VALLADOLID</td>\n",
       "      <td>31.434265</td>\n",
       "      <td>108068</td>\n",
       "      <td>161.318295</td>\n",
       "      <td>blue</td>\n",
       "    </tr>\n",
       "    <tr>\n",
       "      <th>12</th>\n",
       "      <td>MADRID</td>\n",
       "      <td>ZARAGOZA</td>\n",
       "      <td>46.799529</td>\n",
       "      <td>78585</td>\n",
       "      <td>274.364753</td>\n",
       "      <td>blue</td>\n",
       "    </tr>\n",
       "    <tr>\n",
       "      <th>13</th>\n",
       "      <td>MÁLAGA</td>\n",
       "      <td>MADRID</td>\n",
       "      <td>57.867834</td>\n",
       "      <td>27080</td>\n",
       "      <td>415.639080</td>\n",
       "      <td>red</td>\n",
       "    </tr>\n",
       "    <tr>\n",
       "      <th>14</th>\n",
       "      <td>SEVILLA</td>\n",
       "      <td>MADRID</td>\n",
       "      <td>53.108830</td>\n",
       "      <td>36059</td>\n",
       "      <td>389.790764</td>\n",
       "      <td>red</td>\n",
       "    </tr>\n",
       "    <tr>\n",
       "      <th>15</th>\n",
       "      <td>VALENCIA</td>\n",
       "      <td>BARCELONA</td>\n",
       "      <td>29.550666</td>\n",
       "      <td>49957</td>\n",
       "      <td>303.180694</td>\n",
       "      <td>red</td>\n",
       "    </tr>\n",
       "    <tr>\n",
       "      <th>16</th>\n",
       "      <td>VALENCIA</td>\n",
       "      <td>MADRID</td>\n",
       "      <td>47.651189</td>\n",
       "      <td>58905</td>\n",
       "      <td>303.573264</td>\n",
       "      <td>red</td>\n",
       "    </tr>\n",
       "    <tr>\n",
       "      <th>17</th>\n",
       "      <td>VALLADOLID</td>\n",
       "      <td>MADRID</td>\n",
       "      <td>31.636902</td>\n",
       "      <td>104415</td>\n",
       "      <td>161.318295</td>\n",
       "      <td>red</td>\n",
       "    </tr>\n",
       "    <tr>\n",
       "      <th>18</th>\n",
       "      <td>ZARAGOZA</td>\n",
       "      <td>BARCELONA</td>\n",
       "      <td>46.577743</td>\n",
       "      <td>90817</td>\n",
       "      <td>256.506445</td>\n",
       "      <td>red</td>\n",
       "    </tr>\n",
       "    <tr>\n",
       "      <th>19</th>\n",
       "      <td>ZARAGOZA</td>\n",
       "      <td>MADRID</td>\n",
       "      <td>44.860734</td>\n",
       "      <td>83737</td>\n",
       "      <td>274.364753</td>\n",
       "      <td>red</td>\n",
       "    </tr>\n",
       "  </tbody>\n",
       "</table>\n",
       "</div>"
      ],
      "text/plain": [
       "        origin destination      price   count        dist   dir\n",
       "0    BARCELONA      MADRID  87.650763   74601  506.741151  blue\n",
       "1    BARCELONA    VALENCIA  28.398702   52805  303.180694  blue\n",
       "2    BARCELONA    ZARAGOZA  45.023212   89570  256.506445  blue\n",
       "3      CÓRDOBA      MADRID  48.360269   72068  296.103026  blue\n",
       "4         LEÓN      MADRID  35.736532   21544  288.173699  blue\n",
       "5       MADRID   BARCELONA  88.673869   75701  506.741151   red\n",
       "6       MADRID     CÓRDOBA  48.617650   72720  296.103026   red\n",
       "7       MADRID        LEÓN  33.945905   24674  288.173699   red\n",
       "8       MADRID      MÁLAGA  56.588611   27899  415.639080  blue\n",
       "9       MADRID     SEVILLA  55.630230   38794  389.790764  blue\n",
       "10      MADRID    VALENCIA  38.473595   58677  303.573264  blue\n",
       "11      MADRID  VALLADOLID  31.434265  108068  161.318295  blue\n",
       "12      MADRID    ZARAGOZA  46.799529   78585  274.364753  blue\n",
       "13      MÁLAGA      MADRID  57.867834   27080  415.639080   red\n",
       "14     SEVILLA      MADRID  53.108830   36059  389.790764   red\n",
       "15    VALENCIA   BARCELONA  29.550666   49957  303.180694   red\n",
       "16    VALENCIA      MADRID  47.651189   58905  303.573264   red\n",
       "17  VALLADOLID      MADRID  31.636902  104415  161.318295   red\n",
       "18    ZARAGOZA   BARCELONA  46.577743   90817  256.506445   red\n",
       "19    ZARAGOZA      MADRID  44.860734   83737  274.364753   red"
      ]
     },
     "execution_count": 179,
     "metadata": {},
     "output_type": "execute_result"
    }
   ],
   "source": [
    "res['dir'] = res.apply(lambda x : 'red' if x['origin']>x['destination'] else 'blue', axis=1)\n",
    "res"
   ]
  },
  {
   "cell_type": "code",
   "execution_count": 180,
   "metadata": {},
   "outputs": [
    {
     "data": {
      "text/plain": [
       "<AxesSubplot:xlabel='dist', ylabel='price'>"
      ]
     },
     "execution_count": 180,
     "metadata": {},
     "output_type": "execute_result"
    },
    {
     "data": {
      "image/png": "[encoded data removed]",
      "text/plain": [
       "<Figure size 432x288 with 1 Axes>"
      ]
     },
     "metadata": {
      "needs_background": "light"
     },
     "output_type": "display_data"
    }
   ],
   "source": [
    "res.plot.scatter('dist','price',c='dir')"
   ]
  },
  {
   "cell_type": "code",
   "execution_count": 182,
   "metadata": {},
   "outputs": [],
   "source": [
    "cache = {}\n",
    "def fastdist(x,y):\n",
    "    if cache.get(x+y):\n",
    "        return cache.get(x+y)\n",
    "    z = dist(x,y)\n",
    "    cache[x+y] = z\n",
    "    return z"
   ]
  },
  {
   "cell_type": "code",
   "execution_count": 183,
   "metadata": {},
   "outputs": [
    {
     "data": {
      "text/html": [
       "<div>\n",
       "<style scoped>\n",
       "    .dataframe tbody tr th:only-of-type {\n",
       "        vertical-align: middle;\n",
       "    }\n",
       "\n",
       "    .dataframe tbody tr th {\n",
       "        vertical-align: top;\n",
       "    }\n",
       "\n",
       "    .dataframe thead th {\n",
       "        text-align: right;\n",
       "    }\n",
       "</style>\n",
       "<table border=\"1\" class=\"dataframe\">\n",
       "  <thead>\n",
       "    <tr style=\"text-align: right;\">\n",
       "      <th></th>\n",
       "      <th>origin</th>\n",
       "      <th>destination</th>\n",
       "      <th>vehicle_class</th>\n",
       "      <th>price</th>\n",
       "      <th>dist</th>\n",
       "    </tr>\n",
       "  </thead>\n",
       "  <tbody>\n",
       "    <tr>\n",
       "      <th>0</th>\n",
       "      <td>MADRID</td>\n",
       "      <td>BARCELONA</td>\n",
       "      <td>Turista</td>\n",
       "      <td>108.90</td>\n",
       "      <td>506.741151</td>\n",
       "    </tr>\n",
       "    <tr>\n",
       "      <th>1</th>\n",
       "      <td>MADRID</td>\n",
       "      <td>BARCELONA</td>\n",
       "      <td>Turista Plus</td>\n",
       "      <td>115.65</td>\n",
       "      <td>506.741151</td>\n",
       "    </tr>\n",
       "    <tr>\n",
       "      <th>2</th>\n",
       "      <td>MADRID</td>\n",
       "      <td>BARCELONA</td>\n",
       "      <td>Turista</td>\n",
       "      <td>108.90</td>\n",
       "      <td>506.741151</td>\n",
       "    </tr>\n",
       "    <tr>\n",
       "      <th>3</th>\n",
       "      <td>MADRID</td>\n",
       "      <td>BARCELONA</td>\n",
       "      <td>Turista</td>\n",
       "      <td>108.90</td>\n",
       "      <td>506.741151</td>\n",
       "    </tr>\n",
       "    <tr>\n",
       "      <th>4</th>\n",
       "      <td>MADRID</td>\n",
       "      <td>BARCELONA</td>\n",
       "      <td>Turista</td>\n",
       "      <td>108.90</td>\n",
       "      <td>506.741151</td>\n",
       "    </tr>\n",
       "    <tr>\n",
       "      <th>...</th>\n",
       "      <td>...</td>\n",
       "      <td>...</td>\n",
       "      <td>...</td>\n",
       "      <td>...</td>\n",
       "      <td>...</td>\n",
       "    </tr>\n",
       "    <tr>\n",
       "      <th>1246671</th>\n",
       "      <td>ZARAGOZA</td>\n",
       "      <td>BARCELONA</td>\n",
       "      <td>Turista Plus</td>\n",
       "      <td>54.75</td>\n",
       "      <td>256.506445</td>\n",
       "    </tr>\n",
       "    <tr>\n",
       "      <th>1246672</th>\n",
       "      <td>ZARAGOZA</td>\n",
       "      <td>BARCELONA</td>\n",
       "      <td>Turista</td>\n",
       "      <td>60.90</td>\n",
       "      <td>256.506445</td>\n",
       "    </tr>\n",
       "    <tr>\n",
       "      <th>1246673</th>\n",
       "      <td>ZARAGOZA</td>\n",
       "      <td>BARCELONA</td>\n",
       "      <td>Turista</td>\n",
       "      <td>53.60</td>\n",
       "      <td>256.506445</td>\n",
       "    </tr>\n",
       "    <tr>\n",
       "      <th>1246674</th>\n",
       "      <td>ZARAGOZA</td>\n",
       "      <td>BARCELONA</td>\n",
       "      <td>Turista</td>\n",
       "      <td>60.90</td>\n",
       "      <td>256.506445</td>\n",
       "    </tr>\n",
       "    <tr>\n",
       "      <th>1246675</th>\n",
       "      <td>ZARAGOZA</td>\n",
       "      <td>BARCELONA</td>\n",
       "      <td>Turista</td>\n",
       "      <td>51.15</td>\n",
       "      <td>256.506445</td>\n",
       "    </tr>\n",
       "  </tbody>\n",
       "</table>\n",
       "<p>1246676 rows × 5 columns</p>\n",
       "</div>"
      ],
      "text/plain": [
       "           origin destination vehicle_class   price        dist\n",
       "0          MADRID   BARCELONA       Turista  108.90  506.741151\n",
       "1          MADRID   BARCELONA  Turista Plus  115.65  506.741151\n",
       "2          MADRID   BARCELONA       Turista  108.90  506.741151\n",
       "3          MADRID   BARCELONA       Turista  108.90  506.741151\n",
       "4          MADRID   BARCELONA       Turista  108.90  506.741151\n",
       "...           ...         ...           ...     ...         ...\n",
       "1246671  ZARAGOZA   BARCELONA  Turista Plus   54.75  256.506445\n",
       "1246672  ZARAGOZA   BARCELONA       Turista   60.90  256.506445\n",
       "1246673  ZARAGOZA   BARCELONA       Turista   53.60  256.506445\n",
       "1246674  ZARAGOZA   BARCELONA       Turista   60.90  256.506445\n",
       "1246675  ZARAGOZA   BARCELONA       Turista   51.15  256.506445\n",
       "\n",
       "[1246676 rows x 5 columns]"
      ]
     },
     "execution_count": 183,
     "metadata": {},
     "output_type": "execute_result"
    }
   ],
   "source": [
    "df['dist'] = df.apply(lambda x : fastdist(x['origin'],x['destination']),axis=1)\n",
    "df"
   ]
  },
  {
   "cell_type": "code",
   "execution_count": 188,
   "metadata": {},
   "outputs": [],
   "source": [
    "d = dict(enumerate(set(df['vehicle_class'])))\n",
    "rd = { v : k for k,v in d.items() }\n",
    "df['class'] = df['vehicle_class'].apply(lambda x : rd[x]+1)"
   ]
  },
  {
   "cell_type": "code",
   "execution_count": 191,
   "metadata": {},
   "outputs": [
    {
     "data": {
      "text/plain": [
       "<AxesSubplot:xlabel='dist', ylabel='price'>"
      ]
     },
     "execution_count": 191,
     "metadata": {},
     "output_type": "execute_result"
    },
    {
     "data": {
      "image/png": "[encoded data removed]",
      "text/plain": [
       "<Figure size 432x288 with 2 Axes>"
      ]
     },
     "metadata": {
      "needs_background": "light"
     },
     "output_type": "display_data"
    }
   ],
   "source": [
    "df.plot.scatter('dist','price',c='class',cmap='plasma')"
   ]
  },
  {
   "cell_type": "code",
   "execution_count": 192,
   "metadata": {},
   "outputs": [
    {
     "name": "stdout",
     "output_type": "stream",
     "text": [
      "0.15121872433691635 -0.0006853608377870473\n"
     ]
    }
   ],
   "source": [
    "x = df['dist']\n",
    "y = df['price']\n",
    "n = len(x)\n",
    "a = (x.sum()*y.sum()-n*(x*y).sum())/(x.sum()**2-n*(x**2).sum())\n",
    "b = (y.sum()*(x**2).sum()-x.sum()*(x*y).sum())/(x**2).sum()/(n-x.sum())\n",
    "print(a,b)"
   ]
  },
  {
   "cell_type": "code",
   "execution_count": 193,
   "metadata": {},
   "outputs": [
    {
     "data": {
      "text/plain": [
       "[<matplotlib.lines.Line2D at 0x220003a57c0>]"
      ]
     },
     "execution_count": 193,
     "metadata": {},
     "output_type": "execute_result"
    },
    {
     "data": {
      "image/png": "[encoded data removed]",
      "text/plain": [
       "<Figure size 432x288 with 2 Axes>"
      ]
     },
     "metadata": {
      "needs_background": "light"
     },
     "output_type": "display_data"
    }
   ],
   "source": [
    "df.plot.scatter('dist','price',c='class',cmap='plasma')\n",
    "plt.plot(x,a*x+b,color='red')"
   ]
  },
  {
   "attachments": {},
   "cell_type": "markdown",
   "metadata": {},
   "source": [
    "## TensorFlow"
   ]
  },
  {
   "cell_type": "code",
   "execution_count": 98,
   "metadata": {},
   "outputs": [],
   "source": [
    "import tensorflow as tf"
   ]
  },
  {
   "cell_type": "code",
   "execution_count": 105,
   "metadata": {},
   "outputs": [],
   "source": [
    "f = lambda x : tf.reduce_sum((x-tf.constant([1.0,2.0]))**2)+5.0\n"
   ]
  },
  {
   "cell_type": "code",
   "execution_count": 108,
   "metadata": {},
   "outputs": [
    {
     "name": "stdout",
     "output_type": "stream",
     "text": [
      "x=[0. 0.], f=10.0\n",
      "x=[0.2 0.4], f=8.200000762939453\n",
      "x=[0.36 0.72], f=7.047999858856201\n",
      "x=[0.48800004 0.9760001 ], f=6.310719966888428\n",
      "x=[0.59040004 1.1808001 ], f=5.838860511779785\n",
      "x=[0.67232 1.34464], f=5.536870956420898\n",
      "x=[0.73785603 1.4757121 ], f=5.343597412109375\n",
      "x=[0.7902848 1.5805696], f=5.219902515411377\n",
      "x=[0.8322278 1.6644557], f=5.140737533569336\n",
      "x=[0.86578226 1.7315645 ], f=5.090072154998779\n",
      "x=[0.8926258 1.7852516], f=5.05764627456665\n",
      "x=[0.91410065 1.8282013 ], f=5.036893367767334\n",
      "x=[0.9312805 1.862561 ], f=5.023612022399902\n",
      "x=[0.9450244 1.8900487], f=5.015111446380615\n",
      "x=[0.9560195 1.912039 ], f=5.009671211242676\n"
     ]
    }
   ],
   "source": [
    "x = tf.Variable([0.0,0.0])\n",
    "eta = 0.1\n",
    "for i in range(15):\n",
    "    print(f\"x={x.numpy()}, f={f(x)}\")\n",
    "    with tf.GradientTape() as t:\n",
    "        z = f(x)\n",
    "        df = t.gradient(z,x)\n",
    "    x.assign_add(-eta*df)"
   ]
  },
  {
   "cell_type": "code",
   "execution_count": null,
   "metadata": {},
   "outputs": [],
   "source": []
  }
 ],
 "metadata": {
  "kernelspec": {
   "display_name": "temp",
   "language": "python",
   "name": "python3"
  },
  "language_info": {
   "codemirror_mode": {
    "name": "ipython",
    "version": 3
   },
   "file_extension": ".py",
   "mimetype": "text/x-python",
   "name": "python",
   "nbconvert_exporter": "python",
   "pygments_lexer": "ipython3",
   "version": "3.9.12 (main, Apr  4 2022, 05:22:27) [MSC v.1916 64 bit (AMD64)]"
  },
  "orig_nbformat": 4,
  "vscode": {
   "interpreter": {
    "hash": "760f2c9d1a754aeadd4794d6ac5685dcde9814241ea5968d39887fe475be7426"
   }
  }
 },
 "nbformat": 4,
 "nbformat_minor": 2
}
